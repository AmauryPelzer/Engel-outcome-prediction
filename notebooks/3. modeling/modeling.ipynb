{
 "cells": [
  {
   "cell_type": "markdown",
   "metadata": {},
   "source": [
    "# Modeling\n",
    "\n",
    "## Import data"
   ]
  },
  {
   "cell_type": "code",
   "execution_count": 2,
   "metadata": {},
   "outputs": [],
   "source": [
    "import pandas as pd\n",
    "\n",
    "# Read dataframe from the pickle format\n",
    "wide_df = pd.read_pickle(\"../../data/processed/preprocessed_df.pkl\")"
   ]
  },
  {
   "cell_type": "markdown",
   "metadata": {},
   "source": [
    "## Select features"
   ]
  },
  {
   "cell_type": "code",
   "execution_count": 67,
   "metadata": {},
   "outputs": [],
   "source": [
    "#X = wide_df[[\"sex_gender\", \"age\", \"eeg\", \"engel_outcomes\", \"mri\",\n",
    "#             \"neuroanatomical_labeling\", \"neuropsychological_testing\",\n",
    "#             \"surgical_information\"]]\n",
    "\n",
    "X = wide_df[[\"sex_gender\", \"age\", \"eeg\", \"engel_outcomes\", \"mri\", \"phys_findings\", \"age_of_onset\", \"eo_yrs_postsurg\",\n",
    "             \"neuroanatomical_labeling\", \"neuropsychological_testing\", \"surg_stage\", \"neuro_findings\",\n",
    "             \"surgical_information\", \"resect_procedure___1\", \"resect_procedure___2\", \"resect_procedure___3\",\n",
    "             \"resect_procedure___4\", \"resect_procedure___5\", \"resect_procedure___6\", \"resect_procedure___7\",\n",
    "             \"resect_procedure___8\", \"resect_procedure___9\", \"resect_procedure___10\", \"resect_procedure___11\",\n",
    "             \"resect_procedure___12\", \"resect_procedure___14\", \"resect_procedure___15\"]]\n",
    "\n",
    "\n",
    "#X2 = wide_df.drop([\"surg_engel\", \"surg_engel___1\", \"surg_engel___2\", \"surg_engel___3\",\n",
    "#                   \"surg_engel___4\", \"engel_class1\", \"engel_class2\", \"engel_class3\",\n",
    "#                   \"engel_class4\",], axis=1)\n",
    "y = wide_df[\"surg_engel\"]\n",
    "\n",
    "# Turns the outcome variable from range [1,4] to [0,3]\n",
    "y = y - 1"
   ]
  },
  {
   "cell_type": "markdown",
   "metadata": {},
   "source": [
    "## Split data into train/test"
   ]
  },
  {
   "cell_type": "code",
   "execution_count": 68,
   "metadata": {},
   "outputs": [],
   "source": [
    "from sklearn.model_selection import train_test_split\n",
    "X_train, X_test, y_train, y_test = train_test_split(X, y, stratify=y, test_size=0.2, random_state=42)"
   ]
  },
  {
   "cell_type": "markdown",
   "metadata": {},
   "source": [
    "## Scale continuous variables"
   ]
  },
  {
   "cell_type": "code",
   "execution_count": 70,
   "metadata": {},
   "outputs": [],
   "source": [
    "from sklearn.compose import ColumnTransformer\n",
    "from sklearn.preprocessing import StandardScaler\n",
    "\n",
    "X_train.fillna(X_train.mean(), inplace=True)\n",
    "X_test.fillna(X_train.mean(), inplace=True)\n",
    "\n",
    "column_transformer = ColumnTransformer(\n",
    "    transformers=[\n",
    "        ('age', StandardScaler(), ['age']),\n",
    "        ('age_of_onset', StandardScaler(), ['age_of_onset']),\n",
    "        ('eo_yrs_postsurg', StandardScaler(), ['eo_yrs_postsurg'])\n",
    "        # Add more transformers for other columns if needed\n",
    "    ],\n",
    "    remainder='passthrough'  # Keep the columns not specified in transformers unchanged\n",
    ")\n",
    "\n",
    "X_train_scaled = column_transformer.fit_transform(X_train)\n",
    "X_test_scaled = column_transformer.transform(X_test)"
   ]
  },
  {
   "cell_type": "code",
   "execution_count": 71,
   "metadata": {},
   "outputs": [
    {
     "name": "stderr",
     "output_type": "stream",
     "text": [
      "c:\\Users\\Amaury\\AppData\\Local\\Programs\\Python\\Python311\\Lib\\site-packages\\sklearn\\neural_network\\_multilayer_perceptron.py:691: ConvergenceWarning: Stochastic Optimizer: Maximum iterations (1000) reached and the optimization hasn't converged yet.\n",
      "  warnings.warn(\n",
      "c:\\Users\\Amaury\\AppData\\Local\\Programs\\Python\\Python311\\Lib\\site-packages\\sklearn\\neural_network\\_multilayer_perceptron.py:691: ConvergenceWarning: Stochastic Optimizer: Maximum iterations (1000) reached and the optimization hasn't converged yet.\n",
      "  warnings.warn(\n",
      "c:\\Users\\Amaury\\AppData\\Local\\Programs\\Python\\Python311\\Lib\\site-packages\\sklearn\\neural_network\\_multilayer_perceptron.py:691: ConvergenceWarning: Stochastic Optimizer: Maximum iterations (1000) reached and the optimization hasn't converged yet.\n",
      "  warnings.warn(\n",
      "c:\\Users\\Amaury\\AppData\\Local\\Programs\\Python\\Python311\\Lib\\site-packages\\sklearn\\neural_network\\_multilayer_perceptron.py:691: ConvergenceWarning: Stochastic Optimizer: Maximum iterations (1000) reached and the optimization hasn't converged yet.\n",
      "  warnings.warn(\n",
      "c:\\Users\\Amaury\\AppData\\Local\\Programs\\Python\\Python311\\Lib\\site-packages\\sklearn\\neural_network\\_multilayer_perceptron.py:691: ConvergenceWarning: Stochastic Optimizer: Maximum iterations (1000) reached and the optimization hasn't converged yet.\n",
      "  warnings.warn(\n",
      "c:\\Users\\Amaury\\AppData\\Local\\Programs\\Python\\Python311\\Lib\\site-packages\\sklearn\\neural_network\\_multilayer_perceptron.py:691: ConvergenceWarning: Stochastic Optimizer: Maximum iterations (1000) reached and the optimization hasn't converged yet.\n",
      "  warnings.warn(\n"
     ]
    },
    {
     "data": {
      "image/png": "[encoded data removed]",
      "text/plain": [
       "<Figure size 640x480 with 1 Axes>"
      ]
     },
     "metadata": {},
     "output_type": "display_data"
    }
   ],
   "source": [
    "import matplotlib.pyplot as plt\n",
    "from sklearn.model_selection import cross_val_score, KFold\n",
    "from sklearn.neighbors import KNeighborsClassifier\n",
    "from sklearn.linear_model import LogisticRegression\n",
    "from sklearn.tree import DecisionTreeClassifier\n",
    "from sklearn.ensemble import RandomForestClassifier\n",
    "from sklearn.svm import SVC\n",
    "from sklearn.neural_network import MLPClassifier\n",
    "\n",
    "models = {\"Logistic Regression\": LogisticRegression(max_iter=1000),\"KNN\": KNeighborsClassifier(),\n",
    "          \"Decision Tree\": DecisionTreeClassifier(), \"RF\": RandomForestClassifier(),\n",
    "          \"SVM\": SVC(max_iter=1000), \"NN\": MLPClassifier(max_iter=1000, random_state=42)}\n",
    "results = []\n",
    "\n",
    "for model in models.values():\n",
    "\tkf = KFold(n_splits=6, random_state=42, shuffle=True)\n",
    "\tcv_results = cross_val_score(model, X_train_scaled, y_train, cv=kf)\n",
    "\tresults.append(cv_results)\n",
    "\n",
    "plt.boxplot(results, labels=models.keys())\n",
    "plt.show()"
   ]
  },
  {
   "cell_type": "markdown",
   "metadata": {},
   "source": [
    "## Logistic Regression"
   ]
  },
  {
   "cell_type": "code",
   "execution_count": 73,
   "metadata": {},
   "outputs": [
    {
     "name": "stdout",
     "output_type": "stream",
     "text": [
      "Accuracy: 0.67\n"
     ]
    },
    {
     "name": "stderr",
     "output_type": "stream",
     "text": [
      "c:\\Users\\Amaury\\AppData\\Local\\Programs\\Python\\Python311\\Lib\\site-packages\\sklearn\\linear_model\\_logistic.py:460: ConvergenceWarning: lbfgs failed to converge (status=1):\n",
      "STOP: TOTAL NO. of ITERATIONS REACHED LIMIT.\n",
      "\n",
      "Increase the number of iterations (max_iter) or scale the data as shown in:\n",
      "    https://scikit-learn.org/stable/modules/preprocessing.html\n",
      "Please also refer to the documentation for alternative solver options:\n",
      "    https://scikit-learn.org/stable/modules/linear_model.html#logistic-regression\n",
      "  n_iter_i = _check_optimize_result(\n"
     ]
    }
   ],
   "source": [
    "from sklearn.linear_model import LogisticRegression\n",
    "from sklearn.metrics import accuracy_score\n",
    "\n",
    "# Create a Logistic Regression classifier\n",
    "lr = LogisticRegression(multi_class='multinomial', solver='lbfgs', max_iter=1000, random_state=42)\n",
    "\n",
    "# Train the classifier on the training data\n",
    "lr.fit(X_train, y_train)\n",
    "\n",
    "# Make predictions on the test data\n",
    "y_pred = lr.predict(X_test)\n",
    "\n",
    "# Evaluate the accuracy of the model\n",
    "accuracy = accuracy_score(y_test, y_pred)\n",
    "print(f\"Accuracy: {accuracy:.2f}\")\n"
   ]
  },
  {
   "cell_type": "markdown",
   "metadata": {},
   "source": [
    "## Decision Tree classifier"
   ]
  },
  {
   "cell_type": "code",
   "execution_count": 74,
   "metadata": {},
   "outputs": [
    {
     "name": "stdout",
     "output_type": "stream",
     "text": [
      "Accuracy: 0.57\n"
     ]
    }
   ],
   "source": [
    "from sklearn.tree import DecisionTreeClassifier\n",
    "from sklearn.metrics import accuracy_score\n",
    "\n",
    "clf = DecisionTreeClassifier(random_state=42)\n",
    "\n",
    "# Turn outcome variable into dummy variables\n",
    "y_train_encoded = pd.get_dummies(y_train, columns=[\"surg_engel\"], drop_first=True)\n",
    "y_test_encoded = pd.get_dummies(y_test, columns=[\"surg_engel\"], drop_first=True)\n",
    "\n",
    "# Train the classifier on the training data\n",
    "clf.fit(X_train, y_train_encoded)\n",
    "\n",
    "# Make predictions on the test data\n",
    "y_pred = clf.predict(X_test)\n",
    "\n",
    "# Evaluate the accuracy of the model\n",
    "accuracy = accuracy_score(y_test_encoded, y_pred)\n",
    "print(f\"Accuracy: {accuracy:.2f}\")"
   ]
  },
  {
   "cell_type": "markdown",
   "metadata": {},
   "source": [
    "## Random Forest"
   ]
  },
  {
   "cell_type": "code",
   "execution_count": 75,
   "metadata": {},
   "outputs": [
    {
     "name": "stdout",
     "output_type": "stream",
     "text": [
      "Accuracy: 0.66\n"
     ]
    }
   ],
   "source": [
    "from sklearn.ensemble import RandomForestClassifier\n",
    "from sklearn.metrics import accuracy_score\n",
    "\n",
    "# Create a Random Forest classifier\n",
    "clf = RandomForestClassifier(n_estimators=100, random_state=42)\n",
    "\n",
    "# Train the classifier on the training data\n",
    "clf.fit(X_train, y_train)\n",
    "\n",
    "# Make predictions on the test data\n",
    "y_pred = clf.predict(X_test)\n",
    "\n",
    "# Evaluate the accuracy of the model\n",
    "accuracy = accuracy_score(y_test, y_pred)\n",
    "print(f\"Accuracy: {accuracy:.2f}\")\n"
   ]
  },
  {
   "cell_type": "markdown",
   "metadata": {},
   "source": [
    "## Support Vector Machines (SVM)"
   ]
  },
  {
   "cell_type": "code",
   "execution_count": 76,
   "metadata": {},
   "outputs": [
    {
     "name": "stdout",
     "output_type": "stream",
     "text": [
      "Accuracy: 0.67\n"
     ]
    }
   ],
   "source": [
    "from sklearn.svm import SVC\n",
    "from sklearn.metrics import accuracy_score\n",
    "\n",
    "# Create an SVM classifier\n",
    "clf = SVC(kernel='linear', C=1, random_state=42)\n",
    "\n",
    "# Train the classifier on the training data\n",
    "clf.fit(X_train, y_train)\n",
    "\n",
    "# Make predictions on the test data\n",
    "y_pred = clf.predict(X_test)\n",
    "\n",
    "# Evaluate the accuracy of the model\n",
    "accuracy = accuracy_score(y_test, y_pred)\n",
    "print(f\"Accuracy: {accuracy:.2f}\")\n"
   ]
  },
  {
   "cell_type": "markdown",
   "metadata": {},
   "source": [
    "## Neural Network"
   ]
  },
  {
   "cell_type": "code",
   "execution_count": 78,
   "metadata": {},
   "outputs": [
    {
     "name": "stdout",
     "output_type": "stream",
     "text": [
      "Epoch 1/15\n",
      "14/14 - 1s - loss: 1.2114 - accuracy: 0.6227 - val_loss: 1.1033 - val_accuracy: 0.6422 - 1s/epoch - 104ms/step\n",
      "Epoch 2/15\n",
      "14/14 - 0s - loss: 1.0893 - accuracy: 0.6227 - val_loss: 1.0730 - val_accuracy: 0.6422 - 72ms/epoch - 5ms/step\n",
      "Epoch 3/15\n",
      "14/14 - 0s - loss: 1.0439 - accuracy: 0.6227 - val_loss: 1.0529 - val_accuracy: 0.6422 - 68ms/epoch - 5ms/step\n",
      "Epoch 4/15\n",
      "14/14 - 0s - loss: 1.0147 - accuracy: 0.6227 - val_loss: 1.0365 - val_accuracy: 0.6422 - 80ms/epoch - 6ms/step\n",
      "Epoch 5/15\n",
      "14/14 - 0s - loss: 0.9906 - accuracy: 0.6227 - val_loss: 1.0326 - val_accuracy: 0.6422 - 69ms/epoch - 5ms/step\n",
      "Epoch 6/15\n",
      "14/14 - 0s - loss: 0.9742 - accuracy: 0.6435 - val_loss: 1.0280 - val_accuracy: 0.6514 - 68ms/epoch - 5ms/step\n",
      "Epoch 7/15\n",
      "14/14 - 0s - loss: 0.9610 - accuracy: 0.6505 - val_loss: 1.0216 - val_accuracy: 0.6514 - 76ms/epoch - 5ms/step\n",
      "Epoch 8/15\n",
      "14/14 - 0s - loss: 0.9441 - accuracy: 0.6528 - val_loss: 1.0176 - val_accuracy: 0.6606 - 71ms/epoch - 5ms/step\n",
      "Epoch 9/15\n",
      "14/14 - 0s - loss: 0.9323 - accuracy: 0.6481 - val_loss: 1.0180 - val_accuracy: 0.6606 - 74ms/epoch - 5ms/step\n",
      "Epoch 10/15\n",
      "14/14 - 0s - loss: 0.9122 - accuracy: 0.6551 - val_loss: 1.0176 - val_accuracy: 0.6606 - 67ms/epoch - 5ms/step\n",
      "Epoch 11/15\n",
      "14/14 - 0s - loss: 0.8939 - accuracy: 0.6667 - val_loss: 1.0312 - val_accuracy: 0.6514 - 71ms/epoch - 5ms/step\n",
      "Epoch 12/15\n",
      "14/14 - 0s - loss: 0.8763 - accuracy: 0.6644 - val_loss: 1.0291 - val_accuracy: 0.6330 - 70ms/epoch - 5ms/step\n",
      "Epoch 13/15\n",
      "14/14 - 0s - loss: 0.8678 - accuracy: 0.6736 - val_loss: 1.0254 - val_accuracy: 0.6514 - 70ms/epoch - 5ms/step\n",
      "Epoch 14/15\n",
      "14/14 - 0s - loss: 0.8338 - accuracy: 0.6852 - val_loss: 1.0395 - val_accuracy: 0.6514 - 74ms/epoch - 5ms/step\n",
      "Epoch 15/15\n",
      "14/14 - 0s - loss: 0.8109 - accuracy: 0.6921 - val_loss: 1.0933 - val_accuracy: 0.5688 - 68ms/epoch - 5ms/step\n",
      "5/5 [==============================] - 0s 2ms/step\n",
      "Accuracy: 0.70\n"
     ]
    }
   ],
   "source": [
    "import tensorflow as tf\n",
    "\n",
    "# Create a simple neural network model using Keras\n",
    "model = tf.keras.Sequential([\n",
    "    tf.keras.layers.Dense(64, activation='relu', input_shape=(X_train.shape[1],)),\n",
    "    tf.keras.layers.Dense(32, activation='relu'),\n",
    "    tf.keras.layers.Dense(32, activation='relu'),\n",
    "    tf.keras.layers.Dense(32, activation='relu'),\n",
    "    tf.keras.layers.Dense(32, activation='relu'),\n",
    "    tf.keras.layers.Dense(len(set(y_train)), activation='softmax')  # Output layer for multiclass classification\n",
    "])\n",
    "\n",
    "# Compile the model\n",
    "model.compile(optimizer='adam', loss='sparse_categorical_crossentropy', metrics=['accuracy'])\n",
    "\n",
    "# Train the model on the training data\n",
    "model.fit(X_train_scaled, y_train, epochs=15, batch_size=32, validation_split=0.2, verbose=2)\n",
    "\n",
    "# Make predictions on the test data\n",
    "y_pred_prob = model.predict(X_test_scaled)\n",
    "y_pred = tf.argmax(y_pred_prob, axis=1).numpy()\n",
    "\n",
    "# Evaluate the accuracy of the model\n",
    "accuracy = accuracy_score(y_test, y_pred)\n",
    "print(f\"Accuracy: {accuracy:.2f}\")\n"
   ]
  },
  {
   "cell_type": "markdown",
   "metadata": {},
   "source": [
    "## Perform PCA"
   ]
  },
  {
   "cell_type": "code",
   "execution_count": 79,
   "metadata": {},
   "outputs": [
    {
     "ename": "NameError",
     "evalue": "name 'X2' is not defined",
     "output_type": "error",
     "traceback": [
      "\u001b[1;31m---------------------------------------------------------------------------\u001b[0m",
      "\u001b[1;31mNameError\u001b[0m                                 Traceback (most recent call last)",
      "\u001b[1;32mc:\\Users\\Amaury\\The University of Melbourne\\Engel-outcome-prediction\\notebooks\\3. modeling\\modeling.ipynb Cell 21\u001b[0m line \u001b[0;36m8\n\u001b[0;32m      <a href='vscode-notebook-cell:/c%3A/Users/Amaury/The%20University%20of%20Melbourne/Engel-outcome-prediction/notebooks/3.%20modeling/modeling.ipynb#X24sZmlsZQ%3D%3D?line=4'>5</a>\u001b[0m \u001b[39mimport\u001b[39;00m \u001b[39mmatplotlib\u001b[39;00m\u001b[39m.\u001b[39;00m\u001b[39mpyplot\u001b[39;00m \u001b[39mas\u001b[39;00m \u001b[39mplt\u001b[39;00m\n\u001b[0;32m      <a href='vscode-notebook-cell:/c%3A/Users/Amaury/The%20University%20of%20Melbourne/Engel-outcome-prediction/notebooks/3.%20modeling/modeling.ipynb#X24sZmlsZQ%3D%3D?line=6'>7</a>\u001b[0m \u001b[39m# Extract numerical features\u001b[39;00m\n\u001b[1;32m----> <a href='vscode-notebook-cell:/c%3A/Users/Amaury/The%20University%20of%20Melbourne/Engel-outcome-prediction/notebooks/3.%20modeling/modeling.ipynb#X24sZmlsZQ%3D%3D?line=7'>8</a>\u001b[0m numerical_features \u001b[39m=\u001b[39m X2\u001b[39m.\u001b[39mselect_dtypes(include\u001b[39m=\u001b[39m[\u001b[39m'\u001b[39m\u001b[39mfloat64\u001b[39m\u001b[39m'\u001b[39m, \u001b[39m'\u001b[39m\u001b[39mint64\u001b[39m\u001b[39m'\u001b[39m])\u001b[39m.\u001b[39mcopy()\n\u001b[0;32m     <a href='vscode-notebook-cell:/c%3A/Users/Amaury/The%20University%20of%20Melbourne/Engel-outcome-prediction/notebooks/3.%20modeling/modeling.ipynb#X24sZmlsZQ%3D%3D?line=9'>10</a>\u001b[0m \u001b[39m# Impute missing values\u001b[39;00m\n\u001b[0;32m     <a href='vscode-notebook-cell:/c%3A/Users/Amaury/The%20University%20of%20Melbourne/Engel-outcome-prediction/notebooks/3.%20modeling/modeling.ipynb#X24sZmlsZQ%3D%3D?line=10'>11</a>\u001b[0m imputer \u001b[39m=\u001b[39m SimpleImputer(strategy\u001b[39m=\u001b[39m\u001b[39m'\u001b[39m\u001b[39mmean\u001b[39m\u001b[39m'\u001b[39m)  \u001b[39m# You can use other strategies like 'median' or 'most_frequent'\u001b[39;00m\n",
      "\u001b[1;31mNameError\u001b[0m: name 'X2' is not defined"
     ]
    }
   ],
   "source": [
    "import pandas as pd\n",
    "from sklearn.decomposition import PCA\n",
    "from sklearn.impute import SimpleImputer\n",
    "from sklearn.preprocessing import StandardScaler\n",
    "import matplotlib.pyplot as plt\n",
    "\n",
    "# Extract numerical features\n",
    "numerical_features = X2.select_dtypes(include=['float64', 'int64']).copy()\n",
    "\n",
    "# Impute missing values\n",
    "imputer = SimpleImputer(strategy='mean')  # You can use other strategies like 'median' or 'most_frequent'\n",
    "numerical_features_imputed = pd.DataFrame(imputer.fit_transform(numerical_features), columns=numerical_features.columns)\n",
    "\n",
    "# Data preprocessing (standardization)\n",
    "scaler = StandardScaler()\n",
    "numerical_features_scaled = scaler.fit_transform(numerical_features_imputed)\n",
    "\n",
    "# Perform PCA\n",
    "pca = PCA()\n",
    "pca_result = pca.fit_transform(numerical_features_scaled)\n",
    "\n",
    "# Plot explained variance ratio\n",
    "explained_variance_ratio = pca.explained_variance_ratio_\n",
    "cumulative_variance_ratio = explained_variance_ratio.cumsum()\n",
    "\n",
    "plt.plot(range(1, len(explained_variance_ratio) + 1), cumulative_variance_ratio, marker='o', linestyle='--')\n",
    "plt.xlabel('Number of Principal Components')\n",
    "plt.ylabel('Cumulative Explained Variance Ratio')\n",
    "plt.title('Cumulative Explained Variance Ratio for PCA')\n",
    "plt.show()"
   ]
  },
  {
   "cell_type": "code",
   "execution_count": 75,
   "metadata": {},
   "outputs": [
    {
     "name": "stdout",
     "output_type": "stream",
     "text": [
      "Accuracy: 0.68\n"
     ]
    }
   ],
   "source": [
    "from sklearn.decomposition import PCA\n",
    "from sklearn.impute import SimpleImputer\n",
    "from sklearn.ensemble import RandomForestClassifier\n",
    "from sklearn.model_selection import train_test_split\n",
    "from sklearn.metrics import accuracy_score\n",
    "from sklearn.preprocessing import StandardScaler\n",
    "\n",
    "X2 = wide_df.drop([\"surg_engel\", \"surg_engel___1\", \"surg_engel___2\", \"surg_engel___3\",\n",
    "                   \"surg_engel___4\", \"engel_class1\", \"engel_class2\", \"engel_class3\",\n",
    "                   \"engel_class4\",], axis=1)\n",
    "# Extract numerical features\n",
    "numerical_features = X2.select_dtypes(include=['float64', 'int64']).copy()\n",
    "\n",
    "# Split the data into training and testing sets\n",
    "X_train, X_test, y_train, y_test = train_test_split(numerical_features, y, test_size=0.2, random_state=42)\n",
    "\n",
    "# Impute missing values separately for training and testing sets\n",
    "imputer = SimpleImputer(strategy='mean')\n",
    "X_train_imputed = pd.DataFrame(imputer.fit_transform(X_train), columns=X_train.columns)\n",
    "X_test_imputed = pd.DataFrame(imputer.transform(X_test), columns=X_test.columns)\n",
    "\n",
    "# Data preprocessing (standardization)\n",
    "scaler = StandardScaler()\n",
    "X_train_scaled = scaler.fit_transform(X_train_imputed)\n",
    "X_test_scaled = scaler.transform(X_test_imputed)\n",
    "\n",
    "# Perform PCA\n",
    "pca = PCA(n_components=50)  # Choose the number of components based on your analysis\n",
    "pca_result_train = pca.fit_transform(X_train_scaled)\n",
    "pca_result_test = pca.transform(X_test_scaled)\n",
    "\n",
    "# Create a Random Forest classifier\n",
    "clf = SVC(kernel='linear', C=1.0, random_state=42)\n",
    "\n",
    "# Train the classifier on the training data\n",
    "clf.fit(pca_result_train, y_train)\n",
    "\n",
    "# Make predictions on the test data\n",
    "y_pred = clf.predict(pca_result_test)\n",
    "\n",
    "# Evaluate the accuracy of the model\n",
    "accuracy = accuracy_score(y_test, y_pred)\n",
    "print(f\"Accuracy: {accuracy:.2f}\")"
   ]
  },
  {
   "cell_type": "markdown",
   "metadata": {},
   "source": [
    "## Print system information"
   ]
  },
  {
   "cell_type": "code",
   "execution_count": 3,
   "metadata": {},
   "outputs": [
    {
     "data": {
      "text/html": [
       "<details>\n",
       "<summary>Click to view session information</summary>\n",
       "<pre>\n",
       "-----\n",
       "pandas              2.1.3\n",
       "session_info        1.0.0\n",
       "-----\n",
       "</pre>\n",
       "<details>\n",
       "<summary>Click to view modules imported as dependencies</summary>\n",
       "<pre>\n",
       "anyio                       NA\n",
       "arrow                       1.3.0\n",
       "asttokens                   NA\n",
       "attr                        23.1.0\n",
       "attrs                       23.1.0\n",
       "babel                       2.13.1\n",
       "certifi                     2023.11.17\n",
       "charset_normalizer          3.3.2\n",
       "colorama                    0.4.6\n",
       "comm                        0.2.0\n",
       "cython_runtime              NA\n",
       "dateutil                    2.8.2\n",
       "debugpy                     1.8.0\n",
       "decorator                   5.1.1\n",
       "entrypoints                 0.4\n",
       "executing                   2.0.1\n",
       "fastjsonschema              NA\n",
       "fqdn                        NA\n",
       "idna                        3.4\n",
       "ipykernel                   6.27.0\n",
       "isoduration                 NA\n",
       "jedi                        0.19.1\n",
       "jinja2                      3.1.2\n",
       "json5                       NA\n",
       "jsonpointer                 2.4\n",
       "jsonschema                  4.20.0\n",
       "jsonschema_specifications   NA\n",
       "jupyter_events              0.9.0\n",
       "jupyter_server              2.11.0\n",
       "jupyterlab_server           2.25.2\n",
       "markupsafe                  2.1.3\n",
       "nbformat                    5.9.2\n",
       "numpy                       1.26.2\n",
       "overrides                   NA\n",
       "packaging                   23.2\n",
       "parso                       0.8.3\n",
       "platformdirs                4.0.0\n",
       "prometheus_client           NA\n",
       "prompt_toolkit              3.0.41\n",
       "psutil                      5.9.6\n",
       "pure_eval                   0.2.2\n",
       "pydev_ipython               NA\n",
       "pydevconsole                NA\n",
       "pydevd                      2.9.5\n",
       "pydevd_file_utils           NA\n",
       "pydevd_plugins              NA\n",
       "pydevd_tracing              NA\n",
       "pygments                    2.17.2\n",
       "pythoncom                   NA\n",
       "pythonjsonlogger            NA\n",
       "pytz                        2023.3.post1\n",
       "pywin32_bootstrap           NA\n",
       "pywin32_system32            NA\n",
       "pywintypes                  NA\n",
       "referencing                 NA\n",
       "requests                    2.31.0\n",
       "rfc3339_validator           0.1.4\n",
       "rfc3986_validator           0.1.1\n",
       "rpds                        NA\n",
       "send2trash                  NA\n",
       "six                         1.16.0\n",
       "sniffio                     1.3.0\n",
       "stack_data                  0.6.3\n",
       "tornado                     6.3.3\n",
       "traitlets                   5.13.0\n",
       "uri_template                NA\n",
       "urllib3                     2.1.0\n",
       "wcwidth                     0.2.12\n",
       "webcolors                   1.13\n",
       "websocket                   1.6.4\n",
       "win32api                    NA\n",
       "win32com                    NA\n",
       "win32con                    NA\n",
       "win32trace                  NA\n",
       "winerror                    NA\n",
       "yaml                        6.0.1\n",
       "zmq                         24.0.1\n",
       "</pre>\n",
       "</details> <!-- seems like this ends pre, so might as well be explicit -->\n",
       "<pre>\n",
       "-----\n",
       "IPython             8.17.2\n",
       "jupyter_client      7.4.9\n",
       "jupyter_core        5.5.0\n",
       "jupyterlab          4.0.9\n",
       "notebook            7.0.6\n",
       "-----\n",
       "Python 3.11.0 (main, Oct 24 2022, 18:26:48) [MSC v.1933 64 bit (AMD64)]\n",
       "Windows-10-10.0.22631-SP0\n",
       "-----\n",
       "Session information updated at 2023-11-22 17:06\n",
       "</pre>\n",
       "</details>"
      ],
      "text/plain": [
       "<IPython.core.display.HTML object>"
      ]
     },
     "execution_count": 3,
     "metadata": {},
     "output_type": "execute_result"
    }
   ],
   "source": [
    "import session_info\n",
    "\n",
    "session_info.show()"
   ]
  }
 ],
 "metadata": {
  "kernelspec": {
   "display_name": "Python 3",
   "language": "python",
   "name": "python3"
  },
  "language_info": {
   "codemirror_mode": {
    "name": "ipython",
    "version": 3
   },
   "file_extension": ".py",
   "mimetype": "text/x-python",
   "name": "python",
   "nbconvert_exporter": "python",
   "pygments_lexer": "ipython3",
   "version": "3.11.0"
  }
 },
 "nbformat": 4,
 "nbformat_minor": 2
}
