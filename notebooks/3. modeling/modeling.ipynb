{
 "cells": [
  {
   "cell_type": "markdown",
   "metadata": {},
   "source": [
    "# Modeling\n",
    "\n",
    "## Import data"
   ]
  },
  {
   "cell_type": "code",
   "execution_count": 36,
   "metadata": {},
   "outputs": [],
   "source": [
    "import pandas as pd\n",
    "\n",
    "# Read dataframe from the pickle format\n",
    "wide_df = pd.read_pickle(\"../../data/processed/preprocessed_df.pkl\")\n",
    "#wide_df = wide_df[wide_df[\"eo_yrs_postsurg\"]<5]"
   ]
  },
  {
   "cell_type": "markdown",
   "metadata": {},
   "source": [
    "## Select features"
   ]
  },
  {
   "cell_type": "code",
   "execution_count": 37,
   "metadata": {},
   "outputs": [
    {
     "name": "stderr",
     "output_type": "stream",
     "text": [
      "C:\\Users\\Amaury\\AppData\\Local\\Temp\\ipykernel_10032\\1078865452.py:20: SettingWithCopyWarning: \n",
      "A value is trying to be set on a copy of a slice from a DataFrame.\n",
      "Try using .loc[row_indexer,col_indexer] = value instead\n",
      "\n",
      "See the caveats in the documentation: https://pandas.pydata.org/pandas-docs/stable/user_guide/indexing.html#returning-a-view-versus-a-copy\n",
      "  y2['engel_class1'] = wide_df[\"engel_class1\"].map({0: 1, 1: 2, 2: 3, 3: 4})\n",
      "C:\\Users\\Amaury\\AppData\\Local\\Temp\\ipykernel_10032\\1078865452.py:21: SettingWithCopyWarning: \n",
      "A value is trying to be set on a copy of a slice from a DataFrame.\n",
      "Try using .loc[row_indexer,col_indexer] = value instead\n",
      "\n",
      "See the caveats in the documentation: https://pandas.pydata.org/pandas-docs/stable/user_guide/indexing.html#returning-a-view-versus-a-copy\n",
      "  y2['engel_class2'] = wide_df[\"engel_class2\"].map({0: 5, 1: 6, 2: 7, 3: 8})\n",
      "C:\\Users\\Amaury\\AppData\\Local\\Temp\\ipykernel_10032\\1078865452.py:22: SettingWithCopyWarning: \n",
      "A value is trying to be set on a copy of a slice from a DataFrame.\n",
      "Try using .loc[row_indexer,col_indexer] = value instead\n",
      "\n",
      "See the caveats in the documentation: https://pandas.pydata.org/pandas-docs/stable/user_guide/indexing.html#returning-a-view-versus-a-copy\n",
      "  y2['engel_class3'] = wide_df[\"engel_class3\"].map({0: 9, 1: 10})\n",
      "C:\\Users\\Amaury\\AppData\\Local\\Temp\\ipykernel_10032\\1078865452.py:23: SettingWithCopyWarning: \n",
      "A value is trying to be set on a copy of a slice from a DataFrame.\n",
      "Try using .loc[row_indexer,col_indexer] = value instead\n",
      "\n",
      "See the caveats in the documentation: https://pandas.pydata.org/pandas-docs/stable/user_guide/indexing.html#returning-a-view-versus-a-copy\n",
      "  y2['engel_class4'] = wide_df[\"engel_class4\"].map({0: 11, 1: 12, 2: 13})\n",
      "C:\\Users\\Amaury\\AppData\\Local\\Temp\\ipykernel_10032\\1078865452.py:26: SettingWithCopyWarning: \n",
      "A value is trying to be set on a copy of a slice from a DataFrame.\n",
      "Try using .loc[row_indexer,col_indexer] = value instead\n",
      "\n",
      "See the caveats in the documentation: https://pandas.pydata.org/pandas-docs/stable/user_guide/indexing.html#returning-a-view-versus-a-copy\n",
      "  y2['engel_class'] = y2[['engel_class1', 'engel_class2', 'engel_class3', 'engel_class4']].sum(axis=1)\n"
     ]
    }
   ],
   "source": [
    "#X = wide_df[[\"sex_gender\", \"age\", \"eeg\", \"engel_outcomes\", \"mri\",\n",
    "#             \"neuroanatomical_labeling\", \"neuropsychological_testing\",\n",
    "#             \"surgical_information\"]]\n",
    "\n",
    "X = wide_df[[\"sex_gender\", \"age\", \"eeg\", \"engel_outcomes\", \"mri\", \"phys_findings\", \"age_of_onset\", \"eo_yrs_postsurg\",\n",
    "             \"neuroanatomical_labeling\", \"neuropsychological_testing\", \"surg_stage\", \"neuro_findings\", \"eo_year_surg\",\n",
    "             \"surgical_information\", \"resect_procedure___1\", \"resect_procedure___2\", \"resect_procedure___3\",\n",
    "             \"resect_procedure___4\", \"resect_procedure___5\", \"resect_procedure___6\", \"resect_procedure___7\",\n",
    "             \"resect_procedure___8\", \"resect_procedure___9\", \"resect_procedure___10\", \"resect_procedure___11\",\n",
    "             \"resect_procedure___12\", \"resect_procedure___14\", \"resect_procedure___15\"]]\n",
    "\n",
    "\n",
    "#X2 = wide_df.drop([\"surg_engel\", \"surg_engel___1\", \"surg_engel___2\", \"surg_engel___3\",\n",
    "#                   \"surg_engel___4\", \"engel_class1\", \"engel_class2\", \"engel_class3\",\n",
    "#                   \"engel_class4\",], axis=1)\n",
    "y2 = wide_df[[\"engel_class1\", \"engel_class2\", \"engel_class3\", \"engel_class4\"]]\n",
    "#y2 = y2.fillna(0)\n",
    "\n",
    "# Create a new variable\n",
    "y2['engel_class1'] = wide_df[\"engel_class1\"].map({0: 1, 1: 2, 2: 3, 3: 4})\n",
    "y2['engel_class2'] = wide_df[\"engel_class2\"].map({0: 5, 1: 6, 2: 7, 3: 8})\n",
    "y2['engel_class3'] = wide_df[\"engel_class3\"].map({0: 9, 1: 10})\n",
    "y2['engel_class4'] = wide_df[\"engel_class4\"].map({0: 11, 1: 12, 2: 13})\n",
    "\n",
    "# Sum the values along the columns to get the final 'engel_class' column\n",
    "y2['engel_class'] = y2[['engel_class1', 'engel_class2', 'engel_class3', 'engel_class4']].sum(axis=1)\n",
    "\n",
    "# Drop the intermediate columns\n",
    "y2 = y2.drop(['engel_class1', 'engel_class2', 'engel_class3', 'engel_class4'], axis=1)\n",
    "y2 = y2 - 1\n",
    "\n",
    "# Remove rows with no values for engel class\n",
    "drop_index = y2[\"engel_class\"]!=-1\n",
    "\n",
    "#X = X.loc[drop_index, ]\n",
    "#y2 = y2.loc[drop_index, ]\n",
    "\n",
    "y = wide_df[\"surg_engel\"]\n",
    "\n",
    "# Turns the outcome variable from range [1,4] to [0,3]\n",
    "y = y - 1"
   ]
  },
  {
   "cell_type": "markdown",
   "metadata": {},
   "source": [
    "## Split data into train/test"
   ]
  },
  {
   "cell_type": "code",
   "execution_count": 38,
   "metadata": {},
   "outputs": [],
   "source": [
    "from sklearn.model_selection import train_test_split\n",
    "X_train, X_test, y_train, y_test = train_test_split(X, y, stratify=y, test_size=0.2, random_state=42)"
   ]
  },
  {
   "cell_type": "markdown",
   "metadata": {},
   "source": [
    "## Scale continuous variables"
   ]
  },
  {
   "cell_type": "code",
   "execution_count": 39,
   "metadata": {},
   "outputs": [],
   "source": [
    "from sklearn.compose import ColumnTransformer\n",
    "from sklearn.preprocessing import StandardScaler\n",
    "\n",
    "X_train.fillna(X_train.mean(), inplace=True)\n",
    "X_test.fillna(X_train.mean(), inplace=True)\n",
    "\n",
    "column_transformer = ColumnTransformer(\n",
    "    transformers=[\n",
    "        ('age', StandardScaler(), ['age']),\n",
    "        ('age_of_onset', StandardScaler(), ['age_of_onset']),\n",
    "        ('eo_yrs_postsurg', StandardScaler(), ['eo_yrs_postsurg']),\n",
    "        ('eo_year_surg', StandardScaler(), ['eo_year_surg'])\n",
    "        # Add more transformers for other columns if needed\n",
    "    ],\n",
    "    remainder='passthrough'  # Keep the columns not specified in transformers unchanged\n",
    ")\n",
    "\n",
    "X_train_scaled = column_transformer.fit_transform(X_train)\n",
    "X_test_scaled = column_transformer.transform(X_test)"
   ]
  },
  {
   "cell_type": "code",
   "execution_count": 40,
   "metadata": {},
   "outputs": [
    {
     "data": {
      "image/png": "[encoded data removed]",
      "text/plain": [
       "<Figure size 640x480 with 1 Axes>"
      ]
     },
     "metadata": {},
     "output_type": "display_data"
    }
   ],
   "source": [
    "import matplotlib.pyplot as plt\n",
    "from sklearn.model_selection import cross_val_score, KFold\n",
    "from sklearn.neighbors import KNeighborsClassifier\n",
    "from sklearn.linear_model import LogisticRegression\n",
    "from sklearn.tree import DecisionTreeClassifier\n",
    "from sklearn.ensemble import RandomForestClassifier\n",
    "from sklearn.svm import SVC\n",
    "from sklearn.neural_network import MLPClassifier\n",
    "\n",
    "models = {\"LR\": LogisticRegression(max_iter=2000, random_state=42),\"KNN\": KNeighborsClassifier(),\n",
    "          \"Decision Tree\": DecisionTreeClassifier(random_state=42), \"RF\": RandomForestClassifier(random_state=42),\n",
    "          \"SVM\": SVC(max_iter=2000, random_state=42), \"MLP\": MLPClassifier(max_iter=2000, random_state=42)}\n",
    "results = []\n",
    "\n",
    "for model in models.values():\n",
    "\tkf = KFold(n_splits=10, random_state=42, shuffle=True)\n",
    "\tcv_results = cross_val_score(model, X_train_scaled, y_train, cv=kf)\n",
    "\tresults.append(cv_results)\n",
    "\n",
    "plt.boxplot(results, labels=models.keys())\n",
    "plt.show()"
   ]
  },
  {
   "cell_type": "markdown",
   "metadata": {},
   "source": [
    "## Logistic Regression"
   ]
  },
  {
   "cell_type": "code",
   "execution_count": 41,
   "metadata": {},
   "outputs": [
    {
     "name": "stdout",
     "output_type": "stream",
     "text": [
      "Accuracy: 0.68\n"
     ]
    },
    {
     "name": "stderr",
     "output_type": "stream",
     "text": [
      "c:\\Users\\Amaury\\AppData\\Local\\Programs\\Python\\Python311\\Lib\\site-packages\\sklearn\\linear_model\\_logistic.py:460: ConvergenceWarning: lbfgs failed to converge (status=1):\n",
      "STOP: TOTAL NO. of ITERATIONS REACHED LIMIT.\n",
      "\n",
      "Increase the number of iterations (max_iter) or scale the data as shown in:\n",
      "    https://scikit-learn.org/stable/modules/preprocessing.html\n",
      "Please also refer to the documentation for alternative solver options:\n",
      "    https://scikit-learn.org/stable/modules/linear_model.html#logistic-regression\n",
      "  n_iter_i = _check_optimize_result(\n"
     ]
    }
   ],
   "source": [
    "from sklearn.linear_model import LogisticRegression\n",
    "from sklearn.metrics import accuracy_score\n",
    "\n",
    "# Create a Logistic Regression classifier\n",
    "lr = LogisticRegression(multi_class='multinomial', solver='lbfgs', max_iter=2000, random_state=42)\n",
    "\n",
    "# Train the classifier on the training data\n",
    "lr.fit(X_train, y_train)\n",
    "\n",
    "# Make predictions on the test data\n",
    "y_pred = lr.predict(X_test)\n",
    "\n",
    "# Evaluate the accuracy of the model\n",
    "accuracy = accuracy_score(y_test, y_pred)\n",
    "print(f\"Accuracy: {accuracy:.2f}\")\n"
   ]
  },
  {
   "cell_type": "markdown",
   "metadata": {},
   "source": [
    "## Decision Tree classifier"
   ]
  },
  {
   "cell_type": "code",
   "execution_count": 42,
   "metadata": {},
   "outputs": [
    {
     "name": "stdout",
     "output_type": "stream",
     "text": [
      "Accuracy: 0.51\n"
     ]
    }
   ],
   "source": [
    "from sklearn.tree import DecisionTreeClassifier\n",
    "from sklearn.metrics import accuracy_score\n",
    "\n",
    "clf = DecisionTreeClassifier(random_state=42)\n",
    "\n",
    "# Turn outcome variable into dummy variables\n",
    "y_train_encoded = pd.get_dummies(y_train, columns=[\"surg_engel\"], drop_first=True)\n",
    "y_test_encoded = pd.get_dummies(y_test, columns=[\"surg_engel\"], drop_first=True)\n",
    "\n",
    "# Train the classifier on the training data\n",
    "clf.fit(X_train, y_train_encoded)\n",
    "\n",
    "# Make predictions on the test data\n",
    "y_pred = clf.predict(X_test)\n",
    "\n",
    "# Evaluate the accuracy of the model\n",
    "accuracy = accuracy_score(y_test_encoded, y_pred)\n",
    "print(f\"Accuracy: {accuracy:.2f}\")"
   ]
  },
  {
   "cell_type": "markdown",
   "metadata": {},
   "source": [
    "## Random Forest"
   ]
  },
  {
   "cell_type": "code",
   "execution_count": 43,
   "metadata": {},
   "outputs": [
    {
     "name": "stdout",
     "output_type": "stream",
     "text": [
      "Accuracy: 0.67\n"
     ]
    }
   ],
   "source": [
    "from sklearn.ensemble import RandomForestClassifier\n",
    "from sklearn.metrics import accuracy_score\n",
    "\n",
    "# Create a Random Forest classifier\n",
    "clf = RandomForestClassifier(n_estimators=100, random_state=42)\n",
    "\n",
    "# Train the classifier on the training data\n",
    "clf.fit(X_train, y_train)\n",
    "\n",
    "# Make predictions on the test data\n",
    "y_pred = clf.predict(X_test)\n",
    "\n",
    "# Evaluate the accuracy of the model\n",
    "accuracy = accuracy_score(y_test, y_pred)\n",
    "print(f\"Accuracy: {accuracy:.2f}\")\n"
   ]
  },
  {
   "cell_type": "markdown",
   "metadata": {},
   "source": [
    "## Support Vector Machines (SVM)"
   ]
  },
  {
   "cell_type": "code",
   "execution_count": 44,
   "metadata": {},
   "outputs": [
    {
     "name": "stdout",
     "output_type": "stream",
     "text": [
      "Accuracy: 0.65\n"
     ]
    }
   ],
   "source": [
    "from sklearn.svm import SVC\n",
    "from sklearn.metrics import accuracy_score\n",
    "\n",
    "# Create an SVM classifier\n",
    "clf = SVC(kernel='linear', C=1, random_state=42)\n",
    "\n",
    "# Train the classifier on the training data\n",
    "clf.fit(X_train, y_train)\n",
    "\n",
    "# Make predictions on the test data\n",
    "y_pred = clf.predict(X_test)\n",
    "\n",
    "# Evaluate the accuracy of the model\n",
    "accuracy = accuracy_score(y_test, y_pred)\n",
    "print(f\"Accuracy: {accuracy:.2f}\")\n"
   ]
  },
  {
   "cell_type": "markdown",
   "metadata": {},
   "source": [
    "## Neural Network"
   ]
  },
  {
   "cell_type": "code",
   "execution_count": 45,
   "metadata": {},
   "outputs": [
    {
     "name": "stdout",
     "output_type": "stream",
     "text": [
      "Epoch 1/15\n",
      "14/14 - 1s - loss: 1.2745 - accuracy: 0.4977 - val_loss: 1.1143 - val_accuracy: 0.6422 - 1s/epoch - 92ms/step\n",
      "Epoch 2/15\n",
      "14/14 - 0s - loss: 1.1060 - accuracy: 0.6227 - val_loss: 1.0448 - val_accuracy: 0.6422 - 68ms/epoch - 5ms/step\n",
      "Epoch 3/15\n",
      "14/14 - 0s - loss: 1.0574 - accuracy: 0.6227 - val_loss: 1.0266 - val_accuracy: 0.6422 - 67ms/epoch - 5ms/step\n",
      "Epoch 4/15\n",
      "14/14 - 0s - loss: 1.0251 - accuracy: 0.6227 - val_loss: 1.0031 - val_accuracy: 0.6422 - 82ms/epoch - 6ms/step\n",
      "Epoch 5/15\n",
      "14/14 - 0s - loss: 1.0030 - accuracy: 0.6227 - val_loss: 1.0044 - val_accuracy: 0.6422 - 65ms/epoch - 5ms/step\n",
      "Epoch 6/15\n",
      "14/14 - 0s - loss: 0.9884 - accuracy: 0.6319 - val_loss: 1.0077 - val_accuracy: 0.6514 - 64ms/epoch - 5ms/step\n",
      "Epoch 7/15\n",
      "14/14 - 0s - loss: 0.9739 - accuracy: 0.6389 - val_loss: 1.0035 - val_accuracy: 0.6514 - 64ms/epoch - 5ms/step\n",
      "Epoch 8/15\n",
      "14/14 - 0s - loss: 0.9543 - accuracy: 0.6481 - val_loss: 1.0134 - val_accuracy: 0.6514 - 65ms/epoch - 5ms/step\n",
      "Epoch 9/15\n",
      "14/14 - 0s - loss: 0.9449 - accuracy: 0.6528 - val_loss: 1.0223 - val_accuracy: 0.6514 - 69ms/epoch - 5ms/step\n",
      "Epoch 10/15\n",
      "14/14 - 0s - loss: 0.9246 - accuracy: 0.6690 - val_loss: 1.0285 - val_accuracy: 0.6330 - 72ms/epoch - 5ms/step\n",
      "Epoch 11/15\n",
      "14/14 - 0s - loss: 0.9058 - accuracy: 0.6759 - val_loss: 1.0253 - val_accuracy: 0.6330 - 68ms/epoch - 5ms/step\n",
      "Epoch 12/15\n",
      "14/14 - 0s - loss: 0.8802 - accuracy: 0.6829 - val_loss: 1.0496 - val_accuracy: 0.6239 - 65ms/epoch - 5ms/step\n",
      "Epoch 13/15\n",
      "14/14 - 0s - loss: 0.8661 - accuracy: 0.6806 - val_loss: 1.0364 - val_accuracy: 0.6514 - 71ms/epoch - 5ms/step\n",
      "Epoch 14/15\n",
      "14/14 - 0s - loss: 0.8664 - accuracy: 0.6806 - val_loss: 1.0732 - val_accuracy: 0.5963 - 70ms/epoch - 5ms/step\n",
      "Epoch 15/15\n",
      "14/14 - 0s - loss: 0.8359 - accuracy: 0.6829 - val_loss: 1.0840 - val_accuracy: 0.5780 - 62ms/epoch - 4ms/step\n",
      "5/5 [==============================] - 0s 2ms/step\n",
      "Accuracy: 0.69\n"
     ]
    }
   ],
   "source": [
    "import tensorflow as tf\n",
    "\n",
    "# Create a simple neural network model using Keras\n",
    "model = tf.keras.Sequential([\n",
    "    tf.keras.layers.Dense(64, activation='relu', input_shape=(X_train.shape[1],)),\n",
    "    tf.keras.layers.Dense(32, activation='relu'),\n",
    "    tf.keras.layers.Dense(32, activation='relu'),\n",
    "    tf.keras.layers.Dense(32, activation='relu'),\n",
    "    tf.keras.layers.Dense(32, activation='relu'),\n",
    "    tf.keras.layers.Dense(len(set(y_train)), activation='softmax')  # Output layer for multiclass classification\n",
    "])\n",
    "\n",
    "# Compile the model\n",
    "model.compile(optimizer='adam', loss='sparse_categorical_crossentropy', metrics=['accuracy'])\n",
    "\n",
    "# Train the model on the training data\n",
    "model.fit(X_train_scaled, y_train, epochs=15, batch_size=32, validation_split=0.2, verbose=2)\n",
    "\n",
    "# Make predictions on the test data\n",
    "y_pred_prob = model.predict(X_test_scaled)\n",
    "y_pred = tf.argmax(y_pred_prob, axis=1).numpy()\n",
    "\n",
    "# Evaluate the accuracy of the model\n",
    "accuracy = accuracy_score(y_test, y_pred)\n",
    "print(f\"Accuracy: {accuracy:.2f}\")\n"
   ]
  },
  {
   "cell_type": "markdown",
   "metadata": {},
   "source": [
    "## Perform PCA"
   ]
  },
  {
   "cell_type": "code",
   "execution_count": 46,
   "metadata": {},
   "outputs": [
    {
     "data": {
      "image/png": "[encoded data removed]",
      "text/plain": [
       "<Figure size 640x480 with 1 Axes>"
      ]
     },
     "metadata": {},
     "output_type": "display_data"
    }
   ],
   "source": [
    "import pandas as pd\n",
    "from sklearn.decomposition import PCA\n",
    "from sklearn.impute import SimpleImputer\n",
    "from sklearn.preprocessing import StandardScaler\n",
    "import matplotlib.pyplot as plt\n",
    "\n",
    "# Extract numerical features\n",
    "numerical_features = X.select_dtypes(include=['float64', 'int64']).copy()\n",
    "\n",
    "# Impute missing values\n",
    "imputer = SimpleImputer(strategy='mean')  # You can use other strategies like 'median' or 'most_frequent'\n",
    "numerical_features_imputed = pd.DataFrame(imputer.fit_transform(numerical_features), columns=numerical_features.columns)\n",
    "\n",
    "# Data preprocessing (standardization)\n",
    "scaler = StandardScaler()\n",
    "numerical_features_scaled = scaler.fit_transform(numerical_features_imputed)\n",
    "\n",
    "# Perform PCA\n",
    "pca = PCA()\n",
    "pca_result = pca.fit_transform(numerical_features_scaled)\n",
    "\n",
    "# Plot explained variance ratio\n",
    "explained_variance_ratio = pca.explained_variance_ratio_\n",
    "cumulative_variance_ratio = explained_variance_ratio.cumsum()\n",
    "\n",
    "plt.plot(range(1, len(explained_variance_ratio) + 1), cumulative_variance_ratio, marker='o', linestyle='--')\n",
    "plt.xlabel('Number of Principal Components')\n",
    "plt.ylabel('Cumulative Explained Variance Ratio')\n",
    "plt.title('Cumulative Explained Variance Ratio for PCA')\n",
    "plt.show()"
   ]
  },
  {
   "cell_type": "code",
   "execution_count": 47,
   "metadata": {},
   "outputs": [
    {
     "name": "stdout",
     "output_type": "stream",
     "text": [
      "Accuracy: 0.66\n"
     ]
    }
   ],
   "source": [
    "from sklearn.decomposition import PCA\n",
    "from sklearn.impute import SimpleImputer\n",
    "from sklearn.model_selection import train_test_split\n",
    "from sklearn.metrics import accuracy_score\n",
    "from sklearn.preprocessing import StandardScaler\n",
    "\n",
    "X2 = wide_df.drop([\"surg_engel\", \"surg_engel___1\", \"surg_engel___2\", \"surg_engel___3\",\n",
    "                   \"surg_engel___4\", \"engel_class1\", \"engel_class2\", \"engel_class3\",\n",
    "                   \"engel_class4\",], axis=1)\n",
    "# Extract numerical features\n",
    "numerical_features = X.select_dtypes(include=['float64', 'int64']).copy()\n",
    "\n",
    "# Split the data into training and testing sets\n",
    "X_train, X_test, y_train, y_test = train_test_split(numerical_features, y, test_size=0.2, random_state=42)\n",
    "\n",
    "# Impute missing values separately for training and testing sets\n",
    "imputer = SimpleImputer(strategy='mean')\n",
    "X_train_imputed = pd.DataFrame(imputer.fit_transform(X_train), columns=X_train.columns)\n",
    "X_test_imputed = pd.DataFrame(imputer.transform(X_test), columns=X_test.columns)\n",
    "\n",
    "# Data preprocessing (standardization)\n",
    "scaler = StandardScaler()\n",
    "X_train_scaled = scaler.fit_transform(X_train_imputed)\n",
    "X_test_scaled = scaler.transform(X_test_imputed)\n",
    "\n",
    "# Perform PCA\n",
    "pca = PCA(n_components=20)  # Choose the number of components based on your analysis\n",
    "pca_result_train = pca.fit_transform(X_train_scaled)\n",
    "pca_result_test = pca.transform(X_test_scaled)\n",
    "\n",
    "# Create a Random Forest classifier\n",
    "clf = SVC(kernel='linear', C=1.0, random_state=42)\n",
    "\n",
    "# Train the classifier on the training data\n",
    "clf.fit(pca_result_train, y_train)\n",
    "\n",
    "# Make predictions on the test data\n",
    "y_pred = clf.predict(pca_result_test)\n",
    "\n",
    "# Evaluate the accuracy of the model\n",
    "accuracy = accuracy_score(y_test, y_pred)\n",
    "print(f\"Accuracy: {accuracy:.2f}\")"
   ]
  },
  {
   "cell_type": "markdown",
   "metadata": {},
   "source": [
    "## Print system information"
   ]
  },
  {
   "cell_type": "code",
   "execution_count": 48,
   "metadata": {},
   "outputs": [
    {
     "ename": "KeyError",
     "evalue": "'pybind11_abseil'",
     "output_type": "error",
     "traceback": [
      "\u001b[1;31m---------------------------------------------------------------------------\u001b[0m",
      "\u001b[1;31mKeyError\u001b[0m                                  Traceback (most recent call last)",
      "\u001b[1;32mc:\\Users\\Amaury\\The University of Melbourne\\Engel-outcome-prediction\\notebooks\\3. modeling\\modeling.ipynb Cell 24\u001b[0m line \u001b[0;36m3\n\u001b[0;32m      <a href='vscode-notebook-cell:/c%3A/Users/Amaury/The%20University%20of%20Melbourne/Engel-outcome-prediction/notebooks/3.%20modeling/modeling.ipynb#X32sZmlsZQ%3D%3D?line=0'>1</a>\u001b[0m \u001b[39mimport\u001b[39;00m \u001b[39msession_info\u001b[39;00m\n\u001b[1;32m----> <a href='vscode-notebook-cell:/c%3A/Users/Amaury/The%20University%20of%20Melbourne/Engel-outcome-prediction/notebooks/3.%20modeling/modeling.ipynb#X32sZmlsZQ%3D%3D?line=2'>3</a>\u001b[0m session_info\u001b[39m.\u001b[39;49mshow()\n",
      "File \u001b[1;32mc:\\Users\\Amaury\\AppData\\Local\\Programs\\Python\\Python311\\Lib\\site-packages\\session_info\\main.py:209\u001b[0m, in \u001b[0;36mshow\u001b[1;34m(na, os, cpu, jupyter, dependencies, std_lib, private, write_req_file, req_file_name, html, excludes)\u001b[0m\n\u001b[0;32m    207\u001b[0m \u001b[39mfor\u001b[39;00m mod_name \u001b[39min\u001b[39;00m clean_modules:\n\u001b[0;32m    208\u001b[0m     mod_names\u001b[39m.\u001b[39mappend(mod_name)\n\u001b[1;32m--> 209\u001b[0m     mod \u001b[39m=\u001b[39m sys\u001b[39m.\u001b[39;49mmodules[mod_name]\n\u001b[0;32m    210\u001b[0m     \u001b[39m# Since modules use different attribute names to store version info,\u001b[39;00m\n\u001b[0;32m    211\u001b[0m     \u001b[39m# try the most common ones.\u001b[39;00m\n\u001b[0;32m    212\u001b[0m     \u001b[39mtry\u001b[39;00m:\n",
      "\u001b[1;31mKeyError\u001b[0m: 'pybind11_abseil'"
     ]
    }
   ],
   "source": [
    "import session_info\n",
    "\n",
    "session_info.show()"
   ]
  }
 ],
 "metadata": {
  "kernelspec": {
   "display_name": "Python 3",
   "language": "python",
   "name": "python3"
  },
  "language_info": {
   "codemirror_mode": {
    "name": "ipython",
    "version": 3
   },
   "file_extension": ".py",
   "mimetype": "text/x-python",
   "name": "python",
   "nbconvert_exporter": "python",
   "pygments_lexer": "ipython3",
   "version": "3.11.0"
  }
 },
 "nbformat": 4,
 "nbformat_minor": 2
}
