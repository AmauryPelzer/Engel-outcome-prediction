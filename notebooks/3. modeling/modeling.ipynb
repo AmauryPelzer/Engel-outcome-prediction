{
 "cells": [
  {
   "cell_type": "markdown",
   "metadata": {},
   "source": [
    "# Modeling\n",
    "\n",
    "## Import data"
   ]
  },
  {
   "cell_type": "code",
   "execution_count": 1,
   "metadata": {},
   "outputs": [],
   "source": [
    "import pandas as pd\n",
    "\n",
    "# Read dataframe from the pickle format\n",
    "wide_df = pd.read_pickle(\"../../data/processed/preprocessed_df.pkl\")"
   ]
  },
  {
   "cell_type": "markdown",
   "metadata": {},
   "source": [
    "## Select features"
   ]
  },
  {
   "cell_type": "code",
   "execution_count": 14,
   "metadata": {},
   "outputs": [],
   "source": [
    "#X = wide_df[[\"sex_gender\", \"age\", \"eeg\", \"engel_outcomes\", \"mri\",\n",
    "#             \"neuroanatomical_labeling\", \"neuropsychological_testing\",\n",
    "#             \"surgical_information\"]]\n",
    "\n",
    "X = wide_df[[\"sex_gender\", \"age\", \"eeg\", \"engel_outcomes\", \"mri\", \"phys_findings\",\n",
    "             \"neuroanatomical_labeling\", \"neuropsychological_testing\", \"surg_stage\", \"neuro_findings\",\n",
    "             \"surgical_information\", \"resect_procedure___1\", \"resect_procedure___2\", \"resect_procedure___3\",\n",
    "             \"resect_procedure___4\", \"resect_procedure___5\", \"resect_procedure___6\", \"resect_procedure___7\",\n",
    "             \"resect_procedure___8\", \"resect_procedure___9\", \"resect_procedure___10\", \"resect_procedure___11\",\n",
    "             \"resect_procedure___12\", \"resect_procedure___14\", \"resect_procedure___15\"]]\n",
    "\n",
    "#X2 = wide_df.drop([\"surg_engel\", \"surg_engel___1\", \"surg_engel___2\", \"surg_engel___3\",\n",
    "#                   \"surg_engel___4\", \"engel_class1\", \"engel_class2\", \"engel_class3\",\n",
    "#                   \"engel_class4\",], axis=1)\n",
    "y = wide_df[\"surg_engel\"]\n",
    "y = y - 1"
   ]
  },
  {
   "cell_type": "markdown",
   "metadata": {},
   "source": [
    "## Split data into train/test"
   ]
  },
  {
   "cell_type": "code",
   "execution_count": 15,
   "metadata": {},
   "outputs": [],
   "source": [
    "from sklearn.model_selection import train_test_split\n",
    "X_train, X_test, y_train, y_test = train_test_split(X, y, stratify=y, test_size=0.2, random_state=42)"
   ]
  },
  {
   "cell_type": "markdown",
   "metadata": {},
   "source": [
    "## Scale continuous variables"
   ]
  },
  {
   "cell_type": "code",
   "execution_count": 16,
   "metadata": {},
   "outputs": [],
   "source": [
    "from sklearn.compose import ColumnTransformer\n",
    "from sklearn.preprocessing import StandardScaler\n",
    "\n",
    "X_train.fillna(X_train.mean(), inplace=True)\n",
    "X_test.fillna(X_train.mean(), inplace=True)\n",
    "\n",
    "column_transformer = ColumnTransformer(\n",
    "    transformers=[\n",
    "        ('age', StandardScaler(), ['age'])\n",
    "        # Add more transformers for other columns if needed\n",
    "    ],\n",
    "    remainder='passthrough'  # Keep the columns not specified in transformers unchanged\n",
    ")\n",
    "\n",
    "X_train_scaled = column_transformer.fit_transform(X_train)\n",
    "X_test_scaled = column_transformer.transform(X_test)"
   ]
  },
  {
   "cell_type": "markdown",
   "metadata": {},
   "source": [
    "## Decision Tree classifier"
   ]
  },
  {
   "cell_type": "code",
   "execution_count": 17,
   "metadata": {},
   "outputs": [
    {
     "name": "stdout",
     "output_type": "stream",
     "text": [
      "Accuracy: 0.54\n"
     ]
    }
   ],
   "source": [
    "from sklearn.tree import DecisionTreeClassifier\n",
    "from sklearn.metrics import accuracy_score\n",
    "\n",
    "clf = DecisionTreeClassifier(random_state=42)\n",
    "\n",
    "# Train the classifier on the training data\n",
    "clf.fit(X_train, y_train)\n",
    "\n",
    "# Make predictions on the test data\n",
    "y_pred = clf.predict(X_test)\n",
    "\n",
    "# Evaluate the accuracy of the model\n",
    "accuracy = accuracy_score(y_test, y_pred)\n",
    "print(f\"Accuracy: {accuracy:.2f}\")"
   ]
  },
  {
   "cell_type": "markdown",
   "metadata": {},
   "source": [
    "## Random Forest"
   ]
  },
  {
   "cell_type": "code",
   "execution_count": 18,
   "metadata": {},
   "outputs": [
    {
     "name": "stdout",
     "output_type": "stream",
     "text": [
      "Accuracy: 0.63\n"
     ]
    }
   ],
   "source": [
    "from sklearn.ensemble import RandomForestClassifier\n",
    "from sklearn.metrics import accuracy_score\n",
    "\n",
    "# Create a Random Forest classifier\n",
    "# You can customize parameters such as n_estimators, max_depth, etc.\n",
    "clf = RandomForestClassifier(n_estimators=100, random_state=42)\n",
    "\n",
    "# Train the classifier on the training data\n",
    "clf.fit(X_train, y_train)\n",
    "\n",
    "# Make predictions on the test data\n",
    "y_pred = clf.predict(X_test)\n",
    "\n",
    "# Evaluate the accuracy of the model\n",
    "accuracy = accuracy_score(y_test, y_pred)\n",
    "print(f\"Accuracy: {accuracy:.2f}\")\n"
   ]
  },
  {
   "cell_type": "markdown",
   "metadata": {},
   "source": [
    "## Support Vector Machines (SVM)"
   ]
  },
  {
   "cell_type": "code",
   "execution_count": 19,
   "metadata": {},
   "outputs": [
    {
     "name": "stdout",
     "output_type": "stream",
     "text": [
      "Accuracy: 0.67\n"
     ]
    }
   ],
   "source": [
    "from sklearn.svm import SVC\n",
    "from sklearn.metrics import accuracy_score\n",
    "\n",
    "# Create an SVM classifier\n",
    "# You can customize parameters such as C, kernel, etc.\n",
    "clf = SVC(kernel='linear', C=1.0, random_state=42)\n",
    "\n",
    "# Train the classifier on the training data\n",
    "clf.fit(X_train, y_train)\n",
    "\n",
    "# Make predictions on the test data\n",
    "y_pred = clf.predict(X_test)\n",
    "\n",
    "# Evaluate the accuracy of the model\n",
    "accuracy = accuracy_score(y_test, y_pred)\n",
    "print(f\"Accuracy: {accuracy:.2f}\")\n"
   ]
  },
  {
   "cell_type": "markdown",
   "metadata": {},
   "source": [
    "## Neural Network"
   ]
  },
  {
   "cell_type": "code",
   "execution_count": 27,
   "metadata": {},
   "outputs": [
    {
     "name": "stdout",
     "output_type": "stream",
     "text": [
      "Epoch 1/15\n",
      "14/14 - 1s - loss: 1.4469 - accuracy: 0.2199 - val_loss: 1.3149 - val_accuracy: 0.6330 - 1s/epoch - 101ms/step\n",
      "Epoch 2/15\n",
      "14/14 - 0s - loss: 1.2540 - accuracy: 0.6250 - val_loss: 1.1679 - val_accuracy: 0.6422 - 76ms/epoch - 5ms/step\n",
      "Epoch 3/15\n",
      "14/14 - 0s - loss: 1.1340 - accuracy: 0.6227 - val_loss: 1.1099 - val_accuracy: 0.6422 - 80ms/epoch - 6ms/step\n",
      "Epoch 4/15\n",
      "14/14 - 0s - loss: 1.0748 - accuracy: 0.6227 - val_loss: 1.0618 - val_accuracy: 0.6422 - 72ms/epoch - 5ms/step\n",
      "Epoch 5/15\n",
      "14/14 - 0s - loss: 1.0234 - accuracy: 0.6319 - val_loss: 1.0377 - val_accuracy: 0.6422 - 78ms/epoch - 6ms/step\n",
      "Epoch 6/15\n",
      "14/14 - 0s - loss: 1.0042 - accuracy: 0.6389 - val_loss: 1.0208 - val_accuracy: 0.6422 - 72ms/epoch - 5ms/step\n",
      "Epoch 7/15\n",
      "14/14 - 0s - loss: 0.9819 - accuracy: 0.6412 - val_loss: 1.0209 - val_accuracy: 0.6514 - 77ms/epoch - 6ms/step\n",
      "Epoch 8/15\n",
      "14/14 - 0s - loss: 0.9739 - accuracy: 0.6528 - val_loss: 1.0287 - val_accuracy: 0.6422 - 75ms/epoch - 5ms/step\n",
      "Epoch 9/15\n",
      "14/14 - 0s - loss: 0.9639 - accuracy: 0.6551 - val_loss: 1.0128 - val_accuracy: 0.6422 - 81ms/epoch - 6ms/step\n",
      "Epoch 10/15\n",
      "14/14 - 0s - loss: 0.9458 - accuracy: 0.6435 - val_loss: 1.0367 - val_accuracy: 0.6239 - 70ms/epoch - 5ms/step\n",
      "Epoch 11/15\n",
      "14/14 - 0s - loss: 0.9318 - accuracy: 0.6528 - val_loss: 1.0204 - val_accuracy: 0.6422 - 76ms/epoch - 5ms/step\n",
      "Epoch 12/15\n",
      "14/14 - 0s - loss: 0.9212 - accuracy: 0.6644 - val_loss: 1.0422 - val_accuracy: 0.6147 - 86ms/epoch - 6ms/step\n",
      "Epoch 13/15\n",
      "14/14 - 0s - loss: 0.9100 - accuracy: 0.6736 - val_loss: 1.0309 - val_accuracy: 0.6239 - 75ms/epoch - 5ms/step\n",
      "Epoch 14/15\n",
      "14/14 - 0s - loss: 0.8956 - accuracy: 0.6713 - val_loss: 1.0464 - val_accuracy: 0.6147 - 73ms/epoch - 5ms/step\n",
      "Epoch 15/15\n",
      "14/14 - 0s - loss: 0.8931 - accuracy: 0.6736 - val_loss: 1.1089 - val_accuracy: 0.5963 - 70ms/epoch - 5ms/step\n",
      "5/5 [==============================] - 0s 2ms/step\n",
      "Accuracy: 0.70\n"
     ]
    }
   ],
   "source": [
    "import tensorflow as tf\n",
    "\n",
    "# Create a simple neural network model using Keras\n",
    "model = tf.keras.Sequential([\n",
    "    tf.keras.layers.Dense(64, activation='relu', input_shape=(X_train.shape[1],)),\n",
    "    tf.keras.layers.Dense(32, activation='relu'),\n",
    "    tf.keras.layers.Dense(32, activation='relu'),\n",
    "    tf.keras.layers.Dense(32, activation='relu'),\n",
    "    tf.keras.layers.Dense(32, activation='relu'),\n",
    "    tf.keras.layers.Dense(len(set(y_train)), activation='softmax')  # Output layer for multiclass classification\n",
    "])\n",
    "\n",
    "# Compile the model\n",
    "model.compile(optimizer='adam', loss='sparse_categorical_crossentropy', metrics=['accuracy'])\n",
    "\n",
    "# Train the model on the training data\n",
    "model.fit(X_train_scaled, y_train, epochs=15, batch_size=32, validation_split=0.2, verbose=2)\n",
    "\n",
    "# Make predictions on the test data\n",
    "y_pred_prob = model.predict(X_test_scaled)\n",
    "y_pred = tf.argmax(y_pred_prob, axis=1).numpy()\n",
    "\n",
    "# Evaluate the accuracy of the model\n",
    "accuracy = accuracy_score(y_test, y_pred)\n",
    "print(f\"Accuracy: {accuracy:.2f}\")\n"
   ]
  },
  {
   "cell_type": "markdown",
   "metadata": {},
   "source": [
    "## Print system information"
   ]
  },
  {
   "cell_type": "code",
   "execution_count": 28,
   "metadata": {},
   "outputs": [
    {
     "name": "stdout",
     "output_type": "stream",
     "text": [
      "Python Version: 3.11.0 (main, Oct 24 2022, 18:26:48) [MSC v.1933 64 bit (AMD64)]\n"
     ]
    }
   ],
   "source": [
    "# Print Python version\n",
    "import sys\n",
    "print(\"Python Version:\", sys.version)"
   ]
  }
 ],
 "metadata": {
  "kernelspec": {
   "display_name": "Python 3",
   "language": "python",
   "name": "python3"
  },
  "language_info": {
   "codemirror_mode": {
    "name": "ipython",
    "version": 3
   },
   "file_extension": ".py",
   "mimetype": "text/x-python",
   "name": "python",
   "nbconvert_exporter": "python",
   "pygments_lexer": "ipython3",
   "version": "3.11.0"
  }
 },
 "nbformat": 4,
 "nbformat_minor": 2
}
