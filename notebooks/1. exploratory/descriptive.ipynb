{
 "cells": [
  {
   "cell_type": "code",
   "execution_count": 8,
   "metadata": {},
   "outputs": [
    {
     "name": "stderr",
     "output_type": "stream",
     "text": [
      "C:\\Users\\amaur\\AppData\\Local\\Temp\\ipykernel_6384\\2834222239.py:4: DtypeWarning: Columns (80,122,145,312,316,320,324,380,458,507,518,519,520,521,522,523,524,561,567,583,584,585,586,587,596,597,599,600,603,615,616,617,622,628,631,632,634,641,677,690,693,707,709,713,715,716,718,720,721,723,727,728,730,743,745,752,754,756,757,759,763,765,767,769,771,786,805,807,808,809,810,812,813,882,883,891,900,963,970,971,979,988,1051,1058,1059,1067,1075,1076,1139,1146,1164,1227,1235,1252,1322,1323,1340,1411,1428,1518,1535,1553,1673,1725,1733,1785,1796,1814,1825,1877,1885,1948,1949,1958,1977,2029,2037,2089,2129,2181,2189,2241,2252,2253,2262,2281,2333,2341,2393,2405,2414,2422,2433,2485,2493,2545,2557,2585,2637,2645,2697,2726,2737,2789,2797,2849,2861,2878,2880,2881,2894,2898,2907,2912,2924,2946,2972,2973,3111,3123,3171,3239,3300,3473,3474,3483,3487,3490,3583,3584,3623,3635,3639,3647,3836,3839,3851,3855,3857,3858,3862,3867,3872,3881,3882,3965,3967,3972,3973,3976,3977,3978,3981,3990,3991,3992,3993,3994,3995,3996,3997,3998,3999,4000,4001,4002,4008,4009,4010,4011,4012,4013,4014,4015,4016,4017,4018,4019,4020,4021,4022,4023,4024,4025,4026,4027,4028,4029,4030,4031,4033,4086,4088,4090,4152,4153,4159,4167,4168,4169,4170,4171,4173,4174,4175,4176,4177,4178,4179,4180,4181,4182,4184,4185,4186,4187,4188,4189,4190,4191,4192,4193,4194,4195,4196,4197,4198,4199,4200,4201,4202,4203,4204,4205,4206,4207,4208,4209,4210,4211,4212,4213,4214,4215,4216,4217,4218,4219,4227,4228,4232,4238,4240,4242,4243,4244,4245,4246,4250,4251,4252,4253,4254,4255,4256,4257,4258,4259,4260,4261,4262,4263,4264,4265,4266,4267,4268,4269,4270,4271,4299,4301,4303,4305,4307,4309,4311,4313,4315,4317,4319,4321,4325,4327,4329,4331,4333,4334,4335,4336,4337,4338,4339,4340,4341,4342,4343,4344,4345,4346,4347,4348,4349,4350,4351,4352,4353,4354,4355,4356,4357,4358,4359,4360,4361,4362,4363,4364,4365,4366,4367,4368,4369,4370,4371,4372,4373,4374,4375,4376,4377,4378,4379,4380,4382,4383,4384,4385,4386,4388,4390,4391,4392,4394,4396,4398,4400,4402,4404,4405,4406,4408,4410,4411,4412,4413,4414,4415,4416,4455,4456,4457,4458,4459,4460,4462,4463,4465,4466,4467,4468,4469,4470,4471,4472,4473,4474,4475,4476,4477,4478,4479,4480,4481,4482,4483,4484,4485,4486,4487,4488,4489,4490,4491,4492,4493,4494,4495,4496,4497,4498,4499,4500,4501,4502,4503,4504,4505,4506,4507,4508,4509,4510,4511,4512,4513,4514,4515,4526,4528,4530,4532,4535,4537,4539,4541,4543,4545,4546,4547,4548,4549,4550,4551,4552,4553,4554,4557,4561,4562,4563,4564,4565,4566,4567,4568,4569,4570,4571,4572,4597,4598,4599,4600,4601,4602,4603,4604,4605,4606,4607,4608,4609,4610,4611,4612,4613,4614,4615,4616,4617,4618,4620,4632,4634,4653,4654,4655,4656,4657,4658,4659,4660,4661,4662,4663,4664,4665,4666,4667,4668,4669,4670) have mixed types. Specify dtype option on import or set low_memory=False.\n",
      "  wide_df = pd.read_csv(\"../../data/processed/preprocessed_df.csv\")\n"
     ]
    }
   ],
   "source": [
    "import pandas as pd\n",
    "\n",
    "# Read dataframe\n",
    "wide_df = pd.read_csv(\"../../data/processed/preprocessed_df.csv\")\n",
    "\n",
    "# Add binary outcome variable\n",
    "wide_df[\"surg_engel_binary\"] = wide_df[\"surg_engel\"]==1"
   ]
  },
  {
   "cell_type": "code",
   "execution_count": 11,
   "metadata": {},
   "outputs": [
    {
     "data": {
      "text/plain": [
       "578"
      ]
     },
     "execution_count": 11,
     "metadata": {},
     "output_type": "execute_result"
    }
   ],
   "source": [
    "len(wide_df[\"record_id\"].unique())"
   ]
  },
  {
   "cell_type": "code",
   "execution_count": 3,
   "metadata": {},
   "outputs": [],
   "source": [
    "from scipy import stats\n",
    "\n",
    "def print_statistics(df, column, group_by):\n",
    "    # Overall statistics\n",
    "    overall_mean = df[column].mean()\n",
    "    overall_std = df[column].std()\n",
    "    overall_non_na = df[column].notna().sum()\n",
    "\n",
    "    print(f\"Overall Statistics for {column}:\")\n",
    "    print(f\"Mean: {overall_mean}\")\n",
    "    print(f\"Standard Deviation: {overall_std}\")\n",
    "    print(f\"Number of non-NA rows: {overall_non_na}\")\n",
    "    print(\"\\n\")\n",
    "\n",
    "    # Grouped statistics\n",
    "    grouped = df.groupby(group_by)[column]\n",
    "    \n",
    "    group_stats = grouped.agg(['mean', 'std', 'count']).reset_index()\n",
    "    \n",
    "    for _, row in group_stats.iterrows():\n",
    "        print(f\"Statistics for {column} in {group_by} = {row[group_by]}:\")\n",
    "        print(f\"Mean: {row['mean']}\")\n",
    "        print(f\"Standard Deviation: {row['std']}\")\n",
    "        print(f\"Number of non-NA rows: {row['count']}\")\n",
    "        print(\"\\n\")\n",
    "    \n",
    "    # Bonferroni corrected p-value for the two groups\n",
    "    groups = df[group_by].unique()\n",
    "    if len(groups) == 2:\n",
    "        group1 = df[df[group_by] == groups[0]][column].dropna()\n",
    "        group2 = df[df[group_by] == groups[1]][column].dropna()\n",
    "\n",
    "        t_stat, p_value = stats.ttest_ind(group1, group2)\n",
    "        bonferroni_p_value = p_value * 2  # Bonferroni correction for two groups\n",
    "\n",
    "        print(f\"T-test between the two groups for {column}:\")\n",
    "        print(f\"T-statistic: {t_stat}\")\n",
    "        print(f\"Raw p-value: {p_value}\")\n",
    "        print(f\"Bonferroni corrected p-value: {bonferroni_p_value}\")\n",
    "    else:\n",
    "        print(\"More than two groups found. Bonferroni correction only applied for two groups.\")"
   ]
  },
  {
   "cell_type": "code",
   "execution_count": 16,
   "metadata": {},
   "outputs": [],
   "source": [
    "from scipy.stats import chi2_contingency\n",
    "\n",
    "def print_categorical_statistics(df, column, group_by):\n",
    "    # Overall statistics\n",
    "    counts = df[column].value_counts(dropna=False)\n",
    "    percentages = df[column].value_counts(normalize=True, dropna=False) * 100\n",
    "    non_na_count = df[column].notna().sum()\n",
    "\n",
    "    print(f\"Overall Statistics for categorical variable {column}:\")\n",
    "    for value in counts.index:\n",
    "        print(f\"Value {value}: Count = {counts[value]}, Percentage = {percentages[value]:.1f}%\")\n",
    "    print(f\"Number of non-NA rows: {non_na_count}\")\n",
    "    print(\"\\n\")\n",
    "\n",
    "    # Grouped statistics\n",
    "    grouped = df.groupby(group_by)[column]\n",
    "    \n",
    "    for group_value, group_df in grouped:\n",
    "        group_counts = group_df.value_counts(dropna=False)\n",
    "        group_percentages = group_df.value_counts(normalize=True, dropna=False) * 100\n",
    "        group_non_na_count = group_df.notna().sum()\n",
    "\n",
    "        print(f\"Statistics for {column} in {group_by} = {group_value}:\")\n",
    "        for value in group_counts.index:\n",
    "            print(f\"Value {value}: Count = {group_counts[value]}, Percentage = {group_percentages[value]:.1f}%\")\n",
    "        print(f\"Number of non-NA rows: {group_non_na_count}\")\n",
    "        print(\"\\n\")\n",
    "\n",
    "    # Pearson's chi-square test\n",
    "    contingency_table = pd.crosstab(df[group_by], df[column], dropna=False)\n",
    "    chi2, p, _, _ = chi2_contingency(contingency_table)\n",
    "\n",
    "    print(f\"Pearson's Chi-square test for {column} by {group_by}:\")\n",
    "    print(f\"Chi-square statistic: {chi2:.1f}\")\n",
    "    print(f\"p-value: {p:.3f}\")\n",
    "    print(\"\\n\")"
   ]
  },
  {
   "cell_type": "code",
   "execution_count": null,
   "metadata": {},
   "outputs": [],
   "source": [
    "age\n",
    "resect_pt_age\n",
    "sex_gender\n",
    "age_of_onset_hw\n",
    "freq_per_month_hw\n",
    "eo_days_postsurg"
   ]
  },
  {
   "cell_type": "code",
   "execution_count": null,
   "metadata": {},
   "outputs": [],
   "source": [
    "wide_df[\"age\"]"
   ]
  },
  {
   "cell_type": "code",
   "execution_count": 13,
   "metadata": {},
   "outputs": [
    {
     "name": "stdout",
     "output_type": "stream",
     "text": [
      "Overall Statistics for resect_pt_age:\n",
      "Mean: 30.791522491349482\n",
      "Standard Deviation: 15.891264425034162\n",
      "Number of non-NA rows: 578\n",
      "\n",
      "\n",
      "Statistics for resect_pt_age in surg_engel_binary = False:\n",
      "Mean: 28.42292490118577\n",
      "Standard Deviation: 15.954765799862589\n",
      "Number of non-NA rows: 253\n",
      "\n",
      "\n",
      "Statistics for resect_pt_age in surg_engel_binary = True:\n",
      "Mean: 32.635384615384616\n",
      "Standard Deviation: 15.618824021598547\n",
      "Number of non-NA rows: 325\n",
      "\n",
      "\n",
      "T-test between the two groups for resect_pt_age:\n",
      "T-statistic: -3.186643992546755\n",
      "Raw p-value: 0.0015172859751601713\n",
      "Bonferroni corrected p-value: 0.0030345719503203426\n"
     ]
    }
   ],
   "source": [
    "print_statistics(wide_df, 'resect_pt_age', 'surg_engel_binary')"
   ]
  },
  {
   "cell_type": "code",
   "execution_count": 17,
   "metadata": {},
   "outputs": [
    {
     "name": "stdout",
     "output_type": "stream",
     "text": [
      "Overall Statistics for categorical variable sex_gender:\n",
      "Value 0: Count = 295, Percentage = 51.0%\n",
      "Value 1: Count = 283, Percentage = 49.0%\n",
      "Number of non-NA rows: 578\n",
      "\n",
      "\n",
      "Statistics for sex_gender in surg_engel_binary = False:\n",
      "Value 1: Count = 130, Percentage = 51.4%\n",
      "Value 0: Count = 123, Percentage = 48.6%\n",
      "Number of non-NA rows: 253\n",
      "\n",
      "\n",
      "Statistics for sex_gender in surg_engel_binary = True:\n",
      "Value 0: Count = 172, Percentage = 52.9%\n",
      "Value 1: Count = 153, Percentage = 47.1%\n",
      "Number of non-NA rows: 325\n",
      "\n",
      "\n",
      "Pearson's Chi-square test for sex_gender by surg_engel_binary:\n",
      "Chi-square statistic: 0.9\n",
      "p-value: 0.345\n",
      "\n",
      "\n"
     ]
    }
   ],
   "source": [
    "print_categorical_statistics(wide_df, 'sex_gender', 'surg_engel_binary')"
   ]
  }
 ],
 "metadata": {
  "kernelspec": {
   "display_name": "Python 3",
   "language": "python",
   "name": "python3"
  },
  "language_info": {
   "codemirror_mode": {
    "name": "ipython",
    "version": 3
   },
   "file_extension": ".py",
   "mimetype": "text/x-python",
   "name": "python",
   "nbconvert_exporter": "python",
   "pygments_lexer": "ipython3",
   "version": "3.11.0"
  }
 },
 "nbformat": 4,
 "nbformat_minor": 2
}
