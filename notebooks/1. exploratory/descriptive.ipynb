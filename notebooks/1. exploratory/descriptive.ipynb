{
 "cells": [
  {
   "cell_type": "code",
   "execution_count": 51,
   "metadata": {},
   "outputs": [
    {
     "name": "stderr",
     "output_type": "stream",
     "text": [
      "C:\\Users\\amaur\\AppData\\Local\\Temp\\ipykernel_13720\\907147858.py:4: DtypeWarning: Columns (80,122,145,312,316,320,324,380,458,507,518,519,520,521,522,523,524,561,567,583,584,585,586,587,596,597,599,600,603,615,616,617,622,628,631,632,634,641,677,690,693,707,709,713,715,716,718,720,721,723,727,728,730,743,745,752,754,756,757,759,763,765,767,769,771,786,805,807,808,809,810,812,813,882,883,891,900,963,970,971,979,988,1051,1058,1059,1067,1075,1076,1139,1146,1164,1227,1235,1252,1322,1323,1340,1411,1428,1518,1535,1553,1673,1725,1733,1785,1796,1814,1825,1877,1885,1948,1949,1958,1977,2029,2037,2089,2129,2181,2189,2241,2252,2253,2262,2281,2333,2341,2393,2405,2414,2422,2433,2485,2493,2545,2557,2585,2637,2645,2697,2726,2737,2789,2797,2849,2861,2878,2880,2881,2894,2898,2907,2912,2924,2946,2972,2973,3111,3123,3171,3239,3300,3473,3474,3483,3487,3490,3583,3584,3623,3635,3639,3647,3836,3839,3851,3855,3857,3858,3862,3867,3872,3881,3882,3965,3967,3972,3973,3976,3977,3978,3981,3990,3991,3992,3993,3994,3995,3996,3997,3998,3999,4000,4001,4002,4008,4009,4010,4011,4012,4013,4014,4015,4016,4017,4018,4019,4020,4021,4022,4023,4024,4025,4026,4027,4028,4029,4030,4031,4033,4086,4088,4090,4152,4153,4159,4167,4168,4169,4170,4171,4173,4174,4175,4176,4177,4178,4179,4180,4181,4182,4184,4185,4186,4187,4188,4189,4190,4191,4192,4193,4194,4195,4196,4197,4198,4199,4200,4201,4202,4203,4204,4205,4206,4207,4208,4209,4210,4211,4212,4213,4214,4215,4216,4217,4218,4219,4227,4228,4232,4238,4240,4242,4243,4244,4245,4246,4250,4251,4252,4253,4254,4255,4256,4257,4258,4259,4260,4261,4262,4263,4264,4265,4266,4267,4268,4269,4270,4271,4299,4301,4303,4305,4307,4309,4311,4313,4315,4317,4319,4321,4325,4327,4329,4331,4333,4334,4335,4336,4337,4338,4339,4340,4341,4342,4343,4344,4345,4346,4347,4348,4349,4350,4351,4352,4353,4354,4355,4356,4357,4358,4359,4360,4361,4362,4363,4364,4365,4366,4367,4368,4369,4370,4371,4372,4373,4374,4375,4376,4377,4378,4379,4380,4382,4383,4384,4385,4386,4388,4390,4391,4392,4394,4396,4398,4400,4402,4404,4405,4406,4408,4410,4411,4412,4413,4414,4415,4416,4455,4456,4457,4458,4459,4460,4462,4463,4465,4466,4467,4468,4469,4470,4471,4472,4473,4474,4475,4476,4477,4478,4479,4480,4481,4482,4483,4484,4485,4486,4487,4488,4489,4490,4491,4492,4493,4494,4495,4496,4497,4498,4499,4500,4501,4502,4503,4504,4505,4506,4507,4508,4509,4510,4511,4512,4513,4514,4515,4526,4528,4530,4532,4535,4537,4539,4541,4543,4545,4546,4547,4548,4549,4550,4551,4552,4553,4554,4557,4561,4562,4563,4564,4565,4566,4567,4568,4569,4570,4571,4572,4597,4598,4599,4600,4601,4602,4603,4604,4605,4606,4607,4608,4609,4610,4611,4612,4613,4614,4615,4616,4617,4618,4620,4632,4634,4653,4654,4655,4656,4657,4658,4659,4660,4661,4662,4663,4664,4665,4666,4667,4668,4669,4670) have mixed types. Specify dtype option on import or set low_memory=False.\n",
      "  wide_df = pd.read_csv(\"../../data/processed/preprocessed_df.csv\")\n"
     ]
    }
   ],
   "source": [
    "import pandas as pd\n",
    "\n",
    "# Read dataframe\n",
    "wide_df = pd.read_csv(\"../../data/processed/preprocessed_df.csv\")\n",
    "\n",
    "# Add binary outcome variable\n",
    "wide_df[\"surg_engel_binary\"] = wide_df[\"surg_engel\"]==1\n",
    "\n",
    "BA_df = pd.read_csv(\"../../data/processed/NYU_PyBrainAge_Output_20240716.csv\")\n",
    "BA_df = BA_df.rename(columns={\"ID\":\"record_id\",\n",
    "                              \"BrainPAD\":\"BA_pred\"})\n",
    "\n",
    "wide_df = pd.merge(wide_df, BA_df, on=\"record_id\", how=\"left\")"
   ]
  },
  {
   "cell_type": "code",
   "execution_count": 52,
   "metadata": {},
   "outputs": [
    {
     "data": {
      "text/html": [
       "<div>\n",
       "<style scoped>\n",
       "    .dataframe tbody tr th:only-of-type {\n",
       "        vertical-align: middle;\n",
       "    }\n",
       "\n",
       "    .dataframe tbody tr th {\n",
       "        vertical-align: top;\n",
       "    }\n",
       "\n",
       "    .dataframe thead th {\n",
       "        text-align: right;\n",
       "    }\n",
       "</style>\n",
       "<table border=\"1\" class=\"dataframe\">\n",
       "  <thead>\n",
       "    <tr style=\"text-align: right;\">\n",
       "      <th></th>\n",
       "      <th>surg_engel</th>\n",
       "      <th>surg_engel_binary</th>\n",
       "    </tr>\n",
       "  </thead>\n",
       "  <tbody>\n",
       "    <tr>\n",
       "      <th>0</th>\n",
       "      <td>2</td>\n",
       "      <td>False</td>\n",
       "    </tr>\n",
       "    <tr>\n",
       "      <th>1</th>\n",
       "      <td>3</td>\n",
       "      <td>False</td>\n",
       "    </tr>\n",
       "    <tr>\n",
       "      <th>2</th>\n",
       "      <td>4</td>\n",
       "      <td>False</td>\n",
       "    </tr>\n",
       "    <tr>\n",
       "      <th>3</th>\n",
       "      <td>1</td>\n",
       "      <td>True</td>\n",
       "    </tr>\n",
       "    <tr>\n",
       "      <th>4</th>\n",
       "      <td>2</td>\n",
       "      <td>False</td>\n",
       "    </tr>\n",
       "  </tbody>\n",
       "</table>\n",
       "</div>"
      ],
      "text/plain": [
       "   surg_engel  surg_engel_binary\n",
       "0           2              False\n",
       "1           3              False\n",
       "2           4              False\n",
       "3           1               True\n",
       "4           2              False"
      ]
     },
     "execution_count": 52,
     "metadata": {},
     "output_type": "execute_result"
    }
   ],
   "source": [
    "wide_df[[\"surg_engel\", \"surg_engel_binary\"]].head()"
   ]
  },
  {
   "cell_type": "code",
   "execution_count": 53,
   "metadata": {},
   "outputs": [
    {
     "data": {
      "text/plain": [
       "4.577686516084873"
      ]
     },
     "execution_count": 53,
     "metadata": {},
     "output_type": "execute_result"
    }
   ],
   "source": [
    "wide_df[\"eo_yrs_postsurg\"].median()\n",
    "#wide_df[\"eo_yrs_postsurg\"].std()"
   ]
  },
  {
   "cell_type": "code",
   "execution_count": 54,
   "metadata": {},
   "outputs": [],
   "source": [
    "from scipy import stats\n",
    "\n",
    "def print_statistics(df, column, group_by):\n",
    "    # Overall statistics\n",
    "    overall_mean = df[column].mean()\n",
    "    overall_std = df[column].std()\n",
    "    overall_non_na = df[column].notna().sum()\n",
    "\n",
    "    print(f\"Overall Statistics for {column}:\")\n",
    "    print(f\"Mean: {overall_mean:.1f}\")\n",
    "    print(f\"Standard Deviation: {overall_std:.1f}\")\n",
    "    print(f\"Number of non-NA rows: {overall_non_na}\")\n",
    "    print(\"\\n\")\n",
    "\n",
    "    # Grouped statistics\n",
    "    grouped = df.groupby(group_by)[column]\n",
    "    \n",
    "    group_stats = grouped.agg(['mean', 'std', 'count']).reset_index()\n",
    "    \n",
    "    for _, row in group_stats.iterrows():\n",
    "        print(f\"Statistics for {column} in {group_by} = {row[group_by]}:\")\n",
    "        print(f\"Mean: {row['mean']:.1f}\")\n",
    "        print(f\"Standard Deviation: {row['std']:.1f}\")\n",
    "        print(f\"Number of non-NA rows: {row['count']}\")\n",
    "        print(\"\\n\")\n",
    "    \n",
    "    # Bonferroni corrected p-value for the two groups\n",
    "    groups = df[group_by].unique()\n",
    "    if len(groups) == 2:\n",
    "        group1 = df[df[group_by] == groups[0]][column].dropna()\n",
    "        group2 = df[df[group_by] == groups[1]][column].dropna()\n",
    "\n",
    "        t_stat, p_value = stats.ttest_ind(group1, group2)\n",
    "        bonferroni_p_value = p_value * 11  # Bonferroni correction\n",
    "\n",
    "        print(f\"T-test between the two groups for {column}:\")\n",
    "        print(f\"T-statistic: {t_stat}\")\n",
    "        print(f\"Raw p-value: {p_value:.3f}\")\n",
    "        print(f\"Bonferroni corrected p-value: {bonferroni_p_value:.3f}\")\n",
    "    else:\n",
    "        print(\"More than two groups found. Bonferroni correction only applied for two groups.\")"
   ]
  },
  {
   "cell_type": "code",
   "execution_count": 55,
   "metadata": {},
   "outputs": [],
   "source": [
    "from scipy.stats import chi2_contingency\n",
    "\n",
    "def print_categorical_statistics(df, column, group_by):\n",
    "    # Overall statistics\n",
    "    counts = df[column].value_counts(dropna=True)\n",
    "    percentages = df[column].value_counts(normalize=True, dropna=True) * 100\n",
    "    non_na_count = df[column].notna().sum()\n",
    "\n",
    "    print(f\"Overall Statistics for categorical variable {column}:\")\n",
    "    for value in counts.index:\n",
    "        print(f\"Value {value}: Count = {counts[value]}, Percentage = {percentages[value]:.1f}%\")\n",
    "    print(f\"Number of non-NA rows: {non_na_count}\")\n",
    "    print(\"\\n\")\n",
    "\n",
    "    # Grouped statistics\n",
    "    grouped = df.groupby(group_by)[column]\n",
    "    \n",
    "    for group_value, group_df in grouped:\n",
    "        group_counts = group_df.value_counts(dropna=True)\n",
    "        group_percentages = group_df.value_counts(normalize=True, dropna=True) * 100\n",
    "        group_non_na_count = group_df.notna().sum()\n",
    "\n",
    "        print(f\"Statistics for {column} in {group_by} = {group_value}:\")\n",
    "        for value in group_counts.index:\n",
    "            print(f\"Value {value}: Count = {group_counts[value]}, Percentage = {group_percentages[value]:.1f}%\")\n",
    "        print(f\"Number of non-NA rows: {group_non_na_count}\")\n",
    "        print(\"\\n\")\n",
    "\n",
    "    # Pearson's chi-square test\n",
    "    contingency_table = pd.crosstab(df[group_by], df[column], dropna=True)\n",
    "    chi2, p_value, _, _ = chi2_contingency(contingency_table)\n",
    "    bonferroni_p_value = p_value * 11  # Bonferroni correction\n",
    "\n",
    "    print(f\"Pearson's Chi-square test for {column} by {group_by}:\")\n",
    "    print(f\"Chi-square statistic: {chi2:.1f}\")\n",
    "    print(f\"Raw p-value: {p_value:.3f}\")\n",
    "    print(f\"Bonferroni corrected p-value: {bonferroni_p_value:.3f}\")\n",
    "    print(\"\\n\")\n"
   ]
  },
  {
   "cell_type": "code",
   "execution_count": 56,
   "metadata": {},
   "outputs": [],
   "source": [
    "def print_one_hot_statistics(df, columns, group_by):\n",
    "    # Overall statistics\n",
    "    overall_counts = df[columns].sum()\n",
    "    overall_percentages = overall_counts / len(df) * 100\n",
    "    non_na_counts = df[columns].notna().sum().sum()\n",
    "\n",
    "    print(f\"Overall Statistics for one-hot encoded variables {columns}:\")\n",
    "    for column in columns:\n",
    "        print(f\"Value {column}: Count = {overall_counts[column]}, Percentage = {overall_percentages[column]:.1f}%\")\n",
    "    print(f\"Number of non-NA rows: {non_na_counts}\")\n",
    "    print(\"\\n\")\n",
    "\n",
    "    # Grouped statistics\n",
    "    grouped = df.groupby(group_by)\n",
    "    \n",
    "    for group_value, group_df in grouped:\n",
    "        group_counts = group_df[columns].sum()\n",
    "        group_percentages = group_counts / len(group_df) * 100\n",
    "        group_non_na_counts = group_df[columns].notna().sum().sum()\n",
    "\n",
    "        print(f\"Statistics for one-hot encoded variables in {group_by} = {group_value}:\")\n",
    "        for column in columns:\n",
    "            print(f\"Value {column}: Count = {group_counts[column]}, Percentage = {group_percentages[column]:.1f}%\")\n",
    "        print(f\"Number of non-NA rows: {group_non_na_counts}\")\n",
    "        print(\"\\n\")\n",
    "\n",
    "    # Pearson's chi-square test for each one-hot encoded variable\n",
    "    for column in columns:\n",
    "        contingency_table = pd.crosstab(df[group_by], df[column], dropna=True)\n",
    "        chi2, p_value, _, _ = chi2_contingency(contingency_table)\n",
    "        bonferroni_p_value = p_value * 11  # Bonferroni correction\n",
    "\n",
    "        print(f\"Pearson's Chi-square test for {column} by {group_by}:\")\n",
    "        print(f\"Chi-square statistic: {chi2:.1f}\")\n",
    "        print(f\"Raw p-value: {p_value:.3f}\")\n",
    "        print(f\"Bonferroni corrected p-value: {bonferroni_p_value:.3f}\")\n",
    "        print(\"\\n\")"
   ]
  },
  {
   "cell_type": "code",
   "execution_count": 57,
   "metadata": {},
   "outputs": [
    {
     "name": "stdout",
     "output_type": "stream",
     "text": [
      "                 resect_surgeon     Surgeon_Categorical\n",
      "0           Werner K Doyle, MD             Werner Doyle\n",
      "2             Howard Weiner, MD           Howard Weiner\n",
      "9            Amanda L Yaun, MD              Amanda Yaun\n",
      "29                 David Harter            David Harter\n",
      "66   Eveline Teresa Hidalgo, MD  Eveline Teresa Hidalgo\n",
      "67                  Unspecified                       -\n",
      "208       Mitchel S. Berger, MD       Mitchel S. Berger\n",
      "269           John Golfinos, MD           John Golfinos\n",
      "303          George L Hines, MD          George L Hines\n",
      "378  Dimitris Placantonakis, MD  Dimitris Placantonakis\n",
      "392          Jeffrey Wisoff, MD          Jeffrey Wisoff\n",
      "434    Douglas S Kondziolka, MD      Douglas Kondziolka\n",
      "504             Erik Parker, MD             Erik Parker\n"
     ]
    }
   ],
   "source": [
    "# Function to clean surgeon names\n",
    "def clean_surgeon_name(name):\n",
    "    name = name.strip()\n",
    "    name = name.replace(\", MD\", \"\")\n",
    "    name = name.replace(\"Dr.\", \"\")\n",
    "    name = name.replace(\"MD\", \"\")\n",
    "    name = name.replace(\"Dr\", \"\")\n",
    "    name = name.strip()\n",
    "    if \"Werner Doyle\" in name or \"Werner K Doyle\" in name:\n",
    "        return \"Werner Doyle\"\n",
    "    elif \"Howard Weiner\" in name:\n",
    "        return \"Howard Weiner\"\n",
    "    elif \"Amanda Yaun\" in name or \"Amanda L Yaun\" in name:\n",
    "        return \"Amanda Yaun\"\n",
    "    elif \"David Hartner\" in name or \"David Harter\" in name or \"David H Hartner\" in name:\n",
    "        return \"David Harter\"\n",
    "    elif \"Douglas Kondziolka\" in name or \"Douglas S Kondziolka\" in name:\n",
    "        return \"Douglas Kondziolka\"\n",
    "    elif \"Unspecified\" in name or \"Not reported\" in name:\n",
    "        return \"-\"\n",
    "    return name\n",
    "\n",
    "# Apply the cleaning function\n",
    "wide_df['Cleaned_Surgeon'] = wide_df['resect_surgeon'].apply(clean_surgeon_name)\n",
    "\n",
    "# Remove duplicates and invalid entries\n",
    "df_cleaned = wide_df[~wide_df['Cleaned_Surgeon'].isin(['Unspecified', ' -', 'Not reported'])]\n",
    "df_cleaned = df_cleaned.drop_duplicates(subset=['Cleaned_Surgeon'])\n",
    "\n",
    "# Convert to categorical\n",
    "df_cleaned['Surgeon_Categorical'] = pd.Categorical(df_cleaned['Cleaned_Surgeon'])\n",
    "\n",
    "# Display the cleaned DataFrame\n",
    "print(df_cleaned[['resect_surgeon', 'Surgeon_Categorical']])"
   ]
  },
  {
   "cell_type": "code",
   "execution_count": 58,
   "metadata": {},
   "outputs": [],
   "source": [
    "if False:\n",
    "    freq_per_month_hw\n",
    "    age_of_onset_hw\n",
    "    resect_pt_age\n",
    "    BA_pred\n",
    "    surgical_information\n",
    "    \n",
    "    sex_gender\n",
    "    seiz_onset_lat\n",
    "    neuro_findings\n",
    "    phys_findings\n",
    "    \n",
    "\n",
    "    eo_days_postsurg\n",
    "    eo_yrs_postsurg\n",
    "    \n",
    "    epi_dx_category\n",
    "    surgical_information"
   ]
  },
  {
   "cell_type": "code",
   "execution_count": 59,
   "metadata": {},
   "outputs": [
    {
     "name": "stdout",
     "output_type": "stream",
     "text": [
      "Overall Statistics for eo_yrs_postsurg:\n",
      "Mean: 6.2\n",
      "Standard Deviation: 5.8\n",
      "Number of non-NA rows: 577\n",
      "\n",
      "\n",
      "Statistics for eo_yrs_postsurg in surg_engel_binary = False:\n",
      "Mean: 5.4\n",
      "Standard Deviation: 5.2\n",
      "Number of non-NA rows: 252\n",
      "\n",
      "\n",
      "Statistics for eo_yrs_postsurg in surg_engel_binary = True:\n",
      "Mean: 6.8\n",
      "Standard Deviation: 6.1\n",
      "Number of non-NA rows: 325\n",
      "\n",
      "\n",
      "T-test between the two groups for eo_yrs_postsurg:\n",
      "T-statistic: -2.832450249667036\n",
      "Raw p-value: 0.005\n",
      "Bonferroni corrected p-value: 0.053\n"
     ]
    }
   ],
   "source": [
    "print_statistics(wide_df, 'eo_yrs_postsurg', 'surg_engel_binary')"
   ]
  },
  {
   "cell_type": "code",
   "execution_count": 60,
   "metadata": {},
   "outputs": [
    {
     "name": "stdout",
     "output_type": "stream",
     "text": [
      "Correlation between neuro_findings and surg_engel_binary: -0.22591660017640863\n"
     ]
    }
   ],
   "source": [
    "# Calculate correlation between 'column1' and 'column2'\n",
    "correlation = wide_df['neuro_findings'].corr(wide_df['surg_engel_binary'])\n",
    "print(f\"Correlation between neuro_findings and surg_engel_binary: {correlation}\")"
   ]
  },
  {
   "cell_type": "code",
   "execution_count": 61,
   "metadata": {},
   "outputs": [
    {
     "name": "stdout",
     "output_type": "stream",
     "text": [
      "Overall Statistics for categorical variable phys_findings:\n",
      "Value 0.0: Count = 323, Percentage = 58.0%\n",
      "Value 1.0: Count = 234, Percentage = 42.0%\n",
      "Number of non-NA rows: 557\n",
      "\n",
      "\n",
      "Statistics for phys_findings in surg_engel_binary = False:\n",
      "Value 1.0: Count = 126, Percentage = 51.6%\n",
      "Value 0.0: Count = 118, Percentage = 48.4%\n",
      "Number of non-NA rows: 244\n",
      "\n",
      "\n",
      "Statistics for phys_findings in surg_engel_binary = True:\n",
      "Value 0.0: Count = 205, Percentage = 65.5%\n",
      "Value 1.0: Count = 108, Percentage = 34.5%\n",
      "Number of non-NA rows: 313\n",
      "\n",
      "\n",
      "Pearson's Chi-square test for phys_findings by surg_engel_binary:\n",
      "Chi-square statistic: 15.8\n",
      "Raw p-value: 0.000\n",
      "Bonferroni corrected p-value: 0.001\n",
      "\n",
      "\n"
     ]
    }
   ],
   "source": [
    "print_categorical_statistics(wide_df, 'phys_findings', 'surg_engel_binary')"
   ]
  },
  {
   "cell_type": "code",
   "execution_count": 62,
   "metadata": {},
   "outputs": [],
   "source": [
    "resective_procedures = [\n",
    "    \"resect_procedure___1\",\n",
    "    \"resect_procedure___2\",\n",
    "    \"resect_procedure___3\",\n",
    "    \"resect_procedure___4\",\n",
    "    \"resect_procedure___5\",\n",
    "    \"resect_procedure___6\",\n",
    "    \"resect_procedure___7\",\n",
    "    \"resect_procedure___8\",\n",
    "    \"resect_procedure___9\",\n",
    "    \"resect_procedure___10\",\n",
    "    \"resect_procedure___11\",\n",
    "    \"resect_procedure___12\",\n",
    "    \"resect_procedure___13\",\n",
    "    \"resect_procedure___14\",\n",
    "    \"resect_procedure___15\",\n",
    "]\n",
    "\n",
    "seizure_onset_zone = [\n",
    "    \"seiz_onset_zone___1\",\n",
    "    \"seiz_onset_zone___2\",\n",
    "    \"seiz_onset_zone___3\",\n",
    "    \"seiz_onset_zone___4\",\n",
    "    \"seiz_onset_zone___5\"\n",
    "]"
   ]
  },
  {
   "cell_type": "code",
   "execution_count": 63,
   "metadata": {},
   "outputs": [
    {
     "name": "stdout",
     "output_type": "stream",
     "text": [
      "Number of rows with at least one positive value: 322\n"
     ]
    }
   ],
   "source": [
    "# Check for rows with at least one positive (1) value in the specified columns\n",
    "#rows_with_positive = wide_df[resective_procedures].sum(axis=1) > 0\n",
    "#rows_with_positive = wide_df[wide_df[\"surg_engel_binary\"] == 0][seizure_onset_zone].sum(axis=1) > 0\n",
    "rows_with_positive = wide_df[wide_df[\"surg_engel_binary\"] == 1][seizure_onset_zone].sum(axis=1) > 0\n",
    "\n",
    "# Count the number of such rows\n",
    "num_rows_with_positive = rows_with_positive.sum()\n",
    "\n",
    "print(f\"Number of rows with at least one positive value: {num_rows_with_positive}\")"
   ]
  },
  {
   "cell_type": "code",
   "execution_count": 64,
   "metadata": {},
   "outputs": [
    {
     "name": "stdout",
     "output_type": "stream",
     "text": [
      "Overall Statistics for one-hot encoded variables ['resect_procedure___1', 'resect_procedure___2', 'resect_procedure___3', 'resect_procedure___4', 'resect_procedure___5', 'resect_procedure___6', 'resect_procedure___7', 'resect_procedure___8', 'resect_procedure___9', 'resect_procedure___10', 'resect_procedure___11', 'resect_procedure___12', 'resect_procedure___13', 'resect_procedure___14', 'resect_procedure___15']:\n",
      "Value resect_procedure___1: Count = 317.0, Percentage = 54.8%\n",
      "Value resect_procedure___2: Count = 324.0, Percentage = 56.1%\n",
      "Value resect_procedure___3: Count = 28.0, Percentage = 4.8%\n",
      "Value resect_procedure___4: Count = 319.0, Percentage = 55.2%\n",
      "Value resect_procedure___5: Count = 113.0, Percentage = 19.6%\n",
      "Value resect_procedure___6: Count = 7.0, Percentage = 1.2%\n",
      "Value resect_procedure___7: Count = 91.0, Percentage = 15.7%\n",
      "Value resect_procedure___8: Count = 3.0, Percentage = 0.5%\n",
      "Value resect_procedure___9: Count = 3.0, Percentage = 0.5%\n",
      "Value resect_procedure___10: Count = 29.0, Percentage = 5.0%\n",
      "Value resect_procedure___11: Count = 3.0, Percentage = 0.5%\n",
      "Value resect_procedure___12: Count = 4.0, Percentage = 0.7%\n",
      "Value resect_procedure___13: Count = 2.0, Percentage = 0.3%\n",
      "Value resect_procedure___14: Count = 2.0, Percentage = 0.3%\n",
      "Value resect_procedure___15: Count = 83.0, Percentage = 14.4%\n",
      "Number of non-NA rows: 8670\n",
      "\n",
      "\n",
      "Statistics for one-hot encoded variables in surg_engel_binary = False:\n",
      "Value resect_procedure___1: Count = 129.0, Percentage = 51.0%\n",
      "Value resect_procedure___2: Count = 95.0, Percentage = 37.5%\n",
      "Value resect_procedure___3: Count = 20.0, Percentage = 7.9%\n",
      "Value resect_procedure___4: Count = 105.0, Percentage = 41.5%\n",
      "Value resect_procedure___5: Count = 48.0, Percentage = 19.0%\n",
      "Value resect_procedure___6: Count = 3.0, Percentage = 1.2%\n",
      "Value resect_procedure___7: Count = 49.0, Percentage = 19.4%\n",
      "Value resect_procedure___8: Count = 2.0, Percentage = 0.8%\n",
      "Value resect_procedure___9: Count = 1.0, Percentage = 0.4%\n",
      "Value resect_procedure___10: Count = 24.0, Percentage = 9.5%\n",
      "Value resect_procedure___11: Count = 2.0, Percentage = 0.8%\n",
      "Value resect_procedure___12: Count = 2.0, Percentage = 0.8%\n",
      "Value resect_procedure___13: Count = 1.0, Percentage = 0.4%\n",
      "Value resect_procedure___14: Count = 2.0, Percentage = 0.8%\n",
      "Value resect_procedure___15: Count = 58.0, Percentage = 22.9%\n",
      "Number of non-NA rows: 3795\n",
      "\n",
      "\n",
      "Statistics for one-hot encoded variables in surg_engel_binary = True:\n",
      "Value resect_procedure___1: Count = 188.0, Percentage = 57.8%\n",
      "Value resect_procedure___2: Count = 229.0, Percentage = 70.5%\n",
      "Value resect_procedure___3: Count = 8.0, Percentage = 2.5%\n",
      "Value resect_procedure___4: Count = 214.0, Percentage = 65.8%\n",
      "Value resect_procedure___5: Count = 65.0, Percentage = 20.0%\n",
      "Value resect_procedure___6: Count = 4.0, Percentage = 1.2%\n",
      "Value resect_procedure___7: Count = 42.0, Percentage = 12.9%\n",
      "Value resect_procedure___8: Count = 1.0, Percentage = 0.3%\n",
      "Value resect_procedure___9: Count = 2.0, Percentage = 0.6%\n",
      "Value resect_procedure___10: Count = 5.0, Percentage = 1.5%\n",
      "Value resect_procedure___11: Count = 1.0, Percentage = 0.3%\n",
      "Value resect_procedure___12: Count = 2.0, Percentage = 0.6%\n",
      "Value resect_procedure___13: Count = 1.0, Percentage = 0.3%\n",
      "Value resect_procedure___14: Count = 0.0, Percentage = 0.0%\n",
      "Value resect_procedure___15: Count = 25.0, Percentage = 7.7%\n",
      "Number of non-NA rows: 4875\n",
      "\n",
      "\n",
      "Pearson's Chi-square test for resect_procedure___1 by surg_engel_binary:\n",
      "Chi-square statistic: 2.4\n",
      "Raw p-value: 0.119\n",
      "Bonferroni corrected p-value: 1.308\n",
      "\n",
      "\n",
      "Pearson's Chi-square test for resect_procedure___2 by surg_engel_binary:\n",
      "Chi-square statistic: 61.2\n",
      "Raw p-value: 0.000\n",
      "Bonferroni corrected p-value: 0.000\n",
      "\n",
      "\n",
      "Pearson's Chi-square test for resect_procedure___3 by surg_engel_binary:\n",
      "Chi-square statistic: 8.0\n",
      "Raw p-value: 0.005\n",
      "Bonferroni corrected p-value: 0.051\n",
      "\n",
      "\n",
      "Pearson's Chi-square test for resect_procedure___4 by surg_engel_binary:\n",
      "Chi-square statistic: 33.1\n",
      "Raw p-value: 0.000\n",
      "Bonferroni corrected p-value: 0.000\n",
      "\n",
      "\n",
      "Pearson's Chi-square test for resect_procedure___5 by surg_engel_binary:\n",
      "Chi-square statistic: 0.0\n",
      "Raw p-value: 0.839\n",
      "Bonferroni corrected p-value: 9.227\n",
      "\n",
      "\n",
      "Pearson's Chi-square test for resect_procedure___6 by surg_engel_binary:\n",
      "Chi-square statistic: 0.0\n",
      "Raw p-value: 1.000\n",
      "Bonferroni corrected p-value: 11.000\n",
      "\n",
      "\n",
      "Pearson's Chi-square test for resect_procedure___7 by surg_engel_binary:\n",
      "Chi-square statistic: 4.0\n",
      "Raw p-value: 0.046\n",
      "Bonferroni corrected p-value: 0.506\n",
      "\n",
      "\n",
      "Pearson's Chi-square test for resect_procedure___8 by surg_engel_binary:\n",
      "Chi-square statistic: 0.0\n",
      "Raw p-value: 0.827\n",
      "Bonferroni corrected p-value: 9.102\n",
      "\n",
      "\n",
      "Pearson's Chi-square test for resect_procedure___9 by surg_engel_binary:\n",
      "Chi-square statistic: 0.0\n",
      "Raw p-value: 1.000\n",
      "Bonferroni corrected p-value: 11.000\n",
      "\n",
      "\n",
      "Pearson's Chi-square test for resect_procedure___10 by surg_engel_binary:\n",
      "Chi-square statistic: 17.2\n",
      "Raw p-value: 0.000\n",
      "Bonferroni corrected p-value: 0.000\n",
      "\n",
      "\n",
      "Pearson's Chi-square test for resect_procedure___11 by surg_engel_binary:\n",
      "Chi-square statistic: 0.0\n",
      "Raw p-value: 0.827\n",
      "Bonferroni corrected p-value: 9.102\n",
      "\n",
      "\n",
      "Pearson's Chi-square test for resect_procedure___12 by surg_engel_binary:\n",
      "Chi-square statistic: 0.0\n",
      "Raw p-value: 1.000\n",
      "Bonferroni corrected p-value: 11.000\n",
      "\n",
      "\n",
      "Pearson's Chi-square test for resect_procedure___13 by surg_engel_binary:\n",
      "Chi-square statistic: 0.0\n",
      "Raw p-value: 1.000\n",
      "Bonferroni corrected p-value: 11.000\n",
      "\n",
      "\n",
      "Pearson's Chi-square test for resect_procedure___14 by surg_engel_binary:\n",
      "Chi-square statistic: 0.8\n",
      "Raw p-value: 0.373\n",
      "Bonferroni corrected p-value: 4.098\n",
      "\n",
      "\n",
      "Pearson's Chi-square test for resect_procedure___15 by surg_engel_binary:\n",
      "Chi-square statistic: 25.6\n",
      "Raw p-value: 0.000\n",
      "Bonferroni corrected p-value: 0.000\n",
      "\n",
      "\n"
     ]
    }
   ],
   "source": [
    "print_one_hot_statistics(wide_df, resective_procedures, 'surg_engel_binary')"
   ]
  },
  {
   "cell_type": "code",
   "execution_count": 65,
   "metadata": {},
   "outputs": [
    {
     "data": {
      "text/plain": [
       "50"
      ]
     },
     "execution_count": 65,
     "metadata": {},
     "output_type": "execute_result"
    }
   ],
   "source": [
    "len(wide_df[(wide_df[\"eo_yrs_postsurg\"]<=2) & (wide_df[\"eo_yrs_postsurg\"]>=1)])"
   ]
  },
  {
   "cell_type": "code",
   "execution_count": 66,
   "metadata": {},
   "outputs": [
    {
     "name": "stderr",
     "output_type": "stream",
     "text": [
      "C:\\Users\\amaur\\AppData\\Local\\Temp\\ipykernel_13720\\3345322077.py:10: FutureWarning: The default of observed=False is deprecated and will be changed to True in a future version of pandas. Pass observed=False to retain current behavior or observed=True to adopt the future default and silence this warning.\n",
      "  bin_percentages = wide_df.groupby('binned')['surg_engel_binary'].mean() * 100\n"
     ]
    },
    {
     "data": {
      "image/png": "[encoded data removed]",
      "text/plain": [
       "<Figure size 640x480 with 1 Axes>"
      ]
     },
     "metadata": {},
     "output_type": "display_data"
    }
   ],
   "source": [
    "import numpy as np\n",
    "import matplotlib.pyplot as plt\n",
    "\n",
    "# Bin the eo_yrs_postsurg column into 2-year intervals\n",
    "bin_size = 2\n",
    "bins = np.arange(0, wide_df['eo_yrs_postsurg'].max() + bin_size, bin_size)\n",
    "wide_df['binned'] = pd.cut(wide_df['eo_yrs_postsurg'], bins)\n",
    "\n",
    "# Calculate the percentage of surg_engel_binary for each bin\n",
    "bin_percentages = wide_df.groupby('binned')['surg_engel_binary'].mean() * 100\n",
    "\n",
    "# Plot the results\n",
    "bin_percentages.plot(kind='bar', color='skyblue', edgecolor='black')\n",
    "plt.xlabel('Years Post Surgery (binned)')\n",
    "plt.ylabel('Percentage of surg_engel_binary')\n",
    "plt.title('Percentage of surg_engel_binary over 2-year bins of eo_yrs_postsurg')\n",
    "plt.xticks(rotation=45)\n",
    "plt.show()"
   ]
  },
  {
   "cell_type": "code",
   "execution_count": 67,
   "metadata": {},
   "outputs": [
    {
     "data": {
      "image/png": "[encoded data removed]",
      "text/plain": [
       "<Figure size 640x480 with 1 Axes>"
      ]
     },
     "metadata": {},
     "output_type": "display_data"
    }
   ],
   "source": [
    "import numpy as np\n",
    "import matplotlib.pyplot as plt\n",
    "\n",
    "# Calculate the median of eo_yrs_postsurg\n",
    "median_years = wide_df['eo_yrs_postsurg'].median()\n",
    "\n",
    "# Create a new column that categorizes each entry as 'Before Median' or 'After Median'\n",
    "wide_df['time_group'] = np.where(wide_df['eo_yrs_postsurg'] <= median_years, 'More recent', 'Less recent')\n",
    "\n",
    "# Calculate the proportion of ATL (resect_procedure___2) and ATL+ (resect_procedure___3) in each time group\n",
    "proportions = wide_df.groupby('time_group')[['resect_procedure___2', 'resect_procedure___3']].mean() * 100\n",
    "\n",
    "# Plot the results\n",
    "proportions.plot(kind='bar', color=['skyblue', 'salmon'], edgecolor='black')\n",
    "plt.xlabel('Time Group')\n",
    "plt.ylabel('Proportion (%)')\n",
    "plt.title('Proportion of ATL and ATL+ Procedures Before and After Median Years Post Surgery')\n",
    "plt.xticks(rotation=0)\n",
    "plt.legend(['ATL', 'ATL+'])\n",
    "plt.show()"
   ]
  },
  {
   "cell_type": "code",
   "execution_count": 68,
   "metadata": {},
   "outputs": [
    {
     "name": "stdout",
     "output_type": "stream",
     "text": [
      "Precentage of seizure freedom in ATLs: 70.67901234567901 %\n"
     ]
    }
   ],
   "source": [
    "only_ATLs = wide_df[(wide_df[\"resect_procedure___2\"]==1) ]\n",
    "\n",
    "print(\"Precentage of seizure freedom in ATLs:\", only_ATLs[\"surg_engel_binary\"].sum() / len(only_ATLs) * 100, \"%\")"
   ]
  },
  {
   "cell_type": "code",
   "execution_count": 69,
   "metadata": {},
   "outputs": [
    {
     "data": {
      "image/png": "[encoded data removed]",
      "text/plain": [
       "<Figure size 1000x600 with 1 Axes>"
      ]
     },
     "metadata": {},
     "output_type": "display_data"
    }
   ],
   "source": [
    "import matplotlib.pyplot as plt\n",
    "\n",
    "plt.figure(figsize=(10, 6))\n",
    "plt.hist(only_ATLs[\"eo_yrs_postsurg\"].dropna(), bins=20, edgecolor='black')\n",
    "\n",
    "plt.title(\"Distribution of 'eo_yrs_postsurg' within only_ATLs\")\n",
    "plt.xlabel(\"eo_yrs_postsurg\")\n",
    "plt.ylabel(\"Frequency\")\n",
    "plt.grid(True)\n",
    "plt.show()"
   ]
  }
 ],
 "metadata": {
  "kernelspec": {
   "display_name": "Python 3",
   "language": "python",
   "name": "python3"
  },
  "language_info": {
   "codemirror_mode": {
    "name": "ipython",
    "version": 3
   },
   "file_extension": ".py",
   "mimetype": "text/x-python",
   "name": "python",
   "nbconvert_exporter": "python",
   "pygments_lexer": "ipython3",
   "version": "3.11.0"
  }
 },
 "nbformat": 4,
 "nbformat_minor": 2
}
