{
 "cells": [
  {
   "cell_type": "markdown",
   "metadata": {},
   "source": [
    "# Exploratory\n",
    "\n",
    "## Data Import"
   ]
  },
  {
   "cell_type": "code",
   "execution_count": 2,
   "metadata": {},
   "outputs": [
    {
     "name": "stderr",
     "output_type": "stream",
     "text": [
      "C:\\Users\\Amaury\\AppData\\Local\\Temp\\ipykernel_34852\\743729105.py:5: DtypeWarning: Columns (8,20,31,39,65,79,83,85,127,130,132,150,153,161,308,313,317,321,325,329,330,334,377,385,403,409,439,440,441,442,443,444,445,453,463,475,512,523,524,525,526,527,528,529,537,566,572,574,588,589,590,591,592,601,602,604,605,606,608,620,621,622,627,633,636,637,639,646,647,658,676,677,682,695,698,712,714,718,720,721,723,725,726,728,732,733,735,748,750,754,757,759,761,762,764,768,770,772,774,776,780,782,786,787,791,796,803,810,812,813,814,815,817,818,880,887,888,896,904,905,906,968,975,976,984,992,993,994,1056,1063,1064,1072,1080,1081,1082,1144,1151,1152,1169,1170,1232,1239,1240,1257,1258,1320,1327,1328,1345,1408,1415,1416,1432,1433,1496,1503,1521,1523,1540,1541,1558,1559,1576,1577,1595,1613,1631,1649,1667,1669,1670,1671,1678,1730,1738,1790,1801,1802,1811,1819,1820,1821,1822,1823,1830,1882,1890,1942,1953,1954,1963,1971,1972,1973,1974,1975,1982,2034,2042,2094,2105,2106,2115,2124,2125,2126,2127,2134,2186,2194,2246,2257,2258,2267,2276,2277,2278,2279,2286,2338,2346,2398,2409,2410,2419,2427,2428,2429,2430,2431,2438,2490,2498,2550,2561,2562,2580,2581,2582,2583,2590,2642,2650,2702,2713,2714,2731,2732,2733,2734,2735,2742,2794,2802,2854,2865,2866,2883,2884,2885,2886,2887,2888,2889,2899,2903,2912,2917,2929,2951,2977,2978,3116,3128,3138,3139,3140,3141,3142,3143,3144,3145,3146,3147,3148,3150,3156,3159,3162,3165,3167,3173,3176,3183,3244,3300,3305,3307,3308,3311,3314,3316,3325,3332,3393,3449,3478,3479,3483,3488,3492,3495,3497,3498,3499,3500,3501,3502,3504,3505,3506,3507,3508,3509,3511,3512,3513,3514,3515,3518,3519,3520,3521,3522,3543,3550,3551,3564,3566,3588,3589,3592,3593,3594,3595,3596,3597,3598,3599,3600,3601,3602,3603,3605,3606,3607,3608,3609,3612,3613,3614,3615,3616,3617,3618,3619,3620,3621,3622,3623,3624,3625,3626,3627,3628,3629,3630,3631,3632,3633,3634,3635,3636,3637,3638,3639,3640,3641,3642,3643,3644,3645,3646,3647,3650,3651,3652,3653,3654,3655,3656,3657,3660,3661,3662,3663,3672,3673,3679,3680,3681,3684,3685,3688,3690,3695,3696,3698,3712,3718,3719,3726,3727,3728,3733,3734,3737,3738,3741,3744,3745,3748,3763,3779,3790,3796,3797,3798,3799,3800,3801,3802,3803,3804,3805,3806,3807,3808,3809,3810,3811,3812,3813,3814,3815,3816,3817,3818,3819,3820,3821,3822,3823,3824,3825,3826,3827,3828,3829,3830,3831,3832,3833,3834,3835,3836,3837,3841,3844,3847,3848,3852,3853,3854,3855,3856,3857,3858,3859,3860,3861,3862,3863,3864,3867,3871,3872,3874,3876,3877,3883,3885,3886,3887,3888,3889,3890,3893,3894,3907,3917,3925,3929,3937,3939,3945,3946,3949,3950,3951,3952,3953,3954,3955,3956,3957,3958,3959,3960,3961,3963,3965,3970,3971,3972,3973,3976,3977,3978,3979,3981,3982,3983,3986,3995,3996,3997,3998,3999,4000,4001,4002,4003,4004,4005,4006,4007,4008,4009,4010,4011,4012,4013,4014,4015,4016,4017,4018,4019,4020,4021,4022,4023,4024,4025,4026,4027,4028,4029,4030,4031,4032,4033,4034,4035,4036,4038,4042,4043,4044,4045,4046,4047,4048,4049,4050,4051,4052,4053,4054,4055,4056,4057,4058,4059,4060,4061,4062,4063,4064,4065,4066,4067,4068,4069,4070,4071,4072,4073,4074,4075,4076,4077,4078,4079,4080,4081,4082,4083,4084,4085,4086,4087,4088,4089,4091,4093,4095,4104,4105,4106,4107,4108,4109,4110,4111,4112,4113,4114,4115,4116,4117,4119,4120,4121,4122,4123,4124,4125,4126,4127,4128,4129,4130,4131,4132,4133,4134,4135,4136,4137,4138,4139,4140,4141,4142,4143,4144,4145,4146,4147,4148,4149,4150,4151,4152,4153,4154,4155,4157,4158,4159,4160,4161,4162,4163,4164,4165,4166,4167,4168,4169,4170,4172,4173,4174,4175,4176,4178,4179,4180,4181,4182,4183,4184,4185,4186,4187,4189,4190,4191,4192,4193,4194,4195,4196,4197,4198,4199,4200,4201,4202,4203,4204,4205,4206,4207,4208,4209,4210,4211,4212,4213,4214,4215,4216,4217,4218,4219,4220,4221,4222,4223,4224,4226,4227,4228,4229,4230,4231,4232,4233,4234,4235,4236,4237,4238,4239,4240,4241,4242,4243,4244,4245,4246,4247,4248,4249,4250,4251,4255,4256,4257,4258,4259,4260,4261,4262,4263,4264,4265,4266,4267,4268,4269,4270,4271,4272,4273,4274,4275,4276,4277,4278,4279,4280,4281,4282,4283,4284,4285,4286,4287,4288,4289,4290,4291,4292,4293,4294,4295,4296,4297,4298,4303,4304,4305,4306,4307,4308,4309,4310,4311,4312,4313,4314,4315,4316,4317,4318,4319,4320,4321,4322,4323,4324,4325,4326,4327,4328,4329,4330,4331,4332,4333,4334,4335,4336,4337,4338,4339,4340,4341,4342,4343,4344,4345,4346,4347,4348,4349,4350,4351,4352,4353,4354,4355,4356,4357,4358,4359,4360,4361,4362,4363,4364,4365,4366,4367,4368,4369,4370,4371,4372,4373,4374,4375,4376,4377,4378,4379,4380,4381,4382,4383,4384,4385,4386,4387,4388,4389,4390,4391,4392,4393,4394,4395,4396,4397,4398,4399,4400,4401,4402,4403,4404,4405,4406,4407,4408,4409,4410,4411,4412,4413,4414,4415,4416,4417,4418,4419,4420,4421,4422,4460,4461,4462,4463,4464,4465,4467,4468,4470,4471,4472,4473,4474,4475,4476,4477,4478,4479,4480,4481,4482,4483,4484,4485,4486,4487,4488,4489,4490,4491,4492,4493,4494,4495,4496,4497,4498,4499,4500,4501,4502,4503,4504,4505,4506,4507,4508,4509,4510,4511,4512,4513,4514,4515,4516,4517,4518,4519,4520,4527,4528,4530,4531,4532,4533,4534,4535,4536,4537,4539,4540,4541,4542,4543,4544,4545,4546,4547,4548,4550,4551,4552,4553,4554,4555,4556,4557,4558,4559,4561,4562,4566,4567,4568,4569,4570,4571,4572,4573,4574,4575,4576,4577,4579,4580,4581,4582,4583,4584,4585,4586,4587,4588,4589,4590,4591,4592,4593,4594,4595,4596,4597,4598,4599,4600,4602,4603,4604,4605,4606,4607,4608,4609,4610,4611,4612,4613,4614,4615,4616,4617,4618,4619,4620,4621,4622,4623,4625,4626,4627,4628,4632,4633,4634,4635,4636,4637,4638,4639,4640,4641,4642,4643,4644,4658,4659,4660,4661,4662,4663,4664,4665,4666,4667,4668,4669,4670,4671,4672,4673,4674,4675) have mixed types. Specify dtype option on import or set low_memory=False.\n",
      "  df = pd.read_csv(\"../../data/raw/ResectMap_DATA_2023-11-13_2306.csv\")\n"
     ]
    }
   ],
   "source": [
    "import pandas as pd\n",
    "import matplotlib.pyplot as plt\n",
    "import seaborn as sns\n",
    "\n",
    "df = pd.read_csv(\"../../data/raw/ResectMap_DATA_2023-11-13_2306.csv\")\n",
    "# Dataframe with basic information per patient\n",
    "df_mrn = df[df[\"mrn\"].notna()]\n",
    "# Dataframe with Engel outcomes\n",
    "df_engel = df[df[\"redcap_repeat_instrument\"] == \"engel_outcomes\"]"
   ]
  },
  {
   "cell_type": "code",
   "execution_count": 4,
   "metadata": {},
   "outputs": [
    {
     "name": "stdout",
     "output_type": "stream",
     "text": [
      "Number of participants in the main df: 677\n",
      "Number of participants in the MRN df: 677\n",
      "Same as number of row ? True\n",
      "Number of participants in the Engel df: 677\n",
      "Same as number of row ? False\n"
     ]
    }
   ],
   "source": [
    "# Print the number of participants\n",
    "print(\"Number of participants in the main df:\", df[\"record_id\"].nunique())\n",
    "print(\"Number of participants in the MRN df:\", df_mrn[\"record_id\"].nunique())\n",
    "print(\"Same as number of row ?\", df_mrn[\"record_id\"].nunique()==len(df_mrn))\n",
    "print(\"Number of participants in the Engel df:\", df_engel[\"record_id\"].nunique())\n",
    "print(\"Same as number of row ?\", df_engel[\"record_id\"].nunique()==len(df_engel))"
   ]
  },
  {
   "cell_type": "markdown",
   "metadata": {},
   "source": [
    "## Distribution of age"
   ]
  },
  {
   "cell_type": "code",
   "execution_count": 5,
   "metadata": {},
   "outputs": [
    {
     "name": "stdout",
     "output_type": "stream",
     "text": [
      "Minimum age: 2.0 \n",
      "Maximum age: 84.0\n"
     ]
    }
   ],
   "source": [
    "print(\"Minimum age:\", df_mrn[\"age\"].min(), \"\\nMaximum age:\", df_mrn[\"age\"].max())"
   ]
  },
  {
   "cell_type": "code",
   "execution_count": 6,
   "metadata": {},
   "outputs": [
    {
     "data": {
      "image/png": "[encoded data removed]",
      "text/plain": [
       "<Figure size 640x480 with 1 Axes>"
      ]
     },
     "metadata": {},
     "output_type": "display_data"
    }
   ],
   "source": [
    "# Create a histogram\n",
    "plt.hist(df_mrn[\"age\"], bins=82, color='blue', alpha=0.7)\n",
    "\n",
    "# Add labels and title\n",
    "plt.xlabel('Age')\n",
    "plt.ylabel('Frequency')\n",
    "plt.title('Age distribution')\n",
    "\n",
    "# Show the plot\n",
    "plt.show()"
   ]
  },
  {
   "cell_type": "markdown",
   "metadata": {},
   "source": [
    "## Distribution of sex/gender"
   ]
  },
  {
   "cell_type": "code",
   "execution_count": 7,
   "metadata": {},
   "outputs": [
    {
     "name": "stderr",
     "output_type": "stream",
     "text": [
      "C:\\Users\\Amaury\\AppData\\Local\\Temp\\ipykernel_31764\\1867859755.py:3: SettingWithCopyWarning: \n",
      "A value is trying to be set on a copy of a slice from a DataFrame.\n",
      "Try using .loc[row_indexer,col_indexer] = value instead\n",
      "\n",
      "See the caveats in the documentation: https://pandas.pydata.org/pandas-docs/stable/user_guide/indexing.html#returning-a-view-versus-a-copy\n",
      "  df_mrn[\"sex_gender\"] = df_mrn[\"sex_gender\"].map({1: 0, 2: 1})\n"
     ]
    },
    {
     "data": {
      "text/plain": [
       "sex_gender\n",
       "female    345\n",
       "male      332\n",
       "Name: count, dtype: int64"
      ]
     },
     "execution_count": 7,
     "metadata": {},
     "output_type": "execute_result"
    }
   ],
   "source": [
    "# Before, 1 represented female and 2 represented male\n",
    "# Now, 0 represents female and 1 represents male\n",
    "df_mrn[\"sex_gender\"] = df_mrn[\"sex_gender\"].map({1: 0, 2: 1})\n",
    "\n",
    "# Define a mapping dictionary\n",
    "gender_mapping = {0: 'female', 1: 'male'} \n",
    "\n",
    "# Count the number of males and females in the dataset\n",
    "df_mrn[\"sex_gender\"].replace(gender_mapping).value_counts()"
   ]
  },
  {
   "cell_type": "code",
   "execution_count": 8,
   "metadata": {},
   "outputs": [
    {
     "data": {
      "text/html": [
       "<div>\n",
       "<style scoped>\n",
       "    .dataframe tbody tr th:only-of-type {\n",
       "        vertical-align: middle;\n",
       "    }\n",
       "\n",
       "    .dataframe tbody tr th {\n",
       "        vertical-align: top;\n",
       "    }\n",
       "\n",
       "    .dataframe thead th {\n",
       "        text-align: right;\n",
       "    }\n",
       "</style>\n",
       "<table border=\"1\" class=\"dataframe\">\n",
       "  <thead>\n",
       "    <tr style=\"text-align: right;\">\n",
       "      <th></th>\n",
       "      <th>record_id</th>\n",
       "      <th>redcap_repeat_instrument</th>\n",
       "      <th>redcap_repeat_instance</th>\n",
       "      <th>mrn</th>\n",
       "      <th>study_site</th>\n",
       "      <th>study_site_other</th>\n",
       "      <th>ny_num_yn</th>\n",
       "      <th>ny_num</th>\n",
       "      <th>other_study_ids</th>\n",
       "      <th>inc_crit</th>\n",
       "      <th>...</th>\n",
       "      <th>cshq_nw_z</th>\n",
       "      <th>cshq_para_raw</th>\n",
       "      <th>cshq_para_z</th>\n",
       "      <th>cshq_breath_raw</th>\n",
       "      <th>cshq_breath_z</th>\n",
       "      <th>cshq_ds_raw</th>\n",
       "      <th>cshq_ds_z</th>\n",
       "      <th>cshq_total_raw</th>\n",
       "      <th>cshq_total_z</th>\n",
       "      <th>neuropsychological_testing_complete</th>\n",
       "    </tr>\n",
       "  </thead>\n",
       "  <tbody>\n",
       "    <tr>\n",
       "      <th>2043</th>\n",
       "      <td>RSCT041607</td>\n",
       "      <td>engel_outcomes</td>\n",
       "      <td>2.0</td>\n",
       "      <td>NaN</td>\n",
       "      <td>NaN</td>\n",
       "      <td>NaN</td>\n",
       "      <td>NaN</td>\n",
       "      <td>NaN</td>\n",
       "      <td>NaN</td>\n",
       "      <td>NaN</td>\n",
       "      <td>...</td>\n",
       "      <td>NaN</td>\n",
       "      <td>NaN</td>\n",
       "      <td>NaN</td>\n",
       "      <td>NaN</td>\n",
       "      <td>NaN</td>\n",
       "      <td>NaN</td>\n",
       "      <td>NaN</td>\n",
       "      <td>NaN</td>\n",
       "      <td>NaN</td>\n",
       "      <td>NaN</td>\n",
       "    </tr>\n",
       "    <tr>\n",
       "      <th>2044</th>\n",
       "      <td>RSCT041607</td>\n",
       "      <td>engel_outcomes</td>\n",
       "      <td>3.0</td>\n",
       "      <td>NaN</td>\n",
       "      <td>NaN</td>\n",
       "      <td>NaN</td>\n",
       "      <td>NaN</td>\n",
       "      <td>NaN</td>\n",
       "      <td>NaN</td>\n",
       "      <td>NaN</td>\n",
       "      <td>...</td>\n",
       "      <td>NaN</td>\n",
       "      <td>NaN</td>\n",
       "      <td>NaN</td>\n",
       "      <td>NaN</td>\n",
       "      <td>NaN</td>\n",
       "      <td>NaN</td>\n",
       "      <td>NaN</td>\n",
       "      <td>NaN</td>\n",
       "      <td>NaN</td>\n",
       "      <td>NaN</td>\n",
       "    </tr>\n",
       "    <tr>\n",
       "      <th>2814</th>\n",
       "      <td>RSCT058378</td>\n",
       "      <td>engel_outcomes</td>\n",
       "      <td>2.0</td>\n",
       "      <td>NaN</td>\n",
       "      <td>NaN</td>\n",
       "      <td>NaN</td>\n",
       "      <td>NaN</td>\n",
       "      <td>NaN</td>\n",
       "      <td>NaN</td>\n",
       "      <td>NaN</td>\n",
       "      <td>...</td>\n",
       "      <td>NaN</td>\n",
       "      <td>NaN</td>\n",
       "      <td>NaN</td>\n",
       "      <td>NaN</td>\n",
       "      <td>NaN</td>\n",
       "      <td>NaN</td>\n",
       "      <td>NaN</td>\n",
       "      <td>NaN</td>\n",
       "      <td>NaN</td>\n",
       "      <td>NaN</td>\n",
       "    </tr>\n",
       "    <tr>\n",
       "      <th>3117</th>\n",
       "      <td>RSCT064938</td>\n",
       "      <td>engel_outcomes</td>\n",
       "      <td>2.0</td>\n",
       "      <td>NaN</td>\n",
       "      <td>NaN</td>\n",
       "      <td>NaN</td>\n",
       "      <td>NaN</td>\n",
       "      <td>NaN</td>\n",
       "      <td>NaN</td>\n",
       "      <td>NaN</td>\n",
       "      <td>...</td>\n",
       "      <td>NaN</td>\n",
       "      <td>NaN</td>\n",
       "      <td>NaN</td>\n",
       "      <td>NaN</td>\n",
       "      <td>NaN</td>\n",
       "      <td>NaN</td>\n",
       "      <td>NaN</td>\n",
       "      <td>NaN</td>\n",
       "      <td>NaN</td>\n",
       "      <td>NaN</td>\n",
       "    </tr>\n",
       "    <tr>\n",
       "      <th>3259</th>\n",
       "      <td>RSCT066862</td>\n",
       "      <td>engel_outcomes</td>\n",
       "      <td>2.0</td>\n",
       "      <td>NaN</td>\n",
       "      <td>NaN</td>\n",
       "      <td>NaN</td>\n",
       "      <td>NaN</td>\n",
       "      <td>NaN</td>\n",
       "      <td>NaN</td>\n",
       "      <td>NaN</td>\n",
       "      <td>...</td>\n",
       "      <td>NaN</td>\n",
       "      <td>NaN</td>\n",
       "      <td>NaN</td>\n",
       "      <td>NaN</td>\n",
       "      <td>NaN</td>\n",
       "      <td>NaN</td>\n",
       "      <td>NaN</td>\n",
       "      <td>NaN</td>\n",
       "      <td>NaN</td>\n",
       "      <td>NaN</td>\n",
       "    </tr>\n",
       "    <tr>\n",
       "      <th>4412</th>\n",
       "      <td>RSCT091205</td>\n",
       "      <td>engel_outcomes</td>\n",
       "      <td>2.0</td>\n",
       "      <td>NaN</td>\n",
       "      <td>NaN</td>\n",
       "      <td>NaN</td>\n",
       "      <td>NaN</td>\n",
       "      <td>NaN</td>\n",
       "      <td>NaN</td>\n",
       "      <td>NaN</td>\n",
       "      <td>...</td>\n",
       "      <td>NaN</td>\n",
       "      <td>NaN</td>\n",
       "      <td>NaN</td>\n",
       "      <td>NaN</td>\n",
       "      <td>NaN</td>\n",
       "      <td>NaN</td>\n",
       "      <td>NaN</td>\n",
       "      <td>NaN</td>\n",
       "      <td>NaN</td>\n",
       "      <td>NaN</td>\n",
       "    </tr>\n",
       "  </tbody>\n",
       "</table>\n",
       "<p>6 rows × 4677 columns</p>\n",
       "</div>"
      ],
      "text/plain": [
       "       record_id redcap_repeat_instrument  redcap_repeat_instance  mrn  \\\n",
       "2043  RSCT041607           engel_outcomes                     2.0  NaN   \n",
       "2044  RSCT041607           engel_outcomes                     3.0  NaN   \n",
       "2814  RSCT058378           engel_outcomes                     2.0  NaN   \n",
       "3117  RSCT064938           engel_outcomes                     2.0  NaN   \n",
       "3259  RSCT066862           engel_outcomes                     2.0  NaN   \n",
       "4412  RSCT091205           engel_outcomes                     2.0  NaN   \n",
       "\n",
       "      study_site  study_site_other  ny_num_yn ny_num other_study_ids  \\\n",
       "2043         NaN               NaN        NaN    NaN             NaN   \n",
       "2044         NaN               NaN        NaN    NaN             NaN   \n",
       "2814         NaN               NaN        NaN    NaN             NaN   \n",
       "3117         NaN               NaN        NaN    NaN             NaN   \n",
       "3259         NaN               NaN        NaN    NaN             NaN   \n",
       "4412         NaN               NaN        NaN    NaN             NaN   \n",
       "\n",
       "      inc_crit  ...  cshq_nw_z  cshq_para_raw  cshq_para_z  cshq_breath_raw  \\\n",
       "2043       NaN  ...        NaN            NaN          NaN              NaN   \n",
       "2044       NaN  ...        NaN            NaN          NaN              NaN   \n",
       "2814       NaN  ...        NaN            NaN          NaN              NaN   \n",
       "3117       NaN  ...        NaN            NaN          NaN              NaN   \n",
       "3259       NaN  ...        NaN            NaN          NaN              NaN   \n",
       "4412       NaN  ...        NaN            NaN          NaN              NaN   \n",
       "\n",
       "      cshq_breath_z  cshq_ds_raw  cshq_ds_z  cshq_total_raw  cshq_total_z  \\\n",
       "2043            NaN          NaN        NaN             NaN           NaN   \n",
       "2044            NaN          NaN        NaN             NaN           NaN   \n",
       "2814            NaN          NaN        NaN             NaN           NaN   \n",
       "3117            NaN          NaN        NaN             NaN           NaN   \n",
       "3259            NaN          NaN        NaN             NaN           NaN   \n",
       "4412            NaN          NaN        NaN             NaN           NaN   \n",
       "\n",
       "      neuropsychological_testing_complete  \n",
       "2043                                  NaN  \n",
       "2044                                  NaN  \n",
       "2814                                  NaN  \n",
       "3117                                  NaN  \n",
       "3259                                  NaN  \n",
       "4412                                  NaN  \n",
       "\n",
       "[6 rows x 4677 columns]"
      ]
     },
     "execution_count": 8,
     "metadata": {},
     "output_type": "execute_result"
    }
   ],
   "source": [
    "# Print patients with multiple Engel outcomes\n",
    "df_engel[df_engel['record_id'].duplicated()]"
   ]
  },
  {
   "cell_type": "markdown",
   "metadata": {},
   "source": [
    "## Distribution of Engel outcomes"
   ]
  },
  {
   "cell_type": "code",
   "execution_count": 9,
   "metadata": {},
   "outputs": [
    {
     "name": "stderr",
     "output_type": "stream",
     "text": [
      "C:\\Users\\Amaury\\AppData\\Local\\Temp\\ipykernel_31764\\327928731.py:2: SettingWithCopyWarning: \n",
      "A value is trying to be set on a copy of a slice from a DataFrame.\n",
      "Try using .loc[row_indexer,col_indexer] = value instead\n",
      "\n",
      "See the caveats in the documentation: https://pandas.pydata.org/pandas-docs/stable/user_guide/indexing.html#returning-a-view-versus-a-copy\n",
      "  df_engel['surg_engel'] = df_engel[['surg_engel___1', 'surg_engel___2', 'surg_engel___3', 'surg_engel___4']].idxmax(axis=1).str.split('___').str[1].astype(int)\n"
     ]
    },
    {
     "data": {
      "text/html": [
       "<div>\n",
       "<style scoped>\n",
       "    .dataframe tbody tr th:only-of-type {\n",
       "        vertical-align: middle;\n",
       "    }\n",
       "\n",
       "    .dataframe tbody tr th {\n",
       "        vertical-align: top;\n",
       "    }\n",
       "\n",
       "    .dataframe thead th {\n",
       "        text-align: right;\n",
       "    }\n",
       "</style>\n",
       "<table border=\"1\" class=\"dataframe\">\n",
       "  <thead>\n",
       "    <tr style=\"text-align: right;\">\n",
       "      <th></th>\n",
       "      <th>record_id</th>\n",
       "      <th>surg_engel</th>\n",
       "    </tr>\n",
       "  </thead>\n",
       "  <tbody>\n",
       "    <tr>\n",
       "      <th>9</th>\n",
       "      <td>RSCT000111</td>\n",
       "      <td>2</td>\n",
       "    </tr>\n",
       "    <tr>\n",
       "      <th>26</th>\n",
       "      <td>RSCT000208</td>\n",
       "      <td>3</td>\n",
       "    </tr>\n",
       "    <tr>\n",
       "      <th>35</th>\n",
       "      <td>RSCT000277</td>\n",
       "      <td>4</td>\n",
       "    </tr>\n",
       "    <tr>\n",
       "      <th>40</th>\n",
       "      <td>RSCT000508</td>\n",
       "      <td>1</td>\n",
       "    </tr>\n",
       "    <tr>\n",
       "      <th>48</th>\n",
       "      <td>RSCT000749</td>\n",
       "      <td>2</td>\n",
       "    </tr>\n",
       "  </tbody>\n",
       "</table>\n",
       "</div>"
      ],
      "text/plain": [
       "     record_id  surg_engel\n",
       "9   RSCT000111           2\n",
       "26  RSCT000208           3\n",
       "35  RSCT000277           4\n",
       "40  RSCT000508           1\n",
       "48  RSCT000749           2"
      ]
     },
     "execution_count": 9,
     "metadata": {},
     "output_type": "execute_result"
    }
   ],
   "source": [
    "# Create 1 column out of the 4 dummy variables for engel outcome\n",
    "df_engel['surg_engel'] = df_engel[['surg_engel___1', 'surg_engel___2', 'surg_engel___3', 'surg_engel___4']].idxmax(axis=1).str.split('___').str[1].astype(int)\n",
    "df_engel[[\"record_id\", \"surg_engel\"]].head()"
   ]
  },
  {
   "cell_type": "code",
   "execution_count": 10,
   "metadata": {},
   "outputs": [
    {
     "data": {
      "image/png": "[encoded data removed]",
      "text/plain": [
       "<Figure size 640x480 with 1 Axes>"
      ]
     },
     "metadata": {},
     "output_type": "display_data"
    }
   ],
   "source": [
    "# Create a histogram of the 'surg_engel' variable\n",
    "plt.hist(df_engel['surg_engel'], bins=[1, 2, 3, 4, 5])  # Specify the bin edges\n",
    "\n",
    "# Customize x-axis ticks and labels\n",
    "bin_centers = [1.5, 2.5, 3.5, 4.5]\n",
    "plt.xticks(bin_centers, ['1', '2', '3', '4'])\n",
    "\n",
    "# Add labels and title\n",
    "plt.xlabel('Engel outcome')\n",
    "plt.ylabel('Frequency')\n",
    "plt.title('Distribution of Engel outcomes')\n",
    "\n",
    "# Add grid for better readability\n",
    "plt.grid(axis='y', alpha=0.75)\n",
    "\n",
    "# Show the plot\n",
    "plt.show()"
   ]
  },
  {
   "cell_type": "markdown",
   "metadata": {},
   "source": [
    "### Distribution of Engel classes\n",
    "\n",
    "Class I\n",
    "\n",
    "    IA: Completely seizure-free since surgery\n",
    "    IB: Non disabling simple partial seizures only since surgery\n",
    "    IC: Some disabling seizures after surgery, but free of disabling seizures for at least 2 years\n",
    "    ID: Generalized convulsions with antiepileptic drug withdrawal only\n",
    "\n",
    "Class II\n",
    "    \n",
    "    IIA: Initially free of disabling seizures but has rare seizures now\n",
    "    IIB: Rare disabling seizures since surgery\n",
    "    IIC: More than rare disabling seizures after surgery, but rare seizures for at least 2 years\n",
    "    IID: Nocturnal seizures only\n",
    "\n",
    "Class III\n",
    "\n",
    "    IIIA: Worthwhile seizure reduction\n",
    "    IIIB: Prolonged seizure-free intervals amounting to greater than half the follow-up period, but not less than 2 years\n",
    "\n",
    "Class IV\n",
    "\n",
    "    IVA: Significant seizure reduction\n",
    "    IVB: No appreciable change\n",
    "    IVC: Seizures worse"
   ]
  },
  {
   "cell_type": "code",
   "execution_count": 11,
   "metadata": {},
   "outputs": [
    {
     "name": "stderr",
     "output_type": "stream",
     "text": [
      "C:\\Users\\Amaury\\AppData\\Local\\Temp\\ipykernel_31764\\1449629359.py:6: FutureWarning: \n",
      "\n",
      "Passing `palette` without assigning `hue` is deprecated and will be removed in v0.14.0. Assign the `x` variable to `hue` and set `legend=False` for the same effect.\n",
      "\n",
      "  sns.countplot(x='engel_class1', data=df_engel, palette='viridis')\n",
      "C:\\Users\\Amaury\\AppData\\Local\\Temp\\ipykernel_31764\\1449629359.py:11: FutureWarning: \n",
      "\n",
      "Passing `palette` without assigning `hue` is deprecated and will be removed in v0.14.0. Assign the `x` variable to `hue` and set `legend=False` for the same effect.\n",
      "\n",
      "  sns.countplot(x='engel_class2', data=df_engel, palette='viridis')\n",
      "C:\\Users\\Amaury\\AppData\\Local\\Temp\\ipykernel_31764\\1449629359.py:16: FutureWarning: \n",
      "\n",
      "Passing `palette` without assigning `hue` is deprecated and will be removed in v0.14.0. Assign the `x` variable to `hue` and set `legend=False` for the same effect.\n",
      "\n",
      "  sns.countplot(x='engel_class3', data=df_engel, palette='viridis')\n",
      "C:\\Users\\Amaury\\AppData\\Local\\Temp\\ipykernel_31764\\1449629359.py:21: FutureWarning: \n",
      "\n",
      "Passing `palette` without assigning `hue` is deprecated and will be removed in v0.14.0. Assign the `x` variable to `hue` and set `legend=False` for the same effect.\n",
      "\n",
      "  sns.countplot(x='engel_class4', data=df_engel, palette='viridis')\n"
     ]
    },
    {
     "data": {
      "image/png": "[encoded data removed]",
      "text/plain": [
       "<Figure size 1500x600 with 4 Axes>"
      ]
     },
     "metadata": {},
     "output_type": "display_data"
    }
   ],
   "source": [
    "# Set up the matplotlib figure\n",
    "plt.figure(figsize=(15, 6))\n",
    "\n",
    "# Plot the distribution for engel_class1\n",
    "plt.subplot(1, 4, 1)\n",
    "sns.countplot(x='engel_class1', data=df_engel, palette='viridis')\n",
    "plt.title('Engel class 1')\n",
    "\n",
    "# Plot the distribution for engel_class2\n",
    "plt.subplot(1, 4, 2)\n",
    "sns.countplot(x='engel_class2', data=df_engel, palette='viridis')\n",
    "plt.title('Engel class 2')\n",
    "\n",
    "# Plot the distribution for engel_class3\n",
    "plt.subplot(1, 4, 3)\n",
    "sns.countplot(x='engel_class3', data=df_engel, palette='viridis')\n",
    "plt.title('Engel class 3')\n",
    "\n",
    "# Plot the distribution for engel_class4\n",
    "plt.subplot(1, 4, 4)\n",
    "sns.countplot(x='engel_class4', data=df_engel, palette='viridis')\n",
    "plt.title('Engel class 4')\n",
    "\n",
    "# Adjust layout\n",
    "plt.tight_layout()\n",
    "\n",
    "# Show the plot\n",
    "plt.show()"
   ]
  },
  {
   "cell_type": "markdown",
   "metadata": {},
   "source": [
    "## Distribution of Race"
   ]
  },
  {
   "cell_type": "code",
   "execution_count": 12,
   "metadata": {},
   "outputs": [
    {
     "name": "stderr",
     "output_type": "stream",
     "text": [
      "C:\\Users\\Amaury\\AppData\\Local\\Temp\\ipykernel_31764\\701707759.py:2: SettingWithCopyWarning: \n",
      "A value is trying to be set on a copy of a slice from a DataFrame.\n",
      "Try using .loc[row_indexer,col_indexer] = value instead\n",
      "\n",
      "See the caveats in the documentation: https://pandas.pydata.org/pandas-docs/stable/user_guide/indexing.html#returning-a-view-versus-a-copy\n",
      "  df_mrn['race'] = df_mrn[['race___1', 'race___2', 'race___3', 'race___4', 'race___5', 'race___6', 'race___7']].idxmax(axis=1).str.split('___').str[1].astype(int)\n"
     ]
    },
    {
     "data": {
      "text/html": [
       "<div>\n",
       "<style scoped>\n",
       "    .dataframe tbody tr th:only-of-type {\n",
       "        vertical-align: middle;\n",
       "    }\n",
       "\n",
       "    .dataframe tbody tr th {\n",
       "        vertical-align: top;\n",
       "    }\n",
       "\n",
       "    .dataframe thead th {\n",
       "        text-align: right;\n",
       "    }\n",
       "</style>\n",
       "<table border=\"1\" class=\"dataframe\">\n",
       "  <thead>\n",
       "    <tr style=\"text-align: right;\">\n",
       "      <th></th>\n",
       "      <th>record_id</th>\n",
       "      <th>race</th>\n",
       "    </tr>\n",
       "  </thead>\n",
       "  <tbody>\n",
       "    <tr>\n",
       "      <th>0</th>\n",
       "      <td>RSCT000111</td>\n",
       "      <td>1</td>\n",
       "    </tr>\n",
       "    <tr>\n",
       "      <th>12</th>\n",
       "      <td>RSCT000208</td>\n",
       "      <td>7</td>\n",
       "    </tr>\n",
       "    <tr>\n",
       "      <th>31</th>\n",
       "      <td>RSCT000277</td>\n",
       "      <td>3</td>\n",
       "    </tr>\n",
       "    <tr>\n",
       "      <th>38</th>\n",
       "      <td>RSCT000508</td>\n",
       "      <td>6</td>\n",
       "    </tr>\n",
       "    <tr>\n",
       "      <th>42</th>\n",
       "      <td>RSCT000749</td>\n",
       "      <td>3</td>\n",
       "    </tr>\n",
       "  </tbody>\n",
       "</table>\n",
       "</div>"
      ],
      "text/plain": [
       "     record_id  race\n",
       "0   RSCT000111     1\n",
       "12  RSCT000208     7\n",
       "31  RSCT000277     3\n",
       "38  RSCT000508     6\n",
       "42  RSCT000749     3"
      ]
     },
     "execution_count": 12,
     "metadata": {},
     "output_type": "execute_result"
    }
   ],
   "source": [
    "# Create 1 column out of the 7 dummy variables for race\n",
    "df_mrn['race'] = df_mrn[['race___1', 'race___2', 'race___3', 'race___4', 'race___5', 'race___6', 'race___7']].idxmax(axis=1).str.split('___').str[1].astype(int)\n",
    "df_mrn[[\"record_id\", \"race\"]].head()"
   ]
  },
  {
   "cell_type": "code",
   "execution_count": 13,
   "metadata": {},
   "outputs": [
    {
     "data": {
      "text/plain": [
       "race\n",
       "Caucasian/White                           460\n",
       "Other                                      80\n",
       "African-American/Black                     55\n",
       "Unknown/Not-Reported                       51\n",
       "Asian                                      29\n",
       "Native Hawaiian/Other Pacific Islander      2\n",
       "Name: count, dtype: int64"
      ]
     },
     "execution_count": 13,
     "metadata": {},
     "output_type": "execute_result"
    }
   ],
   "source": [
    "# Define a mapping dictionary\n",
    "race_mapping = {1: 'African-American/Black', 2: 'Asian', 3: 'Caucasian/White', 4: 'Native American.Alaska Native', 5: 'Native Hawaiian/Other Pacific Islander', 6: 'Other', 7: 'Unknown/Not-Reported'}\n",
    "\n",
    "# Count the number of males and females in the dataset\n",
    "df_mrn[\"race\"].replace(race_mapping).value_counts()"
   ]
  },
  {
   "cell_type": "markdown",
   "metadata": {},
   "source": [
    "## Tables of Na percentage per column\n",
    "\n",
    "### df_mrn\n",
    "\n",
    "No data in df_mrn from column 380 and on"
   ]
  },
  {
   "cell_type": "code",
   "execution_count": 14,
   "metadata": {},
   "outputs": [
    {
     "name": "stdout",
     "output_type": "stream",
     "text": [
      "                        Column  Percentage of NaN\n",
      "0                    record_id               0.00\n",
      "1     redcap_repeat_instrument             100.00\n",
      "2       redcap_repeat_instance             100.00\n",
      "3                          mrn               0.00\n",
      "4                   study_site               0.00\n",
      "..                         ...                ...\n",
      "375        prev_aeds_name___38               0.00\n",
      "376        prev_aeds_name___39               0.00\n",
      "377            aeds_prev_other              84.49\n",
      "378                  aed_notes              28.21\n",
      "379  epilepsy_history_complete               0.00\n",
      "\n",
      "[380 rows x 2 columns]\n"
     ]
    }
   ],
   "source": [
    "# Calculate the percentage of NaN values per column\n",
    "na_percentage = (df_mrn.iloc[:,:380].isna().mean() * 100).round(2)\n",
    "\n",
    "# Create a new DataFrame with the results\n",
    "na_df_mrn = pd.DataFrame({'Column': na_percentage.index, 'Percentage of NaN': na_percentage.values})\n",
    "\n",
    "# Display the resulting DataFrame\n",
    "print(na_df_mrn)"
   ]
  },
  {
   "cell_type": "markdown",
   "metadata": {},
   "source": [
    "### df_engel\n",
    "\n",
    "No data in df_engel before column 3451 and after 3466"
   ]
  },
  {
   "cell_type": "code",
   "execution_count": 15,
   "metadata": {},
   "outputs": [
    {
     "name": "stdout",
     "output_type": "stream",
     "text": [
      "                        Column  Percentage of NaN\n",
      "0                    record_id               0.00\n",
      "1     redcap_repeat_instrument               0.00\n",
      "2       redcap_repeat_instance               0.00\n",
      "3451               eo_reviewer               0.73\n",
      "3452              eo_date_surg               7.32\n",
      "3453              eo_date_clin              12.15\n",
      "3454              eo_type_clin              14.93\n",
      "3455           eo_yrs_postsurg              13.47\n",
      "3456            surg_engel___1               0.00\n",
      "3457            surg_engel___2               0.00\n",
      "3458            surg_engel___3               0.00\n",
      "3459            surg_engel___4               0.00\n",
      "3460              engel_class1              52.42\n",
      "3461              engel_class2              86.24\n",
      "3462              engel_class3              89.60\n",
      "3463              engel_class4              86.38\n",
      "3464               eo_comments              27.53\n",
      "3465   engel_outcomes_complete               0.00\n",
      "4677                surg_engel               0.00\n"
     ]
    }
   ],
   "source": [
    "# Calculate the percentage of NaN values per column\n",
    "na_percentage = (df_engel.isna().mean() * 100).round(2)\n",
    "\n",
    "# Create a new DataFrame with the results\n",
    "na_df_engel = pd.DataFrame({'Column': na_percentage.index, 'Percentage of NaN': na_percentage.values})\n",
    "\n",
    "# Create a new DataFrame with the columns that are completely empty\n",
    "empty_df_engel = na_df_engel[na_df_engel[\"Percentage of NaN\"]==100]\n",
    "\n",
    "# Remove columns with only NAs\n",
    "df_engel_drop = df_engel.drop(columns=empty_df_engel[\"Column\"])\n",
    "\n",
    "# Display the resulting DataFrame\n",
    "print(na_df_engel[na_df_engel[\"Percentage of NaN\"]!=100])"
   ]
  },
  {
   "cell_type": "markdown",
   "metadata": {},
   "source": [
    "### df\n",
    "\n",
    "No data in the df in 72 columns "
   ]
  },
  {
   "cell_type": "code",
   "execution_count": 16,
   "metadata": {},
   "outputs": [],
   "source": [
    "# Calculate the percentage of NaN values per column\n",
    "na_percentage = (df.isna().mean() * 100).round(2)\n",
    "\n",
    "# Create a new DataFrame with the results\n",
    "na_df = pd.DataFrame({'Column': na_percentage.index, 'Percentage of NaN': na_percentage.values})\n",
    "\n",
    "# Create a new DataFrame with the columns that are completely empty\n",
    "empty_df = na_df[na_df[\"Percentage of NaN\"]==100]\n",
    "\n",
    "# Remove columns with only NAs\n",
    "df_drop = df.drop(columns=empty_df[\"Column\"])"
   ]
  },
  {
   "cell_type": "code",
   "execution_count": 17,
   "metadata": {},
   "outputs": [
    {
     "name": "stdout",
     "output_type": "stream",
     "text": [
      "Columns with '...' values:\n",
      "Index([], dtype='object')\n"
     ]
    }
   ],
   "source": [
    "# Check for a value in the df\n",
    "nan_string_check = (df == \"nan\").any()\n",
    "print(\"Columns with '...' values:\")\n",
    "print(nan_string_check[nan_string_check].index)"
   ]
  },
  {
   "cell_type": "markdown",
   "metadata": {},
   "source": [
    "There appears to be 2 instance where the column \"engel_outcomes_complete\" has the value 0 instead of 2 which matches with a patient with 3 engel outcomes"
   ]
  },
  {
   "cell_type": "code",
   "execution_count": 18,
   "metadata": {},
   "outputs": [
    {
     "data": {
      "text/html": [
       "<div>\n",
       "<style scoped>\n",
       "    .dataframe tbody tr th:only-of-type {\n",
       "        vertical-align: middle;\n",
       "    }\n",
       "\n",
       "    .dataframe tbody tr th {\n",
       "        vertical-align: top;\n",
       "    }\n",
       "\n",
       "    .dataframe thead th {\n",
       "        text-align: right;\n",
       "    }\n",
       "</style>\n",
       "<table border=\"1\" class=\"dataframe\">\n",
       "  <thead>\n",
       "    <tr style=\"text-align: right;\">\n",
       "      <th></th>\n",
       "      <th>record_id</th>\n",
       "      <th>redcap_repeat_instrument</th>\n",
       "      <th>redcap_repeat_instance</th>\n",
       "      <th>mrn</th>\n",
       "      <th>study_site</th>\n",
       "      <th>study_site_other</th>\n",
       "      <th>ny_num_yn</th>\n",
       "      <th>ny_num</th>\n",
       "      <th>other_study_ids</th>\n",
       "      <th>inc_crit</th>\n",
       "      <th>...</th>\n",
       "      <th>cshq_para_raw</th>\n",
       "      <th>cshq_para_z</th>\n",
       "      <th>cshq_breath_raw</th>\n",
       "      <th>cshq_breath_z</th>\n",
       "      <th>cshq_ds_raw</th>\n",
       "      <th>cshq_ds_z</th>\n",
       "      <th>cshq_total_raw</th>\n",
       "      <th>cshq_total_z</th>\n",
       "      <th>neuropsychological_testing_complete</th>\n",
       "      <th>surg_engel</th>\n",
       "    </tr>\n",
       "  </thead>\n",
       "  <tbody>\n",
       "    <tr>\n",
       "      <th>2042</th>\n",
       "      <td>RSCT041607</td>\n",
       "      <td>engel_outcomes</td>\n",
       "      <td>1.0</td>\n",
       "      <td>NaN</td>\n",
       "      <td>NaN</td>\n",
       "      <td>NaN</td>\n",
       "      <td>NaN</td>\n",
       "      <td>NaN</td>\n",
       "      <td>NaN</td>\n",
       "      <td>NaN</td>\n",
       "      <td>...</td>\n",
       "      <td>NaN</td>\n",
       "      <td>NaN</td>\n",
       "      <td>NaN</td>\n",
       "      <td>NaN</td>\n",
       "      <td>NaN</td>\n",
       "      <td>NaN</td>\n",
       "      <td>NaN</td>\n",
       "      <td>NaN</td>\n",
       "      <td>NaN</td>\n",
       "      <td>4</td>\n",
       "    </tr>\n",
       "    <tr>\n",
       "      <th>2043</th>\n",
       "      <td>RSCT041607</td>\n",
       "      <td>engel_outcomes</td>\n",
       "      <td>2.0</td>\n",
       "      <td>NaN</td>\n",
       "      <td>NaN</td>\n",
       "      <td>NaN</td>\n",
       "      <td>NaN</td>\n",
       "      <td>NaN</td>\n",
       "      <td>NaN</td>\n",
       "      <td>NaN</td>\n",
       "      <td>...</td>\n",
       "      <td>NaN</td>\n",
       "      <td>NaN</td>\n",
       "      <td>NaN</td>\n",
       "      <td>NaN</td>\n",
       "      <td>NaN</td>\n",
       "      <td>NaN</td>\n",
       "      <td>NaN</td>\n",
       "      <td>NaN</td>\n",
       "      <td>NaN</td>\n",
       "      <td>2</td>\n",
       "    </tr>\n",
       "  </tbody>\n",
       "</table>\n",
       "<p>2 rows × 4678 columns</p>\n",
       "</div>"
      ],
      "text/plain": [
       "       record_id redcap_repeat_instrument  redcap_repeat_instance  mrn  \\\n",
       "2042  RSCT041607           engel_outcomes                     1.0  NaN   \n",
       "2043  RSCT041607           engel_outcomes                     2.0  NaN   \n",
       "\n",
       "      study_site  study_site_other  ny_num_yn ny_num other_study_ids  \\\n",
       "2042         NaN               NaN        NaN    NaN             NaN   \n",
       "2043         NaN               NaN        NaN    NaN             NaN   \n",
       "\n",
       "      inc_crit  ...  cshq_para_raw  cshq_para_z  cshq_breath_raw  \\\n",
       "2042       NaN  ...            NaN          NaN              NaN   \n",
       "2043       NaN  ...            NaN          NaN              NaN   \n",
       "\n",
       "      cshq_breath_z  cshq_ds_raw  cshq_ds_z  cshq_total_raw  cshq_total_z  \\\n",
       "2042            NaN          NaN        NaN             NaN           NaN   \n",
       "2043            NaN          NaN        NaN             NaN           NaN   \n",
       "\n",
       "      neuropsychological_testing_complete  surg_engel  \n",
       "2042                                  NaN           4  \n",
       "2043                                  NaN           2  \n",
       "\n",
       "[2 rows x 4678 columns]"
      ]
     },
     "execution_count": 18,
     "metadata": {},
     "output_type": "execute_result"
    }
   ],
   "source": [
    "df_engel[\"engel_outcomes_complete\"].unique()\n",
    "df_engel[df_engel[\"engel_outcomes_complete\"]==0]"
   ]
  },
  {
   "cell_type": "markdown",
   "metadata": {},
   "source": []
  },
  {
   "cell_type": "code",
   "execution_count": 19,
   "metadata": {},
   "outputs": [
    {
     "name": "stdout",
     "output_type": "stream",
     "text": [
      "                              Column Name Data Type\n",
      "0                               record_id    object\n",
      "1                redcap_repeat_instrument    object\n",
      "2                  redcap_repeat_instance   float64\n",
      "3                                     mrn   float64\n",
      "4                              study_site   float64\n",
      "...                                   ...       ...\n",
      "4672                          cshq_ds_raw    object\n",
      "4673                            cshq_ds_z    object\n",
      "4674                       cshq_total_raw    object\n",
      "4675                         cshq_total_z    object\n",
      "4676  neuropsychological_testing_complete   float64\n",
      "\n",
      "[4677 rows x 2 columns]\n"
     ]
    }
   ],
   "source": [
    "# Display column names and data types in a table\n",
    "column_info = pd.DataFrame({\n",
    "    'Column Name': df.columns,\n",
    "    'Data Type': df.dtypes.astype(str).values,\n",
    "})\n",
    "\n",
    "print(column_info)"
   ]
  },
  {
   "cell_type": "code",
   "execution_count": 20,
   "metadata": {},
   "outputs": [
    {
     "name": "stdout",
     "output_type": "stream",
     "text": [
      "      record_id redcap_repeat_instrument  redcap_repeat_instance        mrn  \\\n",
      "0    RSCT000111     surgical_information                     1.0  8846243.0   \n",
      "1    RSCT000208     surgical_information                     1.0   845657.0   \n",
      "2    RSCT000277     surgical_information                     1.0  1715973.0   \n",
      "3    RSCT000508     surgical_information                     1.0  8981415.0   \n",
      "4    RSCT000749     surgical_information                     1.0  5078875.0   \n",
      "..          ...                      ...                     ...        ...   \n",
      "672  RSCT099499     surgical_information                     1.0  1737071.0   \n",
      "673  RSCT099739     surgical_information                     1.0  1617602.0   \n",
      "674  RSCT099741     surgical_information                     1.0  1812168.0   \n",
      "675  RSCT099755     surgical_information                     1.0  1804561.0   \n",
      "676  RSCT099914     surgical_information                     1.0  1717631.0   \n",
      "\n",
      "     study_site study_site_other  ny_num_yn ny_num other_study_ids  inc_crit  \\\n",
      "0           1.0             None        0.0   None            None       1.0   \n",
      "1           1.0             None        0.0   None            None       1.0   \n",
      "2           1.0             None        0.0   None            None       1.0   \n",
      "3           1.0             None        0.0   None            None       1.0   \n",
      "4           1.0             None        1.0  NY087            None       1.0   \n",
      "..          ...              ...        ...    ...             ...       ...   \n",
      "672         1.0             None        0.0   None            None       1.0   \n",
      "673         1.0             None        0.0   None            None       1.0   \n",
      "674         1.0             None        0.0   None            None       1.0   \n",
      "675         1.0             None        0.0   None            None       1.0   \n",
      "676         1.0             None        0.0   None            None       1.0   \n",
      "\n",
      "     ...  cshq_nw_z  cshq_para_raw  cshq_para_z  cshq_breath_raw  \\\n",
      "0    ...       None           None         None             None   \n",
      "1    ...       None           None         None             None   \n",
      "2    ...       None           None         None             None   \n",
      "3    ...       None           None         None             None   \n",
      "4    ...       None           None         None             None   \n",
      "..   ...        ...            ...          ...              ...   \n",
      "672  ...       None           None         None             None   \n",
      "673  ...       None           None         None             None   \n",
      "674  ...       None           None         None             None   \n",
      "675  ...       None           None         None             None   \n",
      "676  ...       None           None         None             None   \n",
      "\n",
      "     cshq_breath_z  cshq_ds_raw  cshq_ds_z  cshq_total_raw  cshq_total_z  \\\n",
      "0             None         None       None            None          None   \n",
      "1             None         None       None            None          None   \n",
      "2             None         None       None            None          None   \n",
      "3             None         None       None            None          None   \n",
      "4             None         None       None            None          None   \n",
      "..             ...          ...        ...             ...           ...   \n",
      "672           None         None       None            None          None   \n",
      "673           None         None       None            None          None   \n",
      "674           None         None       None            None          None   \n",
      "675           None         None       None            None          None   \n",
      "676           None         None       None            None          None   \n",
      "\n",
      "     neuropsychological_testing_complete  \n",
      "0                                    2.0  \n",
      "1                                    2.0  \n",
      "2                                    2.0  \n",
      "3                                    2.0  \n",
      "4                                    2.0  \n",
      "..                                   ...  \n",
      "672                                  2.0  \n",
      "673                                  2.0  \n",
      "674                                  2.0  \n",
      "675                                  2.0  \n",
      "676                                  2.0  \n",
      "\n",
      "[677 rows x 4677 columns]\n"
     ]
    }
   ],
   "source": [
    "test = df_drop[df_drop[\"redcap_repeat_instance\"]==1]\n",
    "\n",
    "# Group by 'record_id' and aggregate non-null values for each column\n",
    "consolidated_df = df.groupby('record_id').agg(lambda x: x.dropna().iloc[0] if not x.dropna().empty else None)\n",
    "\n",
    "# Reset the index to get a clean DataFrame\n",
    "consolidated_df = consolidated_df.reset_index()\n",
    "\n",
    "# Now, consolidated_df contains one row per patient with non-null information\n",
    "print(consolidated_df)\n",
    "\n",
    "# Save dataframe for further use\n",
    "consolidated_df.to_pickle(\"../../data/processed/consolidated_df.pkl\")"
   ]
  },
  {
   "cell_type": "code",
   "execution_count": 21,
   "metadata": {},
   "outputs": [
    {
     "name": "stdout",
     "output_type": "stream",
     "text": [
      "                     Column  Percentage of NaN\n",
      "5          study_site_other              100.0\n",
      "114       epi_clin_reviewer              100.0\n",
      "333         aed_name_other6              100.0\n",
      "381      surg_clin_reviewer              100.0\n",
      "520   resect_les_extent_oth              100.0\n",
      "...                     ...                ...\n",
      "4652              srs_sc_t2              100.0\n",
      "4653         srs_smot_raw_2              100.0\n",
      "4654            srs_smot_2t              100.0\n",
      "4655         srs_mann_raw_2              100.0\n",
      "4656            srs_mann_2t              100.0\n",
      "\n",
      "[72 rows x 2 columns]\n"
     ]
    }
   ],
   "source": [
    "# Calculate the percentage of NaN values per column\n",
    "na_percentage = (consolidated_df.isna().mean() * 100).round(2)\n",
    "\n",
    "# Create a new DataFrame with the results\n",
    "na_consolidated_df = pd.DataFrame({'Column': na_percentage.index, 'Percentage of NaN': na_percentage.values})\n",
    "\n",
    "# Display the resulting DataFrame\n",
    "print(na_consolidated_df[na_consolidated_df[\"Percentage of NaN\"]==100])"
   ]
  },
  {
   "cell_type": "code",
   "execution_count": 3,
   "metadata": {},
   "outputs": [
    {
     "name": "stdout",
     "output_type": "stream",
     "text": [
      "record_id                      0\n",
      "resect_les_hypoth___2          0\n",
      "resect_les_hypoth___3          0\n",
      "resect_les_thal___1            0\n",
      "resect_les_thal___2            0\n",
      "                            ... \n",
      "mri_make_other_2             677\n",
      "ae_des2                      677\n",
      "eeg_other_dur                677\n",
      "seizures_type_pdis_other8    677\n",
      "eeg_intict_other_period6     677\n",
      "Length: 4677, dtype: int64\n"
     ]
    }
   ],
   "source": [
    "consolidated_df = pd.read_pickle(\"../../data/processed/consolidated_df.pkl\")\n",
    "\n",
    "print(consolidated_df.isna().sum().sort_values())"
   ]
  },
  {
   "cell_type": "markdown",
   "metadata": {},
   "source": [
    "## Distribution of Years post-surgery"
   ]
  },
  {
   "cell_type": "code",
   "execution_count": 19,
   "metadata": {},
   "outputs": [
    {
     "data": {
      "text/plain": [
       "69"
      ]
     },
     "execution_count": 19,
     "metadata": {},
     "output_type": "execute_result"
    }
   ],
   "source": [
    "sum(consolidated_df[\"eo_yrs_postsurg\"]<=2)\n",
    "sum(consolidated_df[\"eo_yrs_postsurg\"]>5) - sum(consolidated_df[\"eo_yrs_postsurg\"]>7)"
   ]
  },
  {
   "cell_type": "code",
   "execution_count": 5,
   "metadata": {},
   "outputs": [
    {
     "data": {
      "image/png": "[encoded data removed]",
      "text/plain": [
       "<Figure size 640x480 with 1 Axes>"
      ]
     },
     "metadata": {},
     "output_type": "display_data"
    }
   ],
   "source": [
    "# Create a histogram\n",
    "plt.hist(consolidated_df[\"eo_yrs_postsurg\"], bins=25, color='blue', alpha=0.7)\n",
    "\n",
    "# Add labels and title\n",
    "plt.xlabel('Years post-surgery')\n",
    "plt.ylabel('Frequency')\n",
    "plt.title('Years post-surgery distribution')\n",
    "\n",
    "# Show the plot\n",
    "plt.show()"
   ]
  },
  {
   "cell_type": "code",
   "execution_count": 2,
   "metadata": {},
   "outputs": [],
   "source": [
    "import pandas as pd\n",
    "\n",
    "# Read dataframe from the pickle format\n",
    "wide_df = pd.read_pickle(\"../../data/processed/preprocessed_df.pkl\")"
   ]
  },
  {
   "cell_type": "code",
   "execution_count": 11,
   "metadata": {},
   "outputs": [
    {
     "data": {
      "image/png": "[encoded data removed]",
      "text/plain": [
       "<Figure size 640x480 with 1 Axes>"
      ]
     },
     "metadata": {},
     "output_type": "display_data"
    }
   ],
   "source": [
    "import matplotlib.pyplot as plt\n",
    "\n",
    "# Create a histogram\n",
    "plt.hist(wide_df[\"surgical_information\"], bins=15, color='blue', alpha=0.7)\n",
    "\n",
    "# Add labels and title\n",
    "plt.xlabel('Number of surgeries')\n",
    "plt.ylabel('Frequency')\n",
    "plt.title('Number of surgeries distribution')\n",
    "\n",
    "# Show the plot\n",
    "plt.show()"
   ]
  },
  {
   "cell_type": "code",
   "execution_count": null,
   "metadata": {},
   "outputs": [],
   "source": []
  },
  {
   "cell_type": "markdown",
   "metadata": {},
   "source": [
    "## Print system information"
   ]
  },
  {
   "cell_type": "code",
   "execution_count": 24,
   "metadata": {},
   "outputs": [
    {
     "data": {
      "text/html": [
       "<details>\n",
       "<summary>Click to view session information</summary>\n",
       "<pre>\n",
       "-----\n",
       "matplotlib          3.8.2\n",
       "pandas              2.1.3\n",
       "seaborn             0.13.0\n",
       "session_info        1.0.0\n",
       "-----\n",
       "</pre>\n",
       "<details>\n",
       "<summary>Click to view modules imported as dependencies</summary>\n",
       "<pre>\n",
       "PIL                         10.1.0\n",
       "anyio                       NA\n",
       "arrow                       1.3.0\n",
       "asttokens                   NA\n",
       "attr                        23.1.0\n",
       "attrs                       23.1.0\n",
       "babel                       2.13.1\n",
       "certifi                     2023.11.17\n",
       "cffi                        1.16.0\n",
       "charset_normalizer          3.3.2\n",
       "colorama                    0.4.6\n",
       "comm                        0.2.0\n",
       "cycler                      0.12.1\n",
       "cython_runtime              NA\n",
       "dateutil                    2.8.2\n",
       "debugpy                     1.8.0\n",
       "decorator                   5.1.1\n",
       "defusedxml                  0.7.1\n",
       "entrypoints                 0.4\n",
       "executing                   2.0.1\n",
       "fastjsonschema              NA\n",
       "fqdn                        NA\n",
       "idna                        3.4\n",
       "ipykernel                   6.27.0\n",
       "isoduration                 NA\n",
       "jedi                        0.19.1\n",
       "jinja2                      3.1.2\n",
       "json5                       NA\n",
       "jsonpointer                 2.4\n",
       "jsonschema                  4.20.0\n",
       "jsonschema_specifications   NA\n",
       "jupyter_events              0.9.0\n",
       "jupyter_server              2.11.0\n",
       "jupyterlab_server           2.25.2\n",
       "kiwisolver                  1.4.5\n",
       "markupsafe                  2.1.3\n",
       "matplotlib_inline           0.1.6\n",
       "mpl_toolkits                NA\n",
       "nbformat                    5.9.2\n",
       "numpy                       1.26.2\n",
       "overrides                   NA\n",
       "packaging                   23.2\n",
       "parso                       0.8.3\n",
       "platformdirs                4.0.0\n",
       "prometheus_client           NA\n",
       "prompt_toolkit              3.0.41\n",
       "psutil                      5.9.6\n",
       "pure_eval                   0.2.2\n",
       "pydev_ipython               NA\n",
       "pydevconsole                NA\n",
       "pydevd                      2.9.5\n",
       "pydevd_file_utils           NA\n",
       "pydevd_plugins              NA\n",
       "pydevd_tracing              NA\n",
       "pygments                    2.17.2\n",
       "pyparsing                   3.1.1\n",
       "pythoncom                   NA\n",
       "pythonjsonlogger            NA\n",
       "pytz                        2023.3.post1\n",
       "pywin32_bootstrap           NA\n",
       "pywin32_system32            NA\n",
       "pywintypes                  NA\n",
       "referencing                 NA\n",
       "requests                    2.31.0\n",
       "rfc3339_validator           0.1.4\n",
       "rfc3986_validator           0.1.1\n",
       "rpds                        NA\n",
       "scipy                       1.11.4\n",
       "send2trash                  NA\n",
       "six                         1.16.0\n",
       "sniffio                     1.3.0\n",
       "stack_data                  0.6.3\n",
       "tornado                     6.3.3\n",
       "traitlets                   5.13.0\n",
       "uri_template                NA\n",
       "urllib3                     2.1.0\n",
       "wcwidth                     0.2.12\n",
       "webcolors                   1.13\n",
       "websocket                   1.6.4\n",
       "win32api                    NA\n",
       "win32com                    NA\n",
       "win32con                    NA\n",
       "win32trace                  NA\n",
       "winerror                    NA\n",
       "yaml                        6.0.1\n",
       "zmq                         24.0.1\n",
       "</pre>\n",
       "</details> <!-- seems like this ends pre, so might as well be explicit -->\n",
       "<pre>\n",
       "-----\n",
       "IPython             8.17.2\n",
       "jupyter_client      7.4.9\n",
       "jupyter_core        5.5.0\n",
       "jupyterlab          4.0.9\n",
       "notebook            7.0.6\n",
       "-----\n",
       "Python 3.11.0 (main, Oct 24 2022, 18:26:48) [MSC v.1933 64 bit (AMD64)]\n",
       "Windows-10-10.0.22631-SP0\n",
       "-----\n",
       "Session information updated at 2023-11-22 17:06\n",
       "</pre>\n",
       "</details>"
      ],
      "text/plain": [
       "<IPython.core.display.HTML object>"
      ]
     },
     "execution_count": 24,
     "metadata": {},
     "output_type": "execute_result"
    }
   ],
   "source": [
    "import session_info\n",
    "\n",
    "session_info.show()"
   ]
  }
 ],
 "metadata": {
  "kernelspec": {
   "display_name": "Python 3",
   "language": "python",
   "name": "python3"
  },
  "language_info": {
   "codemirror_mode": {
    "name": "ipython",
    "version": 3
   },
   "file_extension": ".py",
   "mimetype": "text/x-python",
   "name": "python",
   "nbconvert_exporter": "python",
   "pygments_lexer": "ipython3",
   "version": "3.11.0"
  }
 },
 "nbformat": 4,
 "nbformat_minor": 2
}
