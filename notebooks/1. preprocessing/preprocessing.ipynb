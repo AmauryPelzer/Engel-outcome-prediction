{
 "cells": [
  {
   "cell_type": "markdown",
   "metadata": {},
   "source": [
    "Import the data in a dataframe"
   ]
  },
  {
   "cell_type": "code",
   "execution_count": 4,
   "metadata": {},
   "outputs": [],
   "source": [
    "import pandas as pd\n",
    "import matplotlib.pyplot as plt\n",
    "\n",
    "df = pd.read_csv(\"../../data/raw/ResectMap_DATA_2023-11-13_2306.csv\")\n",
    "# Dataframe with basic information per patient\n",
    "df_mrn = df[df[\"mrn\"].notna()]\n",
    "# Dataframe with Engel outcomes\n",
    "df_engel = df[df[\"redcap_repeat_instrument\"] == \"engel_outcomes\"]"
   ]
  },
  {
   "cell_type": "code",
   "execution_count": 22,
   "metadata": {},
   "outputs": [
    {
     "name": "stdout",
     "output_type": "stream",
     "text": [
      "Number of participants in the main df: 677\n",
      "Number of participants in the MRN df: 677\n",
      "Same as number of row ? True\n",
      "Number of participants in the Engel df: 677\n",
      "Same as number of row ? False\n"
     ]
    }
   ],
   "source": [
    "# Print the number of participants\n",
    "print(\"Number of participants in the main df:\", df[\"record_id\"].nunique())\n",
    "print(\"Number of participants in the MRN df:\", df_mrn[\"record_id\"].nunique())\n",
    "print(\"Same as number of row ?\", df_mrn[\"record_id\"].nunique()==len(df_mrn))\n",
    "print(\"Number of participants in the Engel df:\", df_engel[\"record_id\"].nunique())\n",
    "print(\"Same as number of row ?\", df_engel[\"record_id\"].nunique()==len(df_engel))"
   ]
  },
  {
   "cell_type": "markdown",
   "metadata": {},
   "source": [
    "Plotting the age distribution of the data"
   ]
  },
  {
   "cell_type": "code",
   "execution_count": 54,
   "metadata": {},
   "outputs": [
    {
     "name": "stdout",
     "output_type": "stream",
     "text": [
      "Minimum age: 2.0 \n",
      "Maximum age: 84.0\n"
     ]
    }
   ],
   "source": [
    "print(\"Minimum age:\", df_mrn[\"age\"].min(), \"\\nMaximum age:\", df_mrn[\"age\"].max())"
   ]
  },
  {
   "cell_type": "code",
   "execution_count": 60,
   "metadata": {},
   "outputs": [
    {
     "data": {
      "image/png": "[encoded data removed]",
      "text/plain": [
       "<Figure size 640x480 with 1 Axes>"
      ]
     },
     "metadata": {},
     "output_type": "display_data"
    }
   ],
   "source": [
    "# Create a histogram\n",
    "plt.hist(df_mrn[\"age\"], bins=82, color='blue', alpha=0.7)\n",
    "\n",
    "# Add labels and title\n",
    "plt.xlabel('Age')\n",
    "plt.ylabel('Frequency')\n",
    "plt.title('Age distribution')\n",
    "\n",
    "# Show the plot\n",
    "plt.show()"
   ]
  },
  {
   "cell_type": "markdown",
   "metadata": {},
   "source": [
    "Showing the sex distribution of the data"
   ]
  },
  {
   "cell_type": "code",
   "execution_count": null,
   "metadata": {},
   "outputs": [],
   "source": [
    "# Before, 1 represented female and 2 represented male\n",
    "# Now, 0 represents female and 1 represents male\n",
    "df_mrn[\"sex_gender\"] = df_mrn[\"sex_gender\"].map({1: 0, 2: 1})\n",
    "\n",
    "# Define a mapping dictionary\n",
    "gender_mapping = {0: 'female', 1: 'male'} \n",
    "\n",
    "# Count the number of males and females in the dataset\n",
    "df_mrn[\"sex_gender\"].replace(gender_mapping).value_counts()"
   ]
  },
  {
   "cell_type": "code",
   "execution_count": 24,
   "metadata": {},
   "outputs": [
    {
     "data": {
      "text/html": [
       "<div>\n",
       "<style scoped>\n",
       "    .dataframe tbody tr th:only-of-type {\n",
       "        vertical-align: middle;\n",
       "    }\n",
       "\n",
       "    .dataframe tbody tr th {\n",
       "        vertical-align: top;\n",
       "    }\n",
       "\n",
       "    .dataframe thead th {\n",
       "        text-align: right;\n",
       "    }\n",
       "</style>\n",
       "<table border=\"1\" class=\"dataframe\">\n",
       "  <thead>\n",
       "    <tr style=\"text-align: right;\">\n",
       "      <th></th>\n",
       "      <th>record_id</th>\n",
       "      <th>redcap_repeat_instrument</th>\n",
       "      <th>redcap_repeat_instance</th>\n",
       "      <th>mrn</th>\n",
       "      <th>study_site</th>\n",
       "      <th>study_site_other</th>\n",
       "      <th>ny_num_yn</th>\n",
       "      <th>ny_num</th>\n",
       "      <th>other_study_ids</th>\n",
       "      <th>inc_crit</th>\n",
       "      <th>...</th>\n",
       "      <th>cshq_nw_z</th>\n",
       "      <th>cshq_para_raw</th>\n",
       "      <th>cshq_para_z</th>\n",
       "      <th>cshq_breath_raw</th>\n",
       "      <th>cshq_breath_z</th>\n",
       "      <th>cshq_ds_raw</th>\n",
       "      <th>cshq_ds_z</th>\n",
       "      <th>cshq_total_raw</th>\n",
       "      <th>cshq_total_z</th>\n",
       "      <th>neuropsychological_testing_complete</th>\n",
       "    </tr>\n",
       "  </thead>\n",
       "  <tbody>\n",
       "    <tr>\n",
       "      <th>2043</th>\n",
       "      <td>RSCT041607</td>\n",
       "      <td>engel_outcomes</td>\n",
       "      <td>2.0</td>\n",
       "      <td>NaN</td>\n",
       "      <td>NaN</td>\n",
       "      <td>NaN</td>\n",
       "      <td>NaN</td>\n",
       "      <td>NaN</td>\n",
       "      <td>NaN</td>\n",
       "      <td>NaN</td>\n",
       "      <td>...</td>\n",
       "      <td>NaN</td>\n",
       "      <td>NaN</td>\n",
       "      <td>NaN</td>\n",
       "      <td>NaN</td>\n",
       "      <td>NaN</td>\n",
       "      <td>NaN</td>\n",
       "      <td>NaN</td>\n",
       "      <td>NaN</td>\n",
       "      <td>NaN</td>\n",
       "      <td>NaN</td>\n",
       "    </tr>\n",
       "    <tr>\n",
       "      <th>2044</th>\n",
       "      <td>RSCT041607</td>\n",
       "      <td>engel_outcomes</td>\n",
       "      <td>3.0</td>\n",
       "      <td>NaN</td>\n",
       "      <td>NaN</td>\n",
       "      <td>NaN</td>\n",
       "      <td>NaN</td>\n",
       "      <td>NaN</td>\n",
       "      <td>NaN</td>\n",
       "      <td>NaN</td>\n",
       "      <td>...</td>\n",
       "      <td>NaN</td>\n",
       "      <td>NaN</td>\n",
       "      <td>NaN</td>\n",
       "      <td>NaN</td>\n",
       "      <td>NaN</td>\n",
       "      <td>NaN</td>\n",
       "      <td>NaN</td>\n",
       "      <td>NaN</td>\n",
       "      <td>NaN</td>\n",
       "      <td>NaN</td>\n",
       "    </tr>\n",
       "    <tr>\n",
       "      <th>2814</th>\n",
       "      <td>RSCT058378</td>\n",
       "      <td>engel_outcomes</td>\n",
       "      <td>2.0</td>\n",
       "      <td>NaN</td>\n",
       "      <td>NaN</td>\n",
       "      <td>NaN</td>\n",
       "      <td>NaN</td>\n",
       "      <td>NaN</td>\n",
       "      <td>NaN</td>\n",
       "      <td>NaN</td>\n",
       "      <td>...</td>\n",
       "      <td>NaN</td>\n",
       "      <td>NaN</td>\n",
       "      <td>NaN</td>\n",
       "      <td>NaN</td>\n",
       "      <td>NaN</td>\n",
       "      <td>NaN</td>\n",
       "      <td>NaN</td>\n",
       "      <td>NaN</td>\n",
       "      <td>NaN</td>\n",
       "      <td>NaN</td>\n",
       "    </tr>\n",
       "    <tr>\n",
       "      <th>3117</th>\n",
       "      <td>RSCT064938</td>\n",
       "      <td>engel_outcomes</td>\n",
       "      <td>2.0</td>\n",
       "      <td>NaN</td>\n",
       "      <td>NaN</td>\n",
       "      <td>NaN</td>\n",
       "      <td>NaN</td>\n",
       "      <td>NaN</td>\n",
       "      <td>NaN</td>\n",
       "      <td>NaN</td>\n",
       "      <td>...</td>\n",
       "      <td>NaN</td>\n",
       "      <td>NaN</td>\n",
       "      <td>NaN</td>\n",
       "      <td>NaN</td>\n",
       "      <td>NaN</td>\n",
       "      <td>NaN</td>\n",
       "      <td>NaN</td>\n",
       "      <td>NaN</td>\n",
       "      <td>NaN</td>\n",
       "      <td>NaN</td>\n",
       "    </tr>\n",
       "    <tr>\n",
       "      <th>3259</th>\n",
       "      <td>RSCT066862</td>\n",
       "      <td>engel_outcomes</td>\n",
       "      <td>2.0</td>\n",
       "      <td>NaN</td>\n",
       "      <td>NaN</td>\n",
       "      <td>NaN</td>\n",
       "      <td>NaN</td>\n",
       "      <td>NaN</td>\n",
       "      <td>NaN</td>\n",
       "      <td>NaN</td>\n",
       "      <td>...</td>\n",
       "      <td>NaN</td>\n",
       "      <td>NaN</td>\n",
       "      <td>NaN</td>\n",
       "      <td>NaN</td>\n",
       "      <td>NaN</td>\n",
       "      <td>NaN</td>\n",
       "      <td>NaN</td>\n",
       "      <td>NaN</td>\n",
       "      <td>NaN</td>\n",
       "      <td>NaN</td>\n",
       "    </tr>\n",
       "    <tr>\n",
       "      <th>4412</th>\n",
       "      <td>RSCT091205</td>\n",
       "      <td>engel_outcomes</td>\n",
       "      <td>2.0</td>\n",
       "      <td>NaN</td>\n",
       "      <td>NaN</td>\n",
       "      <td>NaN</td>\n",
       "      <td>NaN</td>\n",
       "      <td>NaN</td>\n",
       "      <td>NaN</td>\n",
       "      <td>NaN</td>\n",
       "      <td>...</td>\n",
       "      <td>NaN</td>\n",
       "      <td>NaN</td>\n",
       "      <td>NaN</td>\n",
       "      <td>NaN</td>\n",
       "      <td>NaN</td>\n",
       "      <td>NaN</td>\n",
       "      <td>NaN</td>\n",
       "      <td>NaN</td>\n",
       "      <td>NaN</td>\n",
       "      <td>NaN</td>\n",
       "    </tr>\n",
       "  </tbody>\n",
       "</table>\n",
       "<p>6 rows × 4677 columns</p>\n",
       "</div>"
      ],
      "text/plain": [
       "       record_id redcap_repeat_instrument  redcap_repeat_instance  mrn  \\\n",
       "2043  RSCT041607           engel_outcomes                     2.0  NaN   \n",
       "2044  RSCT041607           engel_outcomes                     3.0  NaN   \n",
       "2814  RSCT058378           engel_outcomes                     2.0  NaN   \n",
       "3117  RSCT064938           engel_outcomes                     2.0  NaN   \n",
       "3259  RSCT066862           engel_outcomes                     2.0  NaN   \n",
       "4412  RSCT091205           engel_outcomes                     2.0  NaN   \n",
       "\n",
       "      study_site  study_site_other  ny_num_yn ny_num other_study_ids  \\\n",
       "2043         NaN               NaN        NaN    NaN             NaN   \n",
       "2044         NaN               NaN        NaN    NaN             NaN   \n",
       "2814         NaN               NaN        NaN    NaN             NaN   \n",
       "3117         NaN               NaN        NaN    NaN             NaN   \n",
       "3259         NaN               NaN        NaN    NaN             NaN   \n",
       "4412         NaN               NaN        NaN    NaN             NaN   \n",
       "\n",
       "      inc_crit  ...  cshq_nw_z  cshq_para_raw  cshq_para_z  cshq_breath_raw  \\\n",
       "2043       NaN  ...        NaN            NaN          NaN              NaN   \n",
       "2044       NaN  ...        NaN            NaN          NaN              NaN   \n",
       "2814       NaN  ...        NaN            NaN          NaN              NaN   \n",
       "3117       NaN  ...        NaN            NaN          NaN              NaN   \n",
       "3259       NaN  ...        NaN            NaN          NaN              NaN   \n",
       "4412       NaN  ...        NaN            NaN          NaN              NaN   \n",
       "\n",
       "      cshq_breath_z  cshq_ds_raw  cshq_ds_z  cshq_total_raw  cshq_total_z  \\\n",
       "2043            NaN          NaN        NaN             NaN           NaN   \n",
       "2044            NaN          NaN        NaN             NaN           NaN   \n",
       "2814            NaN          NaN        NaN             NaN           NaN   \n",
       "3117            NaN          NaN        NaN             NaN           NaN   \n",
       "3259            NaN          NaN        NaN             NaN           NaN   \n",
       "4412            NaN          NaN        NaN             NaN           NaN   \n",
       "\n",
       "      neuropsychological_testing_complete  \n",
       "2043                                  NaN  \n",
       "2044                                  NaN  \n",
       "2814                                  NaN  \n",
       "3117                                  NaN  \n",
       "3259                                  NaN  \n",
       "4412                                  NaN  \n",
       "\n",
       "[6 rows x 4677 columns]"
      ]
     },
     "execution_count": 24,
     "metadata": {},
     "output_type": "execute_result"
    }
   ],
   "source": [
    "# Print patients with multiple Engel outcomes\n",
    "df_engel[df_engel['record_id'].duplicated()]"
   ]
  },
  {
   "cell_type": "markdown",
   "metadata": {},
   "source": [
    "Plot the distribution of Engel outcomes"
   ]
  },
  {
   "cell_type": "code",
   "execution_count": 65,
   "metadata": {},
   "outputs": [
    {
     "name": "stderr",
     "output_type": "stream",
     "text": [
      "c:\\Tools\\Python_3.7.2\\lib\\site-packages\\pandas\\core\\indexing.py:1773: SettingWithCopyWarning: \n",
      "A value is trying to be set on a copy of a slice from a DataFrame.\n",
      "Try using .loc[row_indexer,col_indexer] = value instead\n",
      "\n",
      "See the caveats in the documentation: https://pandas.pydata.org/pandas-docs/stable/user_guide/indexing.html#returning-a-view-versus-a-copy\n",
      "  self._setitem_single_column(ilocs[0], value, pi)\n"
     ]
    },
    {
     "data": {
      "text/html": [
       "<div>\n",
       "<style scoped>\n",
       "    .dataframe tbody tr th:only-of-type {\n",
       "        vertical-align: middle;\n",
       "    }\n",
       "\n",
       "    .dataframe tbody tr th {\n",
       "        vertical-align: top;\n",
       "    }\n",
       "\n",
       "    .dataframe thead th {\n",
       "        text-align: right;\n",
       "    }\n",
       "</style>\n",
       "<table border=\"1\" class=\"dataframe\">\n",
       "  <thead>\n",
       "    <tr style=\"text-align: right;\">\n",
       "      <th></th>\n",
       "      <th>record_id</th>\n",
       "      <th>surg_engel</th>\n",
       "    </tr>\n",
       "  </thead>\n",
       "  <tbody>\n",
       "    <tr>\n",
       "      <th>9</th>\n",
       "      <td>RSCT000111</td>\n",
       "      <td>2</td>\n",
       "    </tr>\n",
       "    <tr>\n",
       "      <th>26</th>\n",
       "      <td>RSCT000208</td>\n",
       "      <td>3</td>\n",
       "    </tr>\n",
       "    <tr>\n",
       "      <th>35</th>\n",
       "      <td>RSCT000277</td>\n",
       "      <td>4</td>\n",
       "    </tr>\n",
       "    <tr>\n",
       "      <th>40</th>\n",
       "      <td>RSCT000508</td>\n",
       "      <td>1</td>\n",
       "    </tr>\n",
       "    <tr>\n",
       "      <th>48</th>\n",
       "      <td>RSCT000749</td>\n",
       "      <td>2</td>\n",
       "    </tr>\n",
       "  </tbody>\n",
       "</table>\n",
       "</div>"
      ],
      "text/plain": [
       "     record_id  surg_engel\n",
       "9   RSCT000111           2\n",
       "26  RSCT000208           3\n",
       "35  RSCT000277           4\n",
       "40  RSCT000508           1\n",
       "48  RSCT000749           2"
      ]
     },
     "execution_count": 65,
     "metadata": {},
     "output_type": "execute_result"
    }
   ],
   "source": [
    "# Create 1 column out of the 4 dummy variables for engel outcome\n",
    "df_engel['surg_engel'] = df_engel[['surg_engel___1', 'surg_engel___2', 'surg_engel___3', 'surg_engel___4']].idxmax(axis=1).str.split('___').str[1].astype(int)\n",
    "df_engel[[\"record_id\", \"surg_engel\"]].head()"
   ]
  },
  {
   "cell_type": "code",
   "execution_count": 63,
   "metadata": {},
   "outputs": [
    {
     "data": {
      "image/png": "[encoded data removed]",
      "text/plain": [
       "<Figure size 640x480 with 1 Axes>"
      ]
     },
     "metadata": {},
     "output_type": "display_data"
    }
   ],
   "source": [
    "# Create a histogram of the 'surg_engel' variable\n",
    "plt.hist(df_engel['surg_engel'], bins=[1, 2, 3, 4, 5])  # Specify the bin edges\n",
    "\n",
    "# Customize x-axis ticks and labels\n",
    "bin_centers = [1.5, 2.5, 3.5, 4.5]\n",
    "plt.xticks(bin_centers, ['1', '2', '3', '4'])\n",
    "\n",
    "# Add labels and title\n",
    "plt.xlabel('Engel outcome')\n",
    "plt.ylabel('Frequency')\n",
    "plt.title('Distribution of Engel outcomes')\n",
    "\n",
    "# Add grid for better readability\n",
    "plt.grid(axis='y', alpha=0.75)\n",
    "\n",
    "# Show the plot\n",
    "plt.show()"
   ]
  }
 ],
 "metadata": {
  "kernelspec": {
   "display_name": "Python 3",
   "language": "python",
   "name": "python3"
  },
  "language_info": {
   "codemirror_mode": {
    "name": "ipython",
    "version": 3
   },
   "file_extension": ".py",
   "mimetype": "text/x-python",
   "name": "python",
   "nbconvert_exporter": "python",
   "pygments_lexer": "ipython3",
   "version": "3.7.2"
  }
 },
 "nbformat": 4,
 "nbformat_minor": 2
}
