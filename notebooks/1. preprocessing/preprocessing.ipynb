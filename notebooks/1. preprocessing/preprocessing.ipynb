{
 "cells": [
  {
   "cell_type": "markdown",
   "metadata": {},
   "source": [
    "# Preprocessing\n",
    "\n",
    "## Data Import"
   ]
  },
  {
   "cell_type": "code",
   "execution_count": 2,
   "metadata": {},
   "outputs": [
    {
     "name": "stderr",
     "output_type": "stream",
     "text": [
      "C:\\Users\\Amaury\\AppData\\Roaming\\Python\\Python37\\site-packages\\IPython\\core\\interactiveshell.py:3553: DtypeWarning: Columns (8,20,31,39,65,79,83,85,127,130,132,150,153,161,308,313,317,321,325,329,330,334,377,385,403,409,439,440,441,442,443,444,445,453,463,475,512,523,524,525,526,527,528,529,537,566,572,574,588,589,590,591,592,601,602,604,605,606,608,620,621,622,627,633,636,637,639,646,647,658,676,677,682,695,698,712,714,718,720,721,723,725,726,728,732,733,735,748,750,754,757,759,761,762,764,768,770,772,774,776,780,782,786,787,791,796,803,810,812,813,814,815,817,818,880,887,888,896,904,905,906,968,975,976,984,992,993,994,1056,1063,1064,1072,1080,1081,1082,1144,1151,1152,1169,1170,1232,1239,1240,1257,1258,1320,1327,1328,1345,1408,1415,1416,1432,1433,1496,1503,1521,1523,1540,1541,1558,1559,1576,1577,1595,1613,1631,1649,1667,1669,1670,1671,1678,1730,1738,1790,1801,1802,1811,1819,1820,1821,1822,1823,1830,1882,1890,1942,1953,1954,1963,1971,1972,1973,1974,1975,1982,2034,2042,2094,2105,2106,2115,2124,2125,2126,2127,2134,2186,2194,2246,2257,2258,2267,2276,2277,2278,2279,2286,2338,2346,2398,2409,2410,2419,2427,2428,2429,2430,2431,2438,2490,2498,2550,2561,2562,2580,2581,2582,2583,2590,2642,2650,2702,2713,2714,2731,2732,2733,2734,2735,2742,2794,2802,2854,2865,2866,2883,2884,2885,2886,2887,2888,2889,2899,2903,2912,2917,2929,2951,2977,2978,3116,3128,3138,3139,3140,3141,3142,3143,3144,3145,3146,3147,3148,3150,3156,3159,3162,3165,3167,3173,3176,3183,3244,3300,3305,3307,3308,3311,3314,3316,3325,3332,3393,3449,3478,3479,3483,3488,3492,3495,3497,3498,3499,3500,3501,3502,3504,3505,3506,3507,3508,3509,3511,3512,3513,3514,3515,3518,3519,3520,3521,3522,3543,3550,3551,3564,3566,3588,3589,3592,3593,3594,3595,3596,3597,3598,3599,3600,3601,3602,3603,3605,3606,3607,3608,3609,3612,3613,3614,3615,3616,3617,3618,3619,3620,3621,3622,3623,3624,3625,3626,3627,3628,3629,3630,3631,3632,3633,3634,3635,3636,3637,3638,3639,3640,3641,3642,3643,3644,3645,3646,3647,3650,3651,3652,3653,3654,3655,3656,3657,3660,3661,3662,3663,3672,3673,3679,3680,3681,3684,3685,3688,3690,3695,3696,3698,3712,3718,3719,3726,3727,3728,3733,3734,3737,3738,3741,3744,3745,3748,3763,3779,3790,3796,3797,3798,3799,3800,3801,3802,3803,3804,3805,3806,3807,3808,3809,3810,3811,3812,3813,3814,3815,3816,3817,3818,3819,3820,3821,3822,3823,3824,3825,3826,3827,3828,3829,3830,3831,3832,3833,3834,3835,3836,3837,3841,3844,3847,3848,3852,3853,3854,3855,3856,3857,3858,3859,3860,3861,3862,3863,3864,3867,3871,3872,3874,3876,3877,3883,3885,3886,3887,3888,3889,3890,3893,3894,3907,3917,3925,3929,3937,3939,3945,3946,3949,3950,3951,3952,3953,3954,3955,3956,3957,3958,3959,3960,3961,3963,3965,3970,3971,3972,3973,3976,3977,3978,3979,3981,3982,3983,3986,3995,3996,3997,3998,3999,4000,4001,4002,4003,4004,4005,4006,4007,4008,4009,4010,4011,4012,4013,4014,4015,4016,4017,4018,4019,4020,4021,4022,4023,4024,4025,4026,4027,4028,4029,4030,4031,4032,4033,4034,4035,4036,4038,4042,4043,4044,4045,4046,4047,4048,4049,4050,4051,4052,4053,4054,4055,4056,4057,4058,4059,4060,4061,4062,4063,4064,4065,4066,4067,4068,4069,4070,4071,4072,4073,4074,4075,4076,4077,4078,4079,4080,4081,4082,4083,4084,4085,4086,4087,4088,4089,4091,4093,4095,4104,4105,4106,4107,4108,4109,4110,4111,4112,4113,4114,4115,4116,4117,4119,4120,4121,4122,4123,4124,4125,4126,4127,4128,4129,4130,4131,4132,4133,4134,4135,4136,4137,4138,4139,4140,4141,4142,4143,4144,4145,4146,4147,4148,4149,4150,4151,4152,4153,4154,4155,4157,4158,4159,4160,4161,4162,4163,4164,4165,4166,4167,4168,4169,4170,4172,4173,4174,4175,4176,4178,4179,4180,4181,4182,4183,4184,4185,4186,4187,4189,4190,4191,4192,4193,4194,4195,4196,4197,4198,4199,4200,4201,4202,4203,4204,4205,4206,4207,4208,4209,4210,4211,4212,4213,4214,4215,4216,4217,4218,4219,4220,4221,4222,4223,4224,4226,4227,4228,4229,4230,4231,4232,4233,4234,4235,4236,4237,4238,4239,4240,4241,4242,4243,4244,4245,4246,4247,4248,4249,4250,4251,4255,4256,4257,4258,4259,4260,4261,4262,4263,4264,4265,4266,4267,4268,4269,4270,4271,4272,4273,4274,4275,4276,4277,4278,4279,4280,4281,4282,4283,4284,4285,4286,4287,4288,4289,4290,4291,4292,4293,4294,4295,4296,4297,4298,4303,4304,4305,4306,4307,4308,4309,4310,4311,4312,4313,4314,4315,4316,4317,4318,4319,4320,4321,4322,4323,4324,4325,4326,4327,4328,4329,4330,4331,4332,4333,4334,4335,4336,4337,4338,4339,4340,4341,4342,4343,4344,4345,4346,4347,4348,4349,4350,4351,4352,4353,4354,4355,4356,4357,4358,4359,4360,4361,4362,4363,4364,4365,4366,4367,4368,4369,4370,4371,4372,4373,4374,4375,4376,4377,4378,4379,4380,4381,4382,4383,4384,4385,4386,4387,4388,4389,4390,4391,4392,4393,4394,4395,4396,4397,4398,4399,4400,4401,4402,4403,4404,4405,4406,4407,4408,4409,4410,4411,4412,4413,4414,4415,4416,4417,4418,4419,4420,4421,4422,4460,4461,4462,4463,4464,4465,4467,4468,4470,4471,4472,4473,4474,4475,4476,4477,4478,4479,4480,4481,4482,4483,4484,4485,4486,4487,4488,4489,4490,4491,4492,4493,4494,4495,4496,4497,4498,4499,4500,4501,4502,4503,4504,4505,4506,4507,4508,4509,4510,4511,4512,4513,4514,4515,4516,4517,4518,4519,4520,4527,4528,4530,4531,4532,4533,4534,4535,4536,4537,4539,4540,4541,4542,4543,4544,4545,4546,4547,4548,4550,4551,4552,4553,4554,4555,4556,4557,4558,4559,4561,4562,4566,4567,4568,4569,4570,4571,4572,4573,4574,4575,4576,4577,4579,4580,4581,4582,4583,4584,4585,4586,4587,4588,4589,4590,4591,4592,4593,4594,4595,4596,4597,4598,4599,4600,4602,4603,4604,4605,4606,4607,4608,4609,4610,4611,4612,4613,4614,4615,4616,4617,4618,4619,4620,4621,4622,4623,4625,4626,4627,4628,4632,4633,4634,4635,4636,4637,4638,4639,4640,4641,4642,4643,4644,4658,4659,4660,4661,4662,4663,4664,4665,4666,4667,4668,4669,4670,4671,4672,4673,4674,4675) have mixed types.Specify dtype option on import or set low_memory=False.\n",
      "  exec(code_obj, self.user_global_ns, self.user_ns)\n"
     ]
    }
   ],
   "source": [
    "import pandas as pd\n",
    "import matplotlib.pyplot as plt\n",
    "\n",
    "df = pd.read_csv(\"../../data/raw/ResectMap_DATA_2023-11-13_2306.csv\")\n",
    "# Dataframe with basic information per patient\n",
    "df_mrn = df[df[\"mrn\"].notna()]\n",
    "# Dataframe with Engel outcomes\n",
    "df_engel = df[df[\"redcap_repeat_instrument\"] == \"engel_outcomes\"]"
   ]
  },
  {
   "cell_type": "code",
   "execution_count": 3,
   "metadata": {},
   "outputs": [
    {
     "name": "stdout",
     "output_type": "stream",
     "text": [
      "Number of participants in the main df: 677\n",
      "Number of participants in the MRN df: 677\n",
      "Same as number of row ? True\n",
      "Number of participants in the Engel df: 677\n",
      "Same as number of row ? False\n"
     ]
    }
   ],
   "source": [
    "# Print the number of participants\n",
    "print(\"Number of participants in the main df:\", df[\"record_id\"].nunique())\n",
    "print(\"Number of participants in the MRN df:\", df_mrn[\"record_id\"].nunique())\n",
    "print(\"Same as number of row ?\", df_mrn[\"record_id\"].nunique()==len(df_mrn))\n",
    "print(\"Number of participants in the Engel df:\", df_engel[\"record_id\"].nunique())\n",
    "print(\"Same as number of row ?\", df_engel[\"record_id\"].nunique()==len(df_engel))"
   ]
  },
  {
   "cell_type": "markdown",
   "metadata": {},
   "source": [
    "## Distribution of age"
   ]
  },
  {
   "cell_type": "code",
   "execution_count": 4,
   "metadata": {},
   "outputs": [
    {
     "name": "stdout",
     "output_type": "stream",
     "text": [
      "Minimum age: 2.0 \n",
      "Maximum age: 84.0\n"
     ]
    }
   ],
   "source": [
    "print(\"Minimum age:\", df_mrn[\"age\"].min(), \"\\nMaximum age:\", df_mrn[\"age\"].max())"
   ]
  },
  {
   "cell_type": "code",
   "execution_count": 5,
   "metadata": {},
   "outputs": [
    {
     "data": {
      "image/png": "[encoded data removed]",
      "text/plain": [
       "<Figure size 640x480 with 1 Axes>"
      ]
     },
     "metadata": {},
     "output_type": "display_data"
    }
   ],
   "source": [
    "# Create a histogram\n",
    "plt.hist(df_mrn[\"age\"], bins=82, color='blue', alpha=0.7)\n",
    "\n",
    "# Add labels and title\n",
    "plt.xlabel('Age')\n",
    "plt.ylabel('Frequency')\n",
    "plt.title('Age distribution')\n",
    "\n",
    "# Show the plot\n",
    "plt.show()"
   ]
  },
  {
   "cell_type": "markdown",
   "metadata": {},
   "source": [
    "## Distribution of sex/gender"
   ]
  },
  {
   "cell_type": "code",
   "execution_count": 6,
   "metadata": {},
   "outputs": [
    {
     "name": "stderr",
     "output_type": "stream",
     "text": [
      "C:\\Users\\Amaury\\AppData\\Roaming\\Python\\Python37\\site-packages\\ipykernel_launcher.py:3: SettingWithCopyWarning: \n",
      "A value is trying to be set on a copy of a slice from a DataFrame.\n",
      "Try using .loc[row_indexer,col_indexer] = value instead\n",
      "\n",
      "See the caveats in the documentation: https://pandas.pydata.org/pandas-docs/stable/user_guide/indexing.html#returning-a-view-versus-a-copy\n",
      "  This is separate from the ipykernel package so we can avoid doing imports until\n"
     ]
    },
    {
     "data": {
      "text/plain": [
       "female    345\n",
       "male      332\n",
       "Name: sex_gender, dtype: int64"
      ]
     },
     "execution_count": 6,
     "metadata": {},
     "output_type": "execute_result"
    }
   ],
   "source": [
    "# Before, 1 represented female and 2 represented male\n",
    "# Now, 0 represents female and 1 represents male\n",
    "df_mrn[\"sex_gender\"] = df_mrn[\"sex_gender\"].map({1: 0, 2: 1})\n",
    "\n",
    "# Define a mapping dictionary\n",
    "gender_mapping = {0: 'female', 1: 'male'} \n",
    "\n",
    "# Count the number of males and females in the dataset\n",
    "df_mrn[\"sex_gender\"].replace(gender_mapping).value_counts()"
   ]
  },
  {
   "cell_type": "code",
   "execution_count": 7,
   "metadata": {},
   "outputs": [
    {
     "data": {
      "text/html": [
       "<div>\n",
       "<style scoped>\n",
       "    .dataframe tbody tr th:only-of-type {\n",
       "        vertical-align: middle;\n",
       "    }\n",
       "\n",
       "    .dataframe tbody tr th {\n",
       "        vertical-align: top;\n",
       "    }\n",
       "\n",
       "    .dataframe thead th {\n",
       "        text-align: right;\n",
       "    }\n",
       "</style>\n",
       "<table border=\"1\" class=\"dataframe\">\n",
       "  <thead>\n",
       "    <tr style=\"text-align: right;\">\n",
       "      <th></th>\n",
       "      <th>record_id</th>\n",
       "      <th>redcap_repeat_instrument</th>\n",
       "      <th>redcap_repeat_instance</th>\n",
       "      <th>mrn</th>\n",
       "      <th>study_site</th>\n",
       "      <th>study_site_other</th>\n",
       "      <th>ny_num_yn</th>\n",
       "      <th>ny_num</th>\n",
       "      <th>other_study_ids</th>\n",
       "      <th>inc_crit</th>\n",
       "      <th>...</th>\n",
       "      <th>cshq_nw_z</th>\n",
       "      <th>cshq_para_raw</th>\n",
       "      <th>cshq_para_z</th>\n",
       "      <th>cshq_breath_raw</th>\n",
       "      <th>cshq_breath_z</th>\n",
       "      <th>cshq_ds_raw</th>\n",
       "      <th>cshq_ds_z</th>\n",
       "      <th>cshq_total_raw</th>\n",
       "      <th>cshq_total_z</th>\n",
       "      <th>neuropsychological_testing_complete</th>\n",
       "    </tr>\n",
       "  </thead>\n",
       "  <tbody>\n",
       "    <tr>\n",
       "      <th>2043</th>\n",
       "      <td>RSCT041607</td>\n",
       "      <td>engel_outcomes</td>\n",
       "      <td>2.0</td>\n",
       "      <td>NaN</td>\n",
       "      <td>NaN</td>\n",
       "      <td>NaN</td>\n",
       "      <td>NaN</td>\n",
       "      <td>NaN</td>\n",
       "      <td>NaN</td>\n",
       "      <td>NaN</td>\n",
       "      <td>...</td>\n",
       "      <td>NaN</td>\n",
       "      <td>NaN</td>\n",
       "      <td>NaN</td>\n",
       "      <td>NaN</td>\n",
       "      <td>NaN</td>\n",
       "      <td>NaN</td>\n",
       "      <td>NaN</td>\n",
       "      <td>NaN</td>\n",
       "      <td>NaN</td>\n",
       "      <td>NaN</td>\n",
       "    </tr>\n",
       "    <tr>\n",
       "      <th>2044</th>\n",
       "      <td>RSCT041607</td>\n",
       "      <td>engel_outcomes</td>\n",
       "      <td>3.0</td>\n",
       "      <td>NaN</td>\n",
       "      <td>NaN</td>\n",
       "      <td>NaN</td>\n",
       "      <td>NaN</td>\n",
       "      <td>NaN</td>\n",
       "      <td>NaN</td>\n",
       "      <td>NaN</td>\n",
       "      <td>...</td>\n",
       "      <td>NaN</td>\n",
       "      <td>NaN</td>\n",
       "      <td>NaN</td>\n",
       "      <td>NaN</td>\n",
       "      <td>NaN</td>\n",
       "      <td>NaN</td>\n",
       "      <td>NaN</td>\n",
       "      <td>NaN</td>\n",
       "      <td>NaN</td>\n",
       "      <td>NaN</td>\n",
       "    </tr>\n",
       "    <tr>\n",
       "      <th>2814</th>\n",
       "      <td>RSCT058378</td>\n",
       "      <td>engel_outcomes</td>\n",
       "      <td>2.0</td>\n",
       "      <td>NaN</td>\n",
       "      <td>NaN</td>\n",
       "      <td>NaN</td>\n",
       "      <td>NaN</td>\n",
       "      <td>NaN</td>\n",
       "      <td>NaN</td>\n",
       "      <td>NaN</td>\n",
       "      <td>...</td>\n",
       "      <td>NaN</td>\n",
       "      <td>NaN</td>\n",
       "      <td>NaN</td>\n",
       "      <td>NaN</td>\n",
       "      <td>NaN</td>\n",
       "      <td>NaN</td>\n",
       "      <td>NaN</td>\n",
       "      <td>NaN</td>\n",
       "      <td>NaN</td>\n",
       "      <td>NaN</td>\n",
       "    </tr>\n",
       "    <tr>\n",
       "      <th>3117</th>\n",
       "      <td>RSCT064938</td>\n",
       "      <td>engel_outcomes</td>\n",
       "      <td>2.0</td>\n",
       "      <td>NaN</td>\n",
       "      <td>NaN</td>\n",
       "      <td>NaN</td>\n",
       "      <td>NaN</td>\n",
       "      <td>NaN</td>\n",
       "      <td>NaN</td>\n",
       "      <td>NaN</td>\n",
       "      <td>...</td>\n",
       "      <td>NaN</td>\n",
       "      <td>NaN</td>\n",
       "      <td>NaN</td>\n",
       "      <td>NaN</td>\n",
       "      <td>NaN</td>\n",
       "      <td>NaN</td>\n",
       "      <td>NaN</td>\n",
       "      <td>NaN</td>\n",
       "      <td>NaN</td>\n",
       "      <td>NaN</td>\n",
       "    </tr>\n",
       "    <tr>\n",
       "      <th>3259</th>\n",
       "      <td>RSCT066862</td>\n",
       "      <td>engel_outcomes</td>\n",
       "      <td>2.0</td>\n",
       "      <td>NaN</td>\n",
       "      <td>NaN</td>\n",
       "      <td>NaN</td>\n",
       "      <td>NaN</td>\n",
       "      <td>NaN</td>\n",
       "      <td>NaN</td>\n",
       "      <td>NaN</td>\n",
       "      <td>...</td>\n",
       "      <td>NaN</td>\n",
       "      <td>NaN</td>\n",
       "      <td>NaN</td>\n",
       "      <td>NaN</td>\n",
       "      <td>NaN</td>\n",
       "      <td>NaN</td>\n",
       "      <td>NaN</td>\n",
       "      <td>NaN</td>\n",
       "      <td>NaN</td>\n",
       "      <td>NaN</td>\n",
       "    </tr>\n",
       "    <tr>\n",
       "      <th>4412</th>\n",
       "      <td>RSCT091205</td>\n",
       "      <td>engel_outcomes</td>\n",
       "      <td>2.0</td>\n",
       "      <td>NaN</td>\n",
       "      <td>NaN</td>\n",
       "      <td>NaN</td>\n",
       "      <td>NaN</td>\n",
       "      <td>NaN</td>\n",
       "      <td>NaN</td>\n",
       "      <td>NaN</td>\n",
       "      <td>...</td>\n",
       "      <td>NaN</td>\n",
       "      <td>NaN</td>\n",
       "      <td>NaN</td>\n",
       "      <td>NaN</td>\n",
       "      <td>NaN</td>\n",
       "      <td>NaN</td>\n",
       "      <td>NaN</td>\n",
       "      <td>NaN</td>\n",
       "      <td>NaN</td>\n",
       "      <td>NaN</td>\n",
       "    </tr>\n",
       "  </tbody>\n",
       "</table>\n",
       "<p>6 rows × 4677 columns</p>\n",
       "</div>"
      ],
      "text/plain": [
       "       record_id redcap_repeat_instrument  redcap_repeat_instance  mrn  \\\n",
       "2043  RSCT041607           engel_outcomes                     2.0  NaN   \n",
       "2044  RSCT041607           engel_outcomes                     3.0  NaN   \n",
       "2814  RSCT058378           engel_outcomes                     2.0  NaN   \n",
       "3117  RSCT064938           engel_outcomes                     2.0  NaN   \n",
       "3259  RSCT066862           engel_outcomes                     2.0  NaN   \n",
       "4412  RSCT091205           engel_outcomes                     2.0  NaN   \n",
       "\n",
       "      study_site  study_site_other  ny_num_yn ny_num other_study_ids  \\\n",
       "2043         NaN               NaN        NaN    NaN             NaN   \n",
       "2044         NaN               NaN        NaN    NaN             NaN   \n",
       "2814         NaN               NaN        NaN    NaN             NaN   \n",
       "3117         NaN               NaN        NaN    NaN             NaN   \n",
       "3259         NaN               NaN        NaN    NaN             NaN   \n",
       "4412         NaN               NaN        NaN    NaN             NaN   \n",
       "\n",
       "      inc_crit  ...  cshq_nw_z  cshq_para_raw  cshq_para_z  cshq_breath_raw  \\\n",
       "2043       NaN  ...        NaN            NaN          NaN              NaN   \n",
       "2044       NaN  ...        NaN            NaN          NaN              NaN   \n",
       "2814       NaN  ...        NaN            NaN          NaN              NaN   \n",
       "3117       NaN  ...        NaN            NaN          NaN              NaN   \n",
       "3259       NaN  ...        NaN            NaN          NaN              NaN   \n",
       "4412       NaN  ...        NaN            NaN          NaN              NaN   \n",
       "\n",
       "      cshq_breath_z  cshq_ds_raw  cshq_ds_z  cshq_total_raw  cshq_total_z  \\\n",
       "2043            NaN          NaN        NaN             NaN           NaN   \n",
       "2044            NaN          NaN        NaN             NaN           NaN   \n",
       "2814            NaN          NaN        NaN             NaN           NaN   \n",
       "3117            NaN          NaN        NaN             NaN           NaN   \n",
       "3259            NaN          NaN        NaN             NaN           NaN   \n",
       "4412            NaN          NaN        NaN             NaN           NaN   \n",
       "\n",
       "      neuropsychological_testing_complete  \n",
       "2043                                  NaN  \n",
       "2044                                  NaN  \n",
       "2814                                  NaN  \n",
       "3117                                  NaN  \n",
       "3259                                  NaN  \n",
       "4412                                  NaN  \n",
       "\n",
       "[6 rows x 4677 columns]"
      ]
     },
     "execution_count": 7,
     "metadata": {},
     "output_type": "execute_result"
    }
   ],
   "source": [
    "# Print patients with multiple Engel outcomes\n",
    "df_engel[df_engel['record_id'].duplicated()]"
   ]
  },
  {
   "cell_type": "markdown",
   "metadata": {},
   "source": [
    "## Distribution of Engel outcomes"
   ]
  },
  {
   "cell_type": "code",
   "execution_count": 8,
   "metadata": {},
   "outputs": [
    {
     "name": "stderr",
     "output_type": "stream",
     "text": [
      "C:\\Users\\Amaury\\AppData\\Roaming\\Python\\Python37\\site-packages\\ipykernel_launcher.py:2: SettingWithCopyWarning: \n",
      "A value is trying to be set on a copy of a slice from a DataFrame.\n",
      "Try using .loc[row_indexer,col_indexer] = value instead\n",
      "\n",
      "See the caveats in the documentation: https://pandas.pydata.org/pandas-docs/stable/user_guide/indexing.html#returning-a-view-versus-a-copy\n",
      "  \n"
     ]
    },
    {
     "data": {
      "text/html": [
       "<div>\n",
       "<style scoped>\n",
       "    .dataframe tbody tr th:only-of-type {\n",
       "        vertical-align: middle;\n",
       "    }\n",
       "\n",
       "    .dataframe tbody tr th {\n",
       "        vertical-align: top;\n",
       "    }\n",
       "\n",
       "    .dataframe thead th {\n",
       "        text-align: right;\n",
       "    }\n",
       "</style>\n",
       "<table border=\"1\" class=\"dataframe\">\n",
       "  <thead>\n",
       "    <tr style=\"text-align: right;\">\n",
       "      <th></th>\n",
       "      <th>record_id</th>\n",
       "      <th>surg_engel</th>\n",
       "    </tr>\n",
       "  </thead>\n",
       "  <tbody>\n",
       "    <tr>\n",
       "      <th>9</th>\n",
       "      <td>RSCT000111</td>\n",
       "      <td>2</td>\n",
       "    </tr>\n",
       "    <tr>\n",
       "      <th>26</th>\n",
       "      <td>RSCT000208</td>\n",
       "      <td>3</td>\n",
       "    </tr>\n",
       "    <tr>\n",
       "      <th>35</th>\n",
       "      <td>RSCT000277</td>\n",
       "      <td>4</td>\n",
       "    </tr>\n",
       "    <tr>\n",
       "      <th>40</th>\n",
       "      <td>RSCT000508</td>\n",
       "      <td>1</td>\n",
       "    </tr>\n",
       "    <tr>\n",
       "      <th>48</th>\n",
       "      <td>RSCT000749</td>\n",
       "      <td>2</td>\n",
       "    </tr>\n",
       "  </tbody>\n",
       "</table>\n",
       "</div>"
      ],
      "text/plain": [
       "     record_id  surg_engel\n",
       "9   RSCT000111           2\n",
       "26  RSCT000208           3\n",
       "35  RSCT000277           4\n",
       "40  RSCT000508           1\n",
       "48  RSCT000749           2"
      ]
     },
     "execution_count": 8,
     "metadata": {},
     "output_type": "execute_result"
    }
   ],
   "source": [
    "# Create 1 column out of the 4 dummy variables for engel outcome\n",
    "df_engel['surg_engel'] = df_engel[['surg_engel___1', 'surg_engel___2', 'surg_engel___3', 'surg_engel___4']].idxmax(axis=1).str.split('___').str[1].astype(int)\n",
    "df_engel[[\"record_id\", \"surg_engel\"]].head()"
   ]
  },
  {
   "cell_type": "code",
   "execution_count": 9,
   "metadata": {},
   "outputs": [
    {
     "data": {
      "image/png": "[encoded data removed]",
      "text/plain": [
       "<Figure size 640x480 with 1 Axes>"
      ]
     },
     "metadata": {},
     "output_type": "display_data"
    }
   ],
   "source": [
    "# Create a histogram of the 'surg_engel' variable\n",
    "plt.hist(df_engel['surg_engel'], bins=[1, 2, 3, 4, 5])  # Specify the bin edges\n",
    "\n",
    "# Customize x-axis ticks and labels\n",
    "bin_centers = [1.5, 2.5, 3.5, 4.5]\n",
    "plt.xticks(bin_centers, ['1', '2', '3', '4'])\n",
    "\n",
    "# Add labels and title\n",
    "plt.xlabel('Engel outcome')\n",
    "plt.ylabel('Frequency')\n",
    "plt.title('Distribution of Engel outcomes')\n",
    "\n",
    "# Add grid for better readability\n",
    "plt.grid(axis='y', alpha=0.75)\n",
    "\n",
    "# Show the plot\n",
    "plt.show()"
   ]
  },
  {
   "cell_type": "markdown",
   "metadata": {},
   "source": [
    "## Distribution of Race"
   ]
  },
  {
   "cell_type": "code",
   "execution_count": 29,
   "metadata": {},
   "outputs": [
    {
     "name": "stderr",
     "output_type": "stream",
     "text": [
      "C:\\Users\\Amaury\\AppData\\Roaming\\Python\\Python37\\site-packages\\ipykernel_launcher.py:2: SettingWithCopyWarning: \n",
      "A value is trying to be set on a copy of a slice from a DataFrame.\n",
      "Try using .loc[row_indexer,col_indexer] = value instead\n",
      "\n",
      "See the caveats in the documentation: https://pandas.pydata.org/pandas-docs/stable/user_guide/indexing.html#returning-a-view-versus-a-copy\n",
      "  \n"
     ]
    },
    {
     "data": {
      "text/html": [
       "<div>\n",
       "<style scoped>\n",
       "    .dataframe tbody tr th:only-of-type {\n",
       "        vertical-align: middle;\n",
       "    }\n",
       "\n",
       "    .dataframe tbody tr th {\n",
       "        vertical-align: top;\n",
       "    }\n",
       "\n",
       "    .dataframe thead th {\n",
       "        text-align: right;\n",
       "    }\n",
       "</style>\n",
       "<table border=\"1\" class=\"dataframe\">\n",
       "  <thead>\n",
       "    <tr style=\"text-align: right;\">\n",
       "      <th></th>\n",
       "      <th>record_id</th>\n",
       "      <th>race</th>\n",
       "    </tr>\n",
       "  </thead>\n",
       "  <tbody>\n",
       "    <tr>\n",
       "      <th>0</th>\n",
       "      <td>RSCT000111</td>\n",
       "      <td>1</td>\n",
       "    </tr>\n",
       "    <tr>\n",
       "      <th>12</th>\n",
       "      <td>RSCT000208</td>\n",
       "      <td>7</td>\n",
       "    </tr>\n",
       "    <tr>\n",
       "      <th>31</th>\n",
       "      <td>RSCT000277</td>\n",
       "      <td>3</td>\n",
       "    </tr>\n",
       "    <tr>\n",
       "      <th>38</th>\n",
       "      <td>RSCT000508</td>\n",
       "      <td>6</td>\n",
       "    </tr>\n",
       "    <tr>\n",
       "      <th>42</th>\n",
       "      <td>RSCT000749</td>\n",
       "      <td>3</td>\n",
       "    </tr>\n",
       "  </tbody>\n",
       "</table>\n",
       "</div>"
      ],
      "text/plain": [
       "     record_id  race\n",
       "0   RSCT000111     1\n",
       "12  RSCT000208     7\n",
       "31  RSCT000277     3\n",
       "38  RSCT000508     6\n",
       "42  RSCT000749     3"
      ]
     },
     "execution_count": 29,
     "metadata": {},
     "output_type": "execute_result"
    }
   ],
   "source": [
    "# Create 1 column out of the 7 dummy variables for race\n",
    "df_mrn['race'] = df_mrn[['race___1', 'race___2', 'race___3', 'race___4', 'race___5', 'race___6', 'race___7']].idxmax(axis=1).str.split('___').str[1].astype(int)\n",
    "df_mrn[[\"record_id\", \"race\"]].head()"
   ]
  },
  {
   "cell_type": "code",
   "execution_count": 30,
   "metadata": {},
   "outputs": [
    {
     "data": {
      "text/plain": [
       "Caucasian/White                           460\n",
       "Other                                      80\n",
       "African-American/Black                     55\n",
       "Unknown/Not-Reported                       51\n",
       "Asian                                      29\n",
       "Native Hawaiian/Other Pacific Islander      2\n",
       "Name: race, dtype: int64"
      ]
     },
     "execution_count": 30,
     "metadata": {},
     "output_type": "execute_result"
    }
   ],
   "source": [
    "# Define a mapping dictionary\n",
    "race_mapping = {1: 'African-American/Black', 2: 'Asian', 3: 'Caucasian/White', 4: 'Native American.Alaska Native', 5: 'Native Hawaiian/Other Pacific Islander', 6: 'Other', 7: 'Unknown/Not-Reported'}\n",
    "\n",
    "# Count the number of males and females in the dataset\n",
    "df_mrn[\"race\"].replace(race_mapping).value_counts()"
   ]
  },
  {
   "cell_type": "markdown",
   "metadata": {},
   "source": [
    "## Table of Na percentage per column (df_mrn)\n",
    "\n",
    "No data in df_mrn from column 380 and on"
   ]
  },
  {
   "cell_type": "code",
   "execution_count": 13,
   "metadata": {},
   "outputs": [
    {
     "name": "stdout",
     "output_type": "stream",
     "text": [
      "                                   Column  Percentage of NaN\n",
      "0                               record_id                0.0\n",
      "1                redcap_repeat_instrument              100.0\n",
      "2                  redcap_repeat_instance              100.0\n",
      "3                                     mrn                0.0\n",
      "4                              study_site                0.0\n",
      "...                                   ...                ...\n",
      "4672                          cshq_ds_raw              100.0\n",
      "4673                            cshq_ds_z              100.0\n",
      "4674                       cshq_total_raw              100.0\n",
      "4675                         cshq_total_z              100.0\n",
      "4676  neuropsychological_testing_complete              100.0\n",
      "\n",
      "[4677 rows x 2 columns]\n"
     ]
    }
   ],
   "source": [
    "# Calculate the percentage of NaN values per column\n",
    "na_percentage = (df_mrn.isna().mean() * 100).round(2)\n",
    "\n",
    "# Create a new DataFrame with the results\n",
    "na_df = pd.DataFrame({'Column': na_percentage.index, 'Percentage of NaN': na_percentage.values})\n",
    "\n",
    "# Display the resulting DataFrame\n",
    "print(na_df)\n"
   ]
  },
  {
   "cell_type": "code",
   "execution_count": 20,
   "metadata": {},
   "outputs": [
    {
     "name": "stdout",
     "output_type": "stream",
     "text": [
      "Columns with 'nan' values:\n",
      "Index([], dtype='object')\n"
     ]
    }
   ],
   "source": [
    "# Check for a value in the df\n",
    "nan_string_check = (df == \"nan\").any()\n",
    "print(\"Columns with '...' values:\")\n",
    "print(nan_string_check[nan_string_check].index)"
   ]
  },
  {
   "cell_type": "markdown",
   "metadata": {},
   "source": [
    "There appears to be 2 instance where the column \"engel_outcomes_complete\" has the value 0 instead of 2 which matches with a patient with 3 engel outcomes"
   ]
  },
  {
   "cell_type": "code",
   "execution_count": 23,
   "metadata": {},
   "outputs": [
    {
     "data": {
      "text/html": [
       "<div>\n",
       "<style scoped>\n",
       "    .dataframe tbody tr th:only-of-type {\n",
       "        vertical-align: middle;\n",
       "    }\n",
       "\n",
       "    .dataframe tbody tr th {\n",
       "        vertical-align: top;\n",
       "    }\n",
       "\n",
       "    .dataframe thead th {\n",
       "        text-align: right;\n",
       "    }\n",
       "</style>\n",
       "<table border=\"1\" class=\"dataframe\">\n",
       "  <thead>\n",
       "    <tr style=\"text-align: right;\">\n",
       "      <th></th>\n",
       "      <th>record_id</th>\n",
       "      <th>redcap_repeat_instrument</th>\n",
       "      <th>redcap_repeat_instance</th>\n",
       "      <th>mrn</th>\n",
       "      <th>study_site</th>\n",
       "      <th>study_site_other</th>\n",
       "      <th>ny_num_yn</th>\n",
       "      <th>ny_num</th>\n",
       "      <th>other_study_ids</th>\n",
       "      <th>inc_crit</th>\n",
       "      <th>...</th>\n",
       "      <th>cshq_para_raw</th>\n",
       "      <th>cshq_para_z</th>\n",
       "      <th>cshq_breath_raw</th>\n",
       "      <th>cshq_breath_z</th>\n",
       "      <th>cshq_ds_raw</th>\n",
       "      <th>cshq_ds_z</th>\n",
       "      <th>cshq_total_raw</th>\n",
       "      <th>cshq_total_z</th>\n",
       "      <th>neuropsychological_testing_complete</th>\n",
       "      <th>surg_engel</th>\n",
       "    </tr>\n",
       "  </thead>\n",
       "  <tbody>\n",
       "    <tr>\n",
       "      <th>2042</th>\n",
       "      <td>RSCT041607</td>\n",
       "      <td>engel_outcomes</td>\n",
       "      <td>1.0</td>\n",
       "      <td>NaN</td>\n",
       "      <td>NaN</td>\n",
       "      <td>NaN</td>\n",
       "      <td>NaN</td>\n",
       "      <td>NaN</td>\n",
       "      <td>NaN</td>\n",
       "      <td>NaN</td>\n",
       "      <td>...</td>\n",
       "      <td>NaN</td>\n",
       "      <td>NaN</td>\n",
       "      <td>NaN</td>\n",
       "      <td>NaN</td>\n",
       "      <td>NaN</td>\n",
       "      <td>NaN</td>\n",
       "      <td>NaN</td>\n",
       "      <td>NaN</td>\n",
       "      <td>NaN</td>\n",
       "      <td>4</td>\n",
       "    </tr>\n",
       "    <tr>\n",
       "      <th>2043</th>\n",
       "      <td>RSCT041607</td>\n",
       "      <td>engel_outcomes</td>\n",
       "      <td>2.0</td>\n",
       "      <td>NaN</td>\n",
       "      <td>NaN</td>\n",
       "      <td>NaN</td>\n",
       "      <td>NaN</td>\n",
       "      <td>NaN</td>\n",
       "      <td>NaN</td>\n",
       "      <td>NaN</td>\n",
       "      <td>...</td>\n",
       "      <td>NaN</td>\n",
       "      <td>NaN</td>\n",
       "      <td>NaN</td>\n",
       "      <td>NaN</td>\n",
       "      <td>NaN</td>\n",
       "      <td>NaN</td>\n",
       "      <td>NaN</td>\n",
       "      <td>NaN</td>\n",
       "      <td>NaN</td>\n",
       "      <td>2</td>\n",
       "    </tr>\n",
       "  </tbody>\n",
       "</table>\n",
       "<p>2 rows × 4678 columns</p>\n",
       "</div>"
      ],
      "text/plain": [
       "       record_id redcap_repeat_instrument  redcap_repeat_instance  mrn  \\\n",
       "2042  RSCT041607           engel_outcomes                     1.0  NaN   \n",
       "2043  RSCT041607           engel_outcomes                     2.0  NaN   \n",
       "\n",
       "      study_site  study_site_other  ny_num_yn ny_num other_study_ids  \\\n",
       "2042         NaN               NaN        NaN    NaN             NaN   \n",
       "2043         NaN               NaN        NaN    NaN             NaN   \n",
       "\n",
       "      inc_crit  ...  cshq_para_raw  cshq_para_z  cshq_breath_raw  \\\n",
       "2042       NaN  ...            NaN          NaN              NaN   \n",
       "2043       NaN  ...            NaN          NaN              NaN   \n",
       "\n",
       "      cshq_breath_z  cshq_ds_raw  cshq_ds_z  cshq_total_raw  cshq_total_z  \\\n",
       "2042            NaN          NaN        NaN             NaN           NaN   \n",
       "2043            NaN          NaN        NaN             NaN           NaN   \n",
       "\n",
       "      neuropsychological_testing_complete  surg_engel  \n",
       "2042                                  NaN           4  \n",
       "2043                                  NaN           2  \n",
       "\n",
       "[2 rows x 4678 columns]"
      ]
     },
     "execution_count": 23,
     "metadata": {},
     "output_type": "execute_result"
    }
   ],
   "source": [
    "df_engel[\"engel_outcomes_complete\"].unique()\n",
    "df_engel[df_engel[\"engel_outcomes_complete\"]==0]"
   ]
  },
  {
   "cell_type": "code",
   "execution_count": 24,
   "metadata": {},
   "outputs": [
    {
     "name": "stdout",
     "output_type": "stream",
     "text": [
      "                                     redcap_repeat_instance       mrn  \\\n",
      "redcap_repeat_instance                             1.000000       NaN   \n",
      "mrn                                                     NaN  1.000000   \n",
      "study_site                                              NaN       NaN   \n",
      "study_site_other                                        NaN       NaN   \n",
      "ny_num_yn                                               NaN  0.160692   \n",
      "...                                                     ...       ...   \n",
      "srs_smot_2t                                             NaN       NaN   \n",
      "srs_mann_raw_2                                          NaN       NaN   \n",
      "srs_mann_2t                                             NaN       NaN   \n",
      "cshq_comp                                         -0.055827       NaN   \n",
      "neuropsychological_testing_complete                     NaN       NaN   \n",
      "\n",
      "                                     study_site  study_site_other  ny_num_yn  \\\n",
      "redcap_repeat_instance                      NaN               NaN        NaN   \n",
      "mrn                                         NaN               NaN   0.160692   \n",
      "study_site                                  NaN               NaN        NaN   \n",
      "study_site_other                            NaN               NaN        NaN   \n",
      "ny_num_yn                                   NaN               NaN   1.000000   \n",
      "...                                         ...               ...        ...   \n",
      "srs_smot_2t                                 NaN               NaN        NaN   \n",
      "srs_mann_raw_2                              NaN               NaN        NaN   \n",
      "srs_mann_2t                                 NaN               NaN        NaN   \n",
      "cshq_comp                                   NaN               NaN        NaN   \n",
      "neuropsychological_testing_complete         NaN               NaN        NaN   \n",
      "\n",
      "                                     inc_crit   dem_yob       age  sex_gender  \\\n",
      "redcap_repeat_instance                    NaN       NaN       NaN         NaN   \n",
      "mrn                                  0.029502  0.304758 -0.300600   -0.022088   \n",
      "study_site                                NaN       NaN       NaN         NaN   \n",
      "study_site_other                          NaN       NaN       NaN         NaN   \n",
      "ny_num_yn                           -0.063413  0.077063 -0.074444    0.037461   \n",
      "...                                       ...       ...       ...         ...   \n",
      "srs_smot_2t                               NaN       NaN       NaN         NaN   \n",
      "srs_mann_raw_2                            NaN       NaN       NaN         NaN   \n",
      "srs_mann_2t                               NaN       NaN       NaN         NaN   \n",
      "cshq_comp                                 NaN       NaN       NaN         NaN   \n",
      "neuropsychological_testing_complete       NaN       NaN       NaN         NaN   \n",
      "\n",
      "                                     race___1  ...  srs_sc_2raw  srs_sc_2t  \\\n",
      "redcap_repeat_instance                    NaN  ...          NaN        NaN   \n",
      "mrn                                  0.057099  ...          NaN        NaN   \n",
      "study_site                                NaN  ...          NaN        NaN   \n",
      "study_site_other                          NaN  ...          NaN        NaN   \n",
      "ny_num_yn                           -0.034251  ...          NaN        NaN   \n",
      "...                                       ...  ...          ...        ...   \n",
      "srs_smot_2t                               NaN  ...          NaN        NaN   \n",
      "srs_mann_raw_2                            NaN  ...          NaN        NaN   \n",
      "srs_mann_2t                               NaN  ...          NaN        NaN   \n",
      "cshq_comp                                 NaN  ...          NaN        NaN   \n",
      "neuropsychological_testing_complete       NaN  ...          NaN        NaN   \n",
      "\n",
      "                                     srs_sc_raw_2  srs_sc_t2  srs_smot_raw_2  \\\n",
      "redcap_repeat_instance                        NaN        NaN             NaN   \n",
      "mrn                                           NaN        NaN             NaN   \n",
      "study_site                                    NaN        NaN             NaN   \n",
      "study_site_other                              NaN        NaN             NaN   \n",
      "ny_num_yn                                     NaN        NaN             NaN   \n",
      "...                                           ...        ...             ...   \n",
      "srs_smot_2t                                   NaN        NaN             NaN   \n",
      "srs_mann_raw_2                                NaN        NaN             NaN   \n",
      "srs_mann_2t                                   NaN        NaN             NaN   \n",
      "cshq_comp                                     NaN        NaN             NaN   \n",
      "neuropsychological_testing_complete           NaN        NaN             NaN   \n",
      "\n",
      "                                     srs_smot_2t  srs_mann_raw_2  srs_mann_2t  \\\n",
      "redcap_repeat_instance                       NaN             NaN          NaN   \n",
      "mrn                                          NaN             NaN          NaN   \n",
      "study_site                                   NaN             NaN          NaN   \n",
      "study_site_other                             NaN             NaN          NaN   \n",
      "ny_num_yn                                    NaN             NaN          NaN   \n",
      "...                                          ...             ...          ...   \n",
      "srs_smot_2t                                  NaN             NaN          NaN   \n",
      "srs_mann_raw_2                               NaN             NaN          NaN   \n",
      "srs_mann_2t                                  NaN             NaN          NaN   \n",
      "cshq_comp                                    NaN             NaN          NaN   \n",
      "neuropsychological_testing_complete          NaN             NaN          NaN   \n",
      "\n",
      "                                     cshq_comp  \\\n",
      "redcap_repeat_instance               -0.055827   \n",
      "mrn                                        NaN   \n",
      "study_site                                 NaN   \n",
      "study_site_other                           NaN   \n",
      "ny_num_yn                                  NaN   \n",
      "...                                        ...   \n",
      "srs_smot_2t                                NaN   \n",
      "srs_mann_raw_2                             NaN   \n",
      "srs_mann_2t                                NaN   \n",
      "cshq_comp                             1.000000   \n",
      "neuropsychological_testing_complete        NaN   \n",
      "\n",
      "                                     neuropsychological_testing_complete  \n",
      "redcap_repeat_instance                                               NaN  \n",
      "mrn                                                                  NaN  \n",
      "study_site                                                           NaN  \n",
      "study_site_other                                                     NaN  \n",
      "ny_num_yn                                                            NaN  \n",
      "...                                                                  ...  \n",
      "srs_smot_2t                                                          NaN  \n",
      "srs_mann_raw_2                                                       NaN  \n",
      "srs_mann_2t                                                          NaN  \n",
      "cshq_comp                                                            NaN  \n",
      "neuropsychological_testing_complete                                  NaN  \n",
      "\n",
      "[3248 rows x 3248 columns]\n"
     ]
    }
   ],
   "source": [
    "import seaborn as sns\n",
    "\n",
    "# Calculate correlation matrix\n",
    "correlation_matrix = df.corr()\n",
    "\n",
    "# Plot a heatmap of the correlation matrix\n",
    "sns.heatmap(correlation_matrix, annot=True, cmap='coolwarm', fmt='.2f', linewidths=.5)\n",
    "plt.title('Correlation Matrix')\n",
    "plt.show()"
   ]
  }
 ],
 "metadata": {
  "kernelspec": {
   "display_name": "Python 3",
   "language": "python",
   "name": "python3"
  },
  "language_info": {
   "codemirror_mode": {
    "name": "ipython",
    "version": 3
   },
   "file_extension": ".py",
   "mimetype": "text/x-python",
   "name": "python",
   "nbconvert_exporter": "python",
   "pygments_lexer": "ipython3",
   "version": "3.7.2"
  }
 },
 "nbformat": 4,
 "nbformat_minor": 2
}
